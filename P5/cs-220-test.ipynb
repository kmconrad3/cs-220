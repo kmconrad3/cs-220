{
 "cells": [
  {
   "cell_type": "code",
   "execution_count": 1,
   "metadata": {
    "execution": {
     "iopub.execute_input": "2021-02-28T01:35:03.884898Z",
     "iopub.status.busy": "2021-02-28T01:35:03.883710Z",
     "iopub.status.idle": "2021-02-28T01:35:03.886618Z",
     "shell.execute_reply": "2021-02-28T01:35:03.887394Z"
    }
   },
   "outputs": [],
   "source": [
    "# project: p5\n",
    "# submitter: Kmconrad3\n",
    "# partner: Aivah Roubal\n",
    "# hours: 2"
   ]
  },
  {
   "cell_type": "code",
   "execution_count": 2,
   "metadata": {
    "execution": {
     "iopub.execute_input": "2021-02-28T01:35:03.891964Z",
     "iopub.status.busy": "2021-02-28T01:35:03.891225Z",
     "iopub.status.idle": "2021-02-28T01:35:03.905281Z",
     "shell.execute_reply": "2021-02-28T01:35:03.906081Z"
    }
   },
   "outputs": [
    {
     "data": {
      "text/plain": [
       "133"
      ]
     },
     "execution_count": 1,
     "metadata": {},
     "output_type": "execute_result"
    }
   ],
   "source": [
    "#q1\n",
    "import project\n",
    "\n",
    "project.count()"
   ]
  },
  {
   "cell_type": "code",
   "execution_count": 3,
   "metadata": {
    "execution": {
     "iopub.execute_input": "2021-02-28T01:35:03.910755Z",
     "iopub.status.busy": "2021-02-28T01:35:03.909972Z",
     "iopub.status.idle": "2021-02-28T01:35:03.913143Z",
     "shell.execute_reply": "2021-02-28T01:35:03.913838Z"
    }
   },
   "outputs": [
    {
     "data": {
      "text/plain": [
       "'Dora'"
      ]
     },
     "execution_count": 1,
     "metadata": {},
     "output_type": "execute_result"
    }
   ],
   "source": [
    "#q2 \n",
    "project.get_name(20)"
   ]
  },
  {
   "cell_type": "code",
   "execution_count": 4,
   "metadata": {
    "execution": {
     "iopub.execute_input": "2021-02-28T01:35:03.919702Z",
     "iopub.status.busy": "2021-02-28T01:35:03.918809Z",
     "iopub.status.idle": "2021-02-28T01:35:03.921892Z",
     "shell.execute_reply": "2021-02-28T01:35:03.922587Z"
    }
   },
   "outputs": [
    {
     "data": {
      "text/plain": [
       "1"
      ]
     },
     "execution_count": 1,
     "metadata": {},
     "output_type": "execute_result"
    }
   ],
   "source": [
    "#q3\n",
    "project.get_deaths(project.count()-1)"
   ]
  },
  {
   "cell_type": "code",
   "execution_count": 5,
   "metadata": {
    "execution": {
     "iopub.execute_input": "2021-02-28T01:35:03.928377Z",
     "iopub.status.busy": "2021-02-28T01:35:03.927526Z",
     "iopub.status.idle": "2021-02-28T01:35:03.930713Z",
     "shell.execute_reply": "2021-02-28T01:35:03.931455Z"
    }
   },
   "outputs": [
    {
     "data": {
      "text/plain": [
       "3"
      ]
     },
     "execution_count": 1,
     "metadata": {},
     "output_type": "execute_result"
    }
   ],
   "source": [
    "#q4\n",
    "\n",
    "def amountnames(name):\n",
    "    i=0\n",
    "    for x in range(project.count()):\n",
    "        if project.get_name(x).lower()==name:\n",
    "            i+=1\n",
    "    return i\n",
    "\n",
    "amountnames('florence')"
   ]
  },
  {
   "cell_type": "code",
   "execution_count": 6,
   "metadata": {
    "execution": {
     "iopub.execute_input": "2021-02-28T01:35:03.939136Z",
     "iopub.status.busy": "2021-02-28T01:35:03.938172Z",
     "iopub.status.idle": "2021-02-28T01:35:03.941127Z",
     "shell.execute_reply": "2021-02-28T01:35:03.941813Z"
    }
   },
   "outputs": [
    {
     "data": {
      "text/plain": [
       "'Floyd'"
      ]
     },
     "execution_count": 1,
     "metadata": {},
     "output_type": "execute_result"
    }
   ],
   "source": [
    "#q5\n",
    "def slowesthur():\n",
    "    slowestmph=project.get_mph(0)\n",
    "    slowestname=None\n",
    "    for val in project.__hurricane__:\n",
    "        if project.__hurricane__.index(val)==(project.count()-1):\n",
    "            break\n",
    "        if project.get_mph(project.__hurricane__.index(val))<slowestmph:\n",
    "            slowestmph=project.get_mph(project.__hurricane__.index(val))\n",
    "            slowestname=project.get_name(project.__hurricane__.index(val))\n",
    "    return slowestname\n",
    "\n",
    "slowesthur()"
   ]
  },
  {
   "cell_type": "code",
   "execution_count": 7,
   "metadata": {
    "execution": {
     "iopub.execute_input": "2021-02-28T01:35:03.948807Z",
     "iopub.status.busy": "2021-02-28T01:35:03.947894Z",
     "iopub.status.idle": "2021-02-28T01:35:03.951139Z",
     "shell.execute_reply": "2021-02-28T01:35:03.951898Z"
    }
   },
   "outputs": [
    {
     "data": {
      "text/plain": [
       "190"
      ]
     },
     "execution_count": 1,
     "metadata": {},
     "output_type": "execute_result"
    }
   ],
   "source": [
    "#q6\n",
    "def fastesthur():\n",
    "    fastestmph=project.get_mph(0)\n",
    "    for val in project.__hurricane__:\n",
    "        if project.__hurricane__.index(val)==(project.count()-1):\n",
    "            break\n",
    "        if project.get_mph(project.__hurricane__.index(val))>fastestmph:\n",
    "            fastestmph=project.get_mph(project.__hurricane__.index(val))\n",
    "    return fastestmph\n",
    "    \n",
    "fastesthur()"
   ]
  },
  {
   "cell_type": "code",
   "execution_count": 8,
   "metadata": {
    "execution": {
     "iopub.execute_input": "2021-02-28T01:35:03.959868Z",
     "iopub.status.busy": "2021-02-28T01:35:03.959017Z",
     "iopub.status.idle": "2021-02-28T01:35:03.962027Z",
     "shell.execute_reply": "2021-02-28T01:35:03.962717Z"
    }
   },
   "outputs": [
    {
     "data": {
      "text/plain": [
       "6502484699.2481"
      ]
     },
     "execution_count": 1,
     "metadata": {},
     "output_type": "execute_result"
    }
   ],
   "source": [
    "#q7\n",
    "def format_damage(damage):\n",
    "    if damage.find('K')>-1:\n",
    "        damage=damage[:-1]\n",
    "        return float(damage)*1000\n",
    "    elif damage.find('M')>-1:\n",
    "        damage=damage[:-1]\n",
    "        return float(damage)*1000000\n",
    "    elif damage.find('B')>-1:\n",
    "        damage=damage[:-1]\n",
    "        return float(damage)*1000000000\n",
    "    else:\n",
    "        pass\n",
    "\n",
    "def avgdam():\n",
    "    totaldam=0\n",
    "    for val in project.__hurricane__:\n",
    "        totaldam+=format_damage(project.get_damage(project.__hurricane__.index(val)))\n",
    "    return round(totaldam/project.count(),4)\n",
    "\n",
    "avgdam()"
   ]
  },
  {
   "cell_type": "code",
   "execution_count": 9,
   "metadata": {
    "execution": {
     "iopub.execute_input": "2021-02-28T01:35:03.968305Z",
     "iopub.status.busy": "2021-02-28T01:35:03.967408Z",
     "iopub.status.idle": "2021-02-28T01:35:03.970315Z",
     "shell.execute_reply": "2021-02-28T01:35:03.971020Z"
    }
   },
   "outputs": [
    {
     "data": {
      "text/plain": [
       "112"
      ]
     },
     "execution_count": 1,
     "metadata": {},
     "output_type": "execute_result"
    }
   ],
   "source": [
    "#q8\n",
    "def deathbyname(name):\n",
    "    i=0\n",
    "    while i<project.count():\n",
    "        if project.get_name(i)==name:\n",
    "            return project.get_deaths(i)\n",
    "        i+=1\n",
    "    \n",
    "deathbyname('Gustav')"
   ]
  },
  {
   "cell_type": "code",
   "execution_count": 10,
   "metadata": {
    "execution": {
     "iopub.execute_input": "2021-02-28T01:35:03.977459Z",
     "iopub.status.busy": "2021-02-28T01:35:03.976573Z",
     "iopub.status.idle": "2021-02-28T01:35:03.979764Z",
     "shell.execute_reply": "2021-02-28T01:35:03.980457Z"
    }
   },
   "outputs": [
    {
     "data": {
      "text/plain": [
       "670"
      ]
     },
     "execution_count": 1,
     "metadata": {},
     "output_type": "execute_result"
    }
   ],
   "source": [
    "#q9\n",
    "def deathsofval(letter):\n",
    "    death=0\n",
    "    for val in project.__hurricane__:\n",
    "        if project.get_name(project.__hurricane__.index(val)).lower().find(letter)==0:\n",
    "            death+=project.get_deaths(project.__hurricane__.index(val))\n",
    "    return death\n",
    "        \n",
    "deathsofval('c')"
   ]
  },
  {
   "cell_type": "code",
   "execution_count": 11,
   "metadata": {
    "execution": {
     "iopub.execute_input": "2021-02-28T01:35:03.987530Z",
     "iopub.status.busy": "2021-02-28T01:35:03.986582Z",
     "iopub.status.idle": "2021-02-28T01:35:03.990080Z",
     "shell.execute_reply": "2021-02-28T01:35:03.991007Z"
    }
   },
   "outputs": [
    {
     "data": {
      "text/plain": [
       "'Inez'"
      ]
     },
     "execution_count": 1,
     "metadata": {},
     "output_type": "execute_result"
    }
   ],
   "source": [
    "#q10\n",
    "def get_year(date):\n",
    "    return int(date[slice(6,10)])\n",
    "\n",
    "def deadliest_in_range(year1=0, year2=2021):\n",
    "    worst_idx = None\n",
    "    for i in range(project.count()):\n",
    "        if get_year(project.get_formed(i))>=year1 and get_year(project.get_formed(i))<=year2:\n",
    "            if (worst_idx == None) or (project.get_deaths(worst_idx)<project.get_deaths(i)):\n",
    "                worst_idx = i\n",
    "    return worst_idx\n",
    "\n",
    "project.get_name(deadliest_in_range(1901,2000))"
   ]
  },
  {
   "cell_type": "code",
   "execution_count": 12,
   "metadata": {
    "execution": {
     "iopub.execute_input": "2021-02-28T01:35:03.996009Z",
     "iopub.status.busy": "2021-02-28T01:35:03.995203Z",
     "iopub.status.idle": "2021-02-28T01:35:03.998272Z",
     "shell.execute_reply": "2021-02-28T01:35:03.998983Z"
    }
   },
   "outputs": [
    {
     "data": {
      "text/plain": [
       "'San Ciriaco'"
      ]
     },
     "execution_count": 1,
     "metadata": {},
     "output_type": "execute_result"
    }
   ],
   "source": [
    "#q11\n",
    "project.get_name(deadliest_in_range())"
   ]
  },
  {
   "cell_type": "code",
   "execution_count": 13,
   "metadata": {
    "execution": {
     "iopub.execute_input": "2021-02-28T01:35:04.003924Z",
     "iopub.status.busy": "2021-02-28T01:35:04.003152Z",
     "iopub.status.idle": "2021-02-28T01:35:04.006427Z",
     "shell.execute_reply": "2021-02-28T01:35:04.007126Z"
    }
   },
   "outputs": [
    {
     "data": {
      "text/plain": [
       "1899"
      ]
     },
     "execution_count": 1,
     "metadata": {},
     "output_type": "execute_result"
    }
   ],
   "source": [
    "#q12\n",
    "get_year(project.get_formed(deadliest_in_range(1800,2016)))"
   ]
  },
  {
   "cell_type": "code",
   "execution_count": 14,
   "metadata": {
    "execution": {
     "iopub.execute_input": "2021-02-28T01:35:04.013588Z",
     "iopub.status.busy": "2021-02-28T01:35:04.012768Z",
     "iopub.status.idle": "2021-02-28T01:35:04.015683Z",
     "shell.execute_reply": "2021-02-28T01:35:04.016383Z"
    }
   },
   "outputs": [
    {
     "data": {
      "text/plain": [
       "226500000.0"
      ]
     },
     "execution_count": 1,
     "metadata": {},
     "output_type": "execute_result"
    }
   ],
   "source": [
    "#q13\n",
    "def deadliestcost_range(year1=0, year2=2021):\n",
    "    worst_idx = None\n",
    "    for i in range(project.count()):\n",
    "        if get_year(project.get_formed(i))>year1 and get_year(project.get_formed(i))<=year2:\n",
    "            if (worst_idx == None) or (project.get_deaths(worst_idx)<project.get_deaths(i)):\n",
    "                worst_idx = i\n",
    "    return project.get_damage(worst_idx)\n",
    "\n",
    "format_damage(deadliestcost_range(1901,2000))"
   ]
  },
  {
   "cell_type": "code",
   "execution_count": 15,
   "metadata": {
    "execution": {
     "iopub.execute_input": "2021-02-28T01:35:04.022782Z",
     "iopub.status.busy": "2021-02-28T01:35:04.021813Z",
     "iopub.status.idle": "2021-02-28T01:35:04.024965Z",
     "shell.execute_reply": "2021-02-28T01:35:04.025674Z"
    }
   },
   "outputs": [
    {
     "data": {
      "text/plain": [
       "1"
      ]
     },
     "execution_count": 1,
     "metadata": {},
     "output_type": "execute_result"
    }
   ],
   "source": [
    "#q14\n",
    "def get_month(date):\n",
    "    return int(date[:2])\n",
    "\n",
    "def hurricanes_in_month(mm1,mm2=None):\n",
    "    if mm2==None:\n",
    "        mm2=mm1\n",
    "    num_of_hurricanes = 0\n",
    "    for i in range(project.count()):\n",
    "        if get_month(project.get_formed(i))>=mm1 and get_month(project.get_formed(i))<=mm2:\n",
    "            num_of_hurricanes+=1\n",
    "    return num_of_hurricanes\n",
    "\n",
    "hurricanes_in_month(2)"
   ]
  },
  {
   "cell_type": "code",
   "execution_count": 16,
   "metadata": {
    "execution": {
     "iopub.execute_input": "2021-02-28T01:35:04.030526Z",
     "iopub.status.busy": "2021-02-28T01:35:04.029675Z",
     "iopub.status.idle": "2021-02-28T01:35:04.032776Z",
     "shell.execute_reply": "2021-02-28T01:35:04.033473Z"
    }
   },
   "outputs": [
    {
     "data": {
      "text/plain": [
       "118"
      ]
     },
     "execution_count": 1,
     "metadata": {},
     "output_type": "execute_result"
    }
   ],
   "source": [
    "#q15 \n",
    "hurricanes_in_month(6,10)"
   ]
  },
  {
   "cell_type": "code",
   "execution_count": 17,
   "metadata": {
    "execution": {
     "iopub.execute_input": "2021-02-28T01:35:04.042213Z",
     "iopub.status.busy": "2021-02-28T01:35:04.041270Z",
     "iopub.status.idle": "2021-02-28T01:35:04.044536Z",
     "shell.execute_reply": "2021-02-28T01:35:04.045224Z"
    }
   },
   "outputs": [
    {
     "data": {
      "text/plain": [
       "9"
      ]
     },
     "execution_count": 1,
     "metadata": {},
     "output_type": "execute_result"
    }
   ],
   "source": [
    "#q16\n",
    "def mostinmonth():\n",
    "    most=0\n",
    "    for i in range(1,12):\n",
    "        if hurricanes_in_month(i)>hurricanes_in_month(most):\n",
    "            most=i\n",
    "    return most\n",
    "            \n",
    "mostinmonth()"
   ]
  },
  {
   "cell_type": "code",
   "execution_count": 18,
   "metadata": {
    "execution": {
     "iopub.execute_input": "2021-02-28T01:35:04.051650Z",
     "iopub.status.busy": "2021-02-28T01:35:04.050710Z",
     "iopub.status.idle": "2021-02-28T01:35:04.053732Z",
     "shell.execute_reply": "2021-02-28T01:35:04.054427Z"
    }
   },
   "outputs": [
    {
     "data": {
      "text/plain": [
       "295500000.0"
      ]
     },
     "execution_count": 1,
     "metadata": {},
     "output_type": "execute_result"
    }
   ],
   "source": [
    "#q17\n",
    "def hurricanesdamage(mm1,mm2=None):\n",
    "    if mm2==None:\n",
    "        mm2=mm1\n",
    "    totaldam=0\n",
    "    for i in range(project.count()):\n",
    "        if get_month(project.get_formed(i))>=mm1 and get_month(project.get_formed(i))<=mm2:\n",
    "            totaldam+= format_damage(project.get_damage(i))\n",
    "    return totaldam\n",
    "\n",
    "hurricanesdamage(1)"
   ]
  },
  {
   "cell_type": "code",
   "execution_count": 19,
   "metadata": {
    "execution": {
     "iopub.execute_input": "2021-02-28T01:35:04.060597Z",
     "iopub.status.busy": "2021-02-28T01:35:04.059750Z",
     "iopub.status.idle": "2021-02-28T01:35:04.062855Z",
     "shell.execute_reply": "2021-02-28T01:35:04.063552Z"
    }
   },
   "outputs": [
    {
     "data": {
      "text/plain": [
       "25"
      ]
     },
     "execution_count": 1,
     "metadata": {},
     "output_type": "execute_result"
    }
   ],
   "source": [
    "#q18\n",
    "def hurricanes_in_year(yr1,yr2=None):\n",
    "    if yr2==None:\n",
    "        yr2=yr1\n",
    "    num_of_hurricanes = 0\n",
    "    for i in range(project.count()):\n",
    "        if get_year(project.get_formed(i))>=yr1 and get_year(project.get_formed(i))<=yr2:\n",
    "            num_of_hurricanes+=1\n",
    "    return num_of_hurricanes\n",
    "\n",
    "hurricanes_in_year(2001,2010)"
   ]
  },
  {
   "cell_type": "code",
   "execution_count": 20,
   "metadata": {
    "execution": {
     "iopub.execute_input": "2021-02-28T01:35:04.069933Z",
     "iopub.status.busy": "2021-02-28T01:35:04.069039Z",
     "iopub.status.idle": "2021-02-28T01:35:04.072115Z",
     "shell.execute_reply": "2021-02-28T01:35:04.072885Z"
    }
   },
   "outputs": [
    {
     "data": {
      "text/plain": [
       "1"
      ]
     },
     "execution_count": 1,
     "metadata": {},
     "output_type": "execute_result"
    }
   ],
   "source": [
    "#q19\n",
    "def get_day(date):\n",
    "    return int(date[slice(3,5)])\n",
    "\n",
    "def hurricanes_onday():\n",
    "    num_of_hurricanes = 0\n",
    "    for i in range(project.count()):\n",
    "        if get_year(project.get_formed(i))<get_year(project.get_dissipated(i)):\n",
    "            num_of_hurricanes+=1\n",
    "    return num_of_hurricanes\n",
    "        \n",
    "hurricanes_onday()"
   ]
  },
  {
   "cell_type": "code",
   "execution_count": 21,
   "metadata": {
    "execution": {
     "iopub.execute_input": "2021-02-28T01:35:04.113280Z",
     "iopub.status.busy": "2021-02-28T01:35:04.112413Z",
     "iopub.status.idle": "2021-02-28T01:35:04.115731Z",
     "shell.execute_reply": "2021-02-28T01:35:04.116426Z"
    }
   },
   "outputs": [
    {
     "data": {
      "text/plain": [
       "2004"
      ]
     },
     "execution_count": 1,
     "metadata": {},
     "output_type": "execute_result"
    }
   ],
   "source": [
    "#q20\n",
    "def mostinyr():\n",
    "    most=0\n",
    "    for i in range(project.count()):\n",
    "        if hurricanes_in_year(get_year(project.get_formed(i)))>hurricanes_in_year(most):\n",
    "            most=get_year(project.get_formed(i))\n",
    "    return most\n",
    "            \n",
    "mostinyr()"
   ]
  },
  {
   "cell_type": "code",
   "execution_count": null,
   "metadata": {},
   "outputs": [],
   "source": []
  }
 ],
 "metadata": {
  "kernelspec": {
   "display_name": "Python 3",
   "language": "python",
   "name": "python3"
  },
  "language_info": {
   "codemirror_mode": {
    "name": "ipython",
    "version": 3
   },
   "file_extension": ".py",
   "mimetype": "text/x-python",
   "name": "python",
   "nbconvert_exporter": "python",
   "pygments_lexer": "ipython3",
   "version": "3.8.5"
  }
 },
 "nbformat": 4,
 "nbformat_minor": 4
}
