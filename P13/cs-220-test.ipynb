{
 "cells": [
  {
   "cell_type": "code",
   "execution_count": 1,
   "metadata": {
    "execution": {
     "iopub.execute_input": "2021-04-29T05:10:42.139581Z",
     "iopub.status.busy": "2021-04-29T05:10:42.138246Z",
     "iopub.status.idle": "2021-04-29T05:10:42.140599Z",
     "shell.execute_reply": "2021-04-29T05:10:42.141471Z"
    }
   },
   "outputs": [],
   "source": [
    "# project: p13\n",
    "# submitter: Kmconrad3\n",
    "# partner: Akroubal\n",
    "# hours: 8"
   ]
  },
  {
   "cell_type": "code",
   "execution_count": 2,
   "metadata": {
    "execution": {
     "iopub.execute_input": "2021-04-29T05:10:42.147981Z",
     "iopub.status.busy": "2021-04-29T05:10:42.146606Z",
     "iopub.status.idle": "2021-04-29T05:10:42.600398Z",
     "shell.execute_reply": "2021-04-29T05:10:42.600942Z"
    }
   },
   "outputs": [],
   "source": [
    "import requests, math, json, sqlite3\n",
    "import os, pandas as pd\n",
    "from pandas import DataFrame\n",
    "from bs4 import BeautifulSoup"
   ]
  },
  {
   "cell_type": "code",
   "execution_count": 3,
   "metadata": {
    "execution": {
     "iopub.execute_input": "2021-04-29T05:10:42.608995Z",
     "iopub.status.busy": "2021-04-29T05:10:42.607923Z",
     "iopub.status.idle": "2021-04-29T05:10:42.610761Z",
     "shell.execute_reply": "2021-04-29T05:10:42.611241Z"
    }
   },
   "outputs": [],
   "source": [
    "def download(filename, url):\n",
    "    #we don't download again if the file already exists\n",
    "    if os.path.exists(filename):\n",
    "        return (str(filename) + \" already exists!\") \n",
    "    r = requests.get(url)\n",
    "    r.raise_for_status()\n",
    "    f = open(filename, 'wb')\n",
    "    f.write(r.content)\n",
    "    f.close()      \n",
    "    return (str(filename) + \" created!\")\n",
    "\n",
    "download('countries.json', 'https://raw.githubusercontent.com/msyamkumar/cs220-s21-projects/master/p12/countries.json')\n",
    "\n",
    "def scatter(x, y, xlabel=\"please label me!\", ylabel=\"please label me!\"):\n",
    "    df = pd.DataFrame({\"x\":x, \"y\":y})\n",
    "    ax = df.plot.scatter(x=\"x\", y=\"y\", color=\"black\", fontsize=16, xlim=0, ylim=0)\n",
    "    ax.set_xlabel(xlabel, fontsize=16)\n",
    "    ax.set_ylabel(ylabel, fontsize=16)\n",
    "    ax.get_xaxis().get_major_formatter().set_scientific(False)\n",
    "    ax.get_yaxis().get_major_formatter().set_scientific(False)"
   ]
  },
  {
   "cell_type": "code",
   "execution_count": 4,
   "metadata": {
    "execution": {
     "iopub.execute_input": "2021-04-29T05:10:42.616071Z",
     "iopub.status.busy": "2021-04-29T05:10:42.615278Z",
     "iopub.status.idle": "2021-04-29T05:10:42.652302Z",
     "shell.execute_reply": "2021-04-29T05:10:42.652844Z"
    }
   },
   "outputs": [
    {
     "data": {
      "text/html": [
       "<div>\n",
       "<style scoped>\n",
       "    .dataframe tbody tr th:only-of-type {\n",
       "        vertical-align: middle;\n",
       "    }\n",
       "\n",
       "    .dataframe tbody tr th {\n",
       "        vertical-align: top;\n",
       "    }\n",
       "\n",
       "    .dataframe thead th {\n",
       "        text-align: right;\n",
       "    }\n",
       "</style>\n",
       "<table border=\"1\" class=\"dataframe\">\n",
       "  <thead>\n",
       "    <tr style=\"text-align: right;\">\n",
       "      <th></th>\n",
       "      <th>area</th>\n",
       "      <th>birth-rate</th>\n",
       "      <th>coastline</th>\n",
       "      <th>continent</th>\n",
       "      <th>country</th>\n",
       "      <th>death-rate</th>\n",
       "      <th>gdp-per-capita</th>\n",
       "      <th>infant-mortality</th>\n",
       "      <th>literacy</th>\n",
       "      <th>net-migration</th>\n",
       "      <th>phones</th>\n",
       "      <th>population</th>\n",
       "      <th>region</th>\n",
       "    </tr>\n",
       "  </thead>\n",
       "  <tbody>\n",
       "    <tr>\n",
       "      <th>0</th>\n",
       "      <td>756950</td>\n",
       "      <td>15.23</td>\n",
       "      <td>0.85</td>\n",
       "      <td>South America</td>\n",
       "      <td>Chile</td>\n",
       "      <td>5.81</td>\n",
       "      <td>9900</td>\n",
       "      <td>8.80</td>\n",
       "      <td>96,2</td>\n",
       "      <td>0.00</td>\n",
       "      <td>213,0</td>\n",
       "      <td>16134219</td>\n",
       "      <td>LATIN AMER. &amp; CARIB</td>\n",
       "    </tr>\n",
       "    <tr>\n",
       "      <th>1</th>\n",
       "      <td>665</td>\n",
       "      <td>17.80</td>\n",
       "      <td>24.21</td>\n",
       "      <td>Asia</td>\n",
       "      <td>Bahrain</td>\n",
       "      <td>4.14</td>\n",
       "      <td>16900</td>\n",
       "      <td>17.27</td>\n",
       "      <td>89,1</td>\n",
       "      <td>1.05</td>\n",
       "      <td>281,3</td>\n",
       "      <td>698585</td>\n",
       "      <td>NEAR EAST</td>\n",
       "    </tr>\n",
       "    <tr>\n",
       "      <th>2</th>\n",
       "      <td>22966</td>\n",
       "      <td>28.84</td>\n",
       "      <td>1.68</td>\n",
       "      <td>North America</td>\n",
       "      <td>Belize</td>\n",
       "      <td>5.72</td>\n",
       "      <td>4900</td>\n",
       "      <td>25.69</td>\n",
       "      <td>94,1</td>\n",
       "      <td>0.00</td>\n",
       "      <td>115,7</td>\n",
       "      <td>287730</td>\n",
       "      <td>LATIN AMER. &amp; CARIB</td>\n",
       "    </tr>\n",
       "    <tr>\n",
       "      <th>3</th>\n",
       "      <td>582650</td>\n",
       "      <td>39.72</td>\n",
       "      <td>0.09</td>\n",
       "      <td>Africa</td>\n",
       "      <td>Kenya</td>\n",
       "      <td>14.02</td>\n",
       "      <td>1000</td>\n",
       "      <td>61.47</td>\n",
       "      <td>85,1</td>\n",
       "      <td>-0.10</td>\n",
       "      <td>8,1</td>\n",
       "      <td>34707817</td>\n",
       "      <td>SUB-SAHARAN AFRICA</td>\n",
       "    </tr>\n",
       "    <tr>\n",
       "      <th>4</th>\n",
       "      <td>11854</td>\n",
       "      <td>33.05</td>\n",
       "      <td>3.12</td>\n",
       "      <td>Australia</td>\n",
       "      <td>Marshall Islands</td>\n",
       "      <td>4.78</td>\n",
       "      <td>1600</td>\n",
       "      <td>29.45</td>\n",
       "      <td>93,7</td>\n",
       "      <td>-6.04</td>\n",
       "      <td>91,2</td>\n",
       "      <td>60422</td>\n",
       "      <td>OCEANIA</td>\n",
       "    </tr>\n",
       "  </tbody>\n",
       "</table>\n",
       "</div>"
      ],
      "text/plain": [
       "     area  birth-rate  coastline      continent           country  death-rate  \\\n",
       "0  756950       15.23       0.85  South America             Chile        5.81   \n",
       "1     665       17.80      24.21           Asia           Bahrain        4.14   \n",
       "2   22966       28.84       1.68  North America            Belize        5.72   \n",
       "3  582650       39.72       0.09         Africa             Kenya       14.02   \n",
       "4   11854       33.05       3.12      Australia  Marshall Islands        4.78   \n",
       "\n",
       "   gdp-per-capita  infant-mortality literacy  net-migration phones  \\\n",
       "0            9900              8.80     96,2           0.00  213,0   \n",
       "1           16900             17.27     89,1           1.05  281,3   \n",
       "2            4900             25.69     94,1           0.00  115,7   \n",
       "3            1000             61.47     85,1          -0.10    8,1   \n",
       "4            1600             29.45     93,7          -6.04   91,2   \n",
       "\n",
       "   population               region  \n",
       "0    16134219  LATIN AMER. & CARIB  \n",
       "1      698585            NEAR EAST  \n",
       "2      287730  LATIN AMER. & CARIB  \n",
       "3    34707817   SUB-SAHARAN AFRICA  \n",
       "4       60422              OCEANIA  "
      ]
     },
     "execution_count": 1,
     "metadata": {},
     "output_type": "execute_result"
    }
   ],
   "source": [
    "countries = pd.read_json(\"countries.json\")\n",
    "countries.head()"
   ]
  },
  {
   "cell_type": "code",
   "execution_count": 5,
   "metadata": {
    "execution": {
     "iopub.execute_input": "2021-04-29T05:10:42.657613Z",
     "iopub.status.busy": "2021-04-29T05:10:42.656812Z",
     "iopub.status.idle": "2021-04-29T05:10:42.673400Z",
     "shell.execute_reply": "2021-04-29T05:10:42.673935Z"
    }
   },
   "outputs": [],
   "source": [
    "conn = sqlite3.connect('countries.db')\n",
    "countries.to_sql(\"countries\", conn, if_exists=\"replace\", index=False)"
   ]
  },
  {
   "cell_type": "code",
   "execution_count": 6,
   "metadata": {
    "execution": {
     "iopub.execute_input": "2021-04-29T05:10:42.678588Z",
     "iopub.status.busy": "2021-04-29T05:10:42.677835Z",
     "iopub.status.idle": "2021-04-29T05:10:42.737487Z",
     "shell.execute_reply": "2021-04-29T05:10:42.738048Z"
    }
   },
   "outputs": [
    {
     "data": {
      "text/html": [
       "<div>\n",
       "<style scoped>\n",
       "    .dataframe tbody tr th:only-of-type {\n",
       "        vertical-align: middle;\n",
       "    }\n",
       "\n",
       "    .dataframe tbody tr th {\n",
       "        vertical-align: top;\n",
       "    }\n",
       "\n",
       "    .dataframe thead th {\n",
       "        text-align: right;\n",
       "    }\n",
       "</style>\n",
       "<table border=\"1\" class=\"dataframe\">\n",
       "  <thead>\n",
       "    <tr style=\"text-align: right;\">\n",
       "      <th></th>\n",
       "      <th>area</th>\n",
       "      <th>birth-rate</th>\n",
       "      <th>coastline</th>\n",
       "      <th>continent</th>\n",
       "      <th>country</th>\n",
       "      <th>death-rate</th>\n",
       "      <th>gdp-per-capita</th>\n",
       "      <th>infant-mortality</th>\n",
       "      <th>literacy</th>\n",
       "      <th>net-migration</th>\n",
       "      <th>phones</th>\n",
       "      <th>population</th>\n",
       "      <th>region</th>\n",
       "    </tr>\n",
       "  </thead>\n",
       "  <tbody>\n",
       "    <tr>\n",
       "      <th>0</th>\n",
       "      <td>756950</td>\n",
       "      <td>15.23</td>\n",
       "      <td>0.85</td>\n",
       "      <td>South America</td>\n",
       "      <td>Chile</td>\n",
       "      <td>5.81</td>\n",
       "      <td>9900</td>\n",
       "      <td>8.80</td>\n",
       "      <td>96,2</td>\n",
       "      <td>0.00</td>\n",
       "      <td>213,0</td>\n",
       "      <td>16134219</td>\n",
       "      <td>LATIN AMER. &amp; CARIB</td>\n",
       "    </tr>\n",
       "    <tr>\n",
       "      <th>1</th>\n",
       "      <td>665</td>\n",
       "      <td>17.80</td>\n",
       "      <td>24.21</td>\n",
       "      <td>Asia</td>\n",
       "      <td>Bahrain</td>\n",
       "      <td>4.14</td>\n",
       "      <td>16900</td>\n",
       "      <td>17.27</td>\n",
       "      <td>89,1</td>\n",
       "      <td>1.05</td>\n",
       "      <td>281,3</td>\n",
       "      <td>698585</td>\n",
       "      <td>NEAR EAST</td>\n",
       "    </tr>\n",
       "    <tr>\n",
       "      <th>2</th>\n",
       "      <td>22966</td>\n",
       "      <td>28.84</td>\n",
       "      <td>1.68</td>\n",
       "      <td>North America</td>\n",
       "      <td>Belize</td>\n",
       "      <td>5.72</td>\n",
       "      <td>4900</td>\n",
       "      <td>25.69</td>\n",
       "      <td>94,1</td>\n",
       "      <td>0.00</td>\n",
       "      <td>115,7</td>\n",
       "      <td>287730</td>\n",
       "      <td>LATIN AMER. &amp; CARIB</td>\n",
       "    </tr>\n",
       "    <tr>\n",
       "      <th>3</th>\n",
       "      <td>582650</td>\n",
       "      <td>39.72</td>\n",
       "      <td>0.09</td>\n",
       "      <td>Africa</td>\n",
       "      <td>Kenya</td>\n",
       "      <td>14.02</td>\n",
       "      <td>1000</td>\n",
       "      <td>61.47</td>\n",
       "      <td>85,1</td>\n",
       "      <td>-0.10</td>\n",
       "      <td>8,1</td>\n",
       "      <td>34707817</td>\n",
       "      <td>SUB-SAHARAN AFRICA</td>\n",
       "    </tr>\n",
       "    <tr>\n",
       "      <th>4</th>\n",
       "      <td>11854</td>\n",
       "      <td>33.05</td>\n",
       "      <td>3.12</td>\n",
       "      <td>Australia</td>\n",
       "      <td>Marshall Islands</td>\n",
       "      <td>4.78</td>\n",
       "      <td>1600</td>\n",
       "      <td>29.45</td>\n",
       "      <td>93,7</td>\n",
       "      <td>-6.04</td>\n",
       "      <td>91,2</td>\n",
       "      <td>60422</td>\n",
       "      <td>OCEANIA</td>\n",
       "    </tr>\n",
       "    <tr>\n",
       "      <th>...</th>\n",
       "      <td>...</td>\n",
       "      <td>...</td>\n",
       "      <td>...</td>\n",
       "      <td>...</td>\n",
       "      <td>...</td>\n",
       "      <td>...</td>\n",
       "      <td>...</td>\n",
       "      <td>...</td>\n",
       "      <td>...</td>\n",
       "      <td>...</td>\n",
       "      <td>...</td>\n",
       "      <td>...</td>\n",
       "      <td>...</td>\n",
       "    </tr>\n",
       "    <tr>\n",
       "      <th>169</th>\n",
       "      <td>2381740</td>\n",
       "      <td>17.14</td>\n",
       "      <td>0.04</td>\n",
       "      <td>Africa</td>\n",
       "      <td>Algeria</td>\n",
       "      <td>4.61</td>\n",
       "      <td>6000</td>\n",
       "      <td>31.00</td>\n",
       "      <td>70,0</td>\n",
       "      <td>-0.39</td>\n",
       "      <td>78,1</td>\n",
       "      <td>32930091</td>\n",
       "      <td>NORTHERN AFRICA</td>\n",
       "    </tr>\n",
       "    <tr>\n",
       "      <th>170</th>\n",
       "      <td>103000</td>\n",
       "      <td>13.64</td>\n",
       "      <td>4.83</td>\n",
       "      <td>Europe</td>\n",
       "      <td>Iceland</td>\n",
       "      <td>6.72</td>\n",
       "      <td>30900</td>\n",
       "      <td>3.31</td>\n",
       "      <td>99,9</td>\n",
       "      <td>2.38</td>\n",
       "      <td>647,7</td>\n",
       "      <td>299388</td>\n",
       "      <td>WESTERN EUROPE</td>\n",
       "    </tr>\n",
       "    <tr>\n",
       "      <th>171</th>\n",
       "      <td>748</td>\n",
       "      <td>25.37</td>\n",
       "      <td>56.02</td>\n",
       "      <td>Australia</td>\n",
       "      <td>Tonga</td>\n",
       "      <td>5.28</td>\n",
       "      <td>2200</td>\n",
       "      <td>12.62</td>\n",
       "      <td>98,5</td>\n",
       "      <td>0.00</td>\n",
       "      <td>97,7</td>\n",
       "      <td>114689</td>\n",
       "      <td>OCEANIA</td>\n",
       "    </tr>\n",
       "    <tr>\n",
       "      <th>172</th>\n",
       "      <td>27750</td>\n",
       "      <td>36.44</td>\n",
       "      <td>6.38</td>\n",
       "      <td>North America</td>\n",
       "      <td>Haiti</td>\n",
       "      <td>12.17</td>\n",
       "      <td>1600</td>\n",
       "      <td>73.45</td>\n",
       "      <td>52,9</td>\n",
       "      <td>-3.40</td>\n",
       "      <td>16,9</td>\n",
       "      <td>8308504</td>\n",
       "      <td>LATIN AMER. &amp; CARIB</td>\n",
       "    </tr>\n",
       "    <tr>\n",
       "      <th>173</th>\n",
       "      <td>1284000</td>\n",
       "      <td>45.73</td>\n",
       "      <td>0.00</td>\n",
       "      <td>Africa</td>\n",
       "      <td>Chad</td>\n",
       "      <td>16.38</td>\n",
       "      <td>1200</td>\n",
       "      <td>93.82</td>\n",
       "      <td>47,5</td>\n",
       "      <td>-0.11</td>\n",
       "      <td>1,3</td>\n",
       "      <td>9944201</td>\n",
       "      <td>SUB-SAHARAN AFRICA</td>\n",
       "    </tr>\n",
       "  </tbody>\n",
       "</table>\n",
       "<p>174 rows × 13 columns</p>\n",
       "</div>"
      ],
      "text/plain": [
       "        area  birth-rate  coastline      continent           country  \\\n",
       "0     756950       15.23       0.85  South America             Chile   \n",
       "1        665       17.80      24.21           Asia           Bahrain   \n",
       "2      22966       28.84       1.68  North America            Belize   \n",
       "3     582650       39.72       0.09         Africa             Kenya   \n",
       "4      11854       33.05       3.12      Australia  Marshall Islands   \n",
       "..       ...         ...        ...            ...               ...   \n",
       "169  2381740       17.14       0.04         Africa           Algeria   \n",
       "170   103000       13.64       4.83         Europe           Iceland   \n",
       "171      748       25.37      56.02      Australia             Tonga   \n",
       "172    27750       36.44       6.38  North America             Haiti   \n",
       "173  1284000       45.73       0.00         Africa              Chad   \n",
       "\n",
       "     death-rate  gdp-per-capita  infant-mortality literacy  net-migration  \\\n",
       "0          5.81            9900              8.80     96,2           0.00   \n",
       "1          4.14           16900             17.27     89,1           1.05   \n",
       "2          5.72            4900             25.69     94,1           0.00   \n",
       "3         14.02            1000             61.47     85,1          -0.10   \n",
       "4          4.78            1600             29.45     93,7          -6.04   \n",
       "..          ...             ...               ...      ...            ...   \n",
       "169        4.61            6000             31.00     70,0          -0.39   \n",
       "170        6.72           30900              3.31     99,9           2.38   \n",
       "171        5.28            2200             12.62     98,5           0.00   \n",
       "172       12.17            1600             73.45     52,9          -3.40   \n",
       "173       16.38            1200             93.82     47,5          -0.11   \n",
       "\n",
       "    phones  population               region  \n",
       "0    213,0    16134219  LATIN AMER. & CARIB  \n",
       "1    281,3      698585            NEAR EAST  \n",
       "2    115,7      287730  LATIN AMER. & CARIB  \n",
       "3      8,1    34707817   SUB-SAHARAN AFRICA  \n",
       "4     91,2       60422              OCEANIA  \n",
       "..     ...         ...                  ...  \n",
       "169   78,1    32930091      NORTHERN AFRICA  \n",
       "170  647,7      299388       WESTERN EUROPE  \n",
       "171   97,7      114689              OCEANIA  \n",
       "172   16,9     8308504  LATIN AMER. & CARIB  \n",
       "173    1,3     9944201   SUB-SAHARAN AFRICA  \n",
       "\n",
       "[174 rows x 13 columns]"
      ]
     },
     "execution_count": 1,
     "metadata": {},
     "output_type": "execute_result"
    }
   ],
   "source": [
    "query = 'select * from countries'\n",
    "pd.read_sql(query, conn)"
   ]
  },
  {
   "cell_type": "code",
   "execution_count": 7,
   "metadata": {
    "execution": {
     "iopub.execute_input": "2021-04-29T05:10:42.743285Z",
     "iopub.status.busy": "2021-04-29T05:10:42.742370Z",
     "iopub.status.idle": "2021-04-29T05:10:42.750581Z",
     "shell.execute_reply": "2021-04-29T05:10:42.751223Z"
    }
   },
   "outputs": [
    {
     "data": {
      "text/html": [
       "<div>\n",
       "<style scoped>\n",
       "    .dataframe tbody tr th:only-of-type {\n",
       "        vertical-align: middle;\n",
       "    }\n",
       "\n",
       "    .dataframe tbody tr th {\n",
       "        vertical-align: top;\n",
       "    }\n",
       "\n",
       "    .dataframe thead th {\n",
       "        text-align: right;\n",
       "    }\n",
       "</style>\n",
       "<table border=\"1\" class=\"dataframe\">\n",
       "  <thead>\n",
       "    <tr style=\"text-align: right;\">\n",
       "      <th></th>\n",
       "      <th>continent</th>\n",
       "      <th>number of countries</th>\n",
       "    </tr>\n",
       "  </thead>\n",
       "  <tbody>\n",
       "    <tr>\n",
       "      <th>0</th>\n",
       "      <td>Africa</td>\n",
       "      <td>47</td>\n",
       "    </tr>\n",
       "    <tr>\n",
       "      <th>1</th>\n",
       "      <td>Europe</td>\n",
       "      <td>41</td>\n",
       "    </tr>\n",
       "    <tr>\n",
       "      <th>2</th>\n",
       "      <td>Asia</td>\n",
       "      <td>38</td>\n",
       "    </tr>\n",
       "    <tr>\n",
       "      <th>3</th>\n",
       "      <td>North America</td>\n",
       "      <td>24</td>\n",
       "    </tr>\n",
       "    <tr>\n",
       "      <th>4</th>\n",
       "      <td>Australia</td>\n",
       "      <td>12</td>\n",
       "    </tr>\n",
       "    <tr>\n",
       "      <th>5</th>\n",
       "      <td>South America</td>\n",
       "      <td>12</td>\n",
       "    </tr>\n",
       "  </tbody>\n",
       "</table>\n",
       "</div>"
      ],
      "text/plain": [
       "       continent  number of countries\n",
       "0         Africa                   47\n",
       "1         Europe                   41\n",
       "2           Asia                   38\n",
       "3  North America                   24\n",
       "4      Australia                   12\n",
       "5  South America                   12"
      ]
     },
     "execution_count": 1,
     "metadata": {},
     "output_type": "execute_result"
    }
   ],
   "source": [
    "#q1\n",
    "query = \"\"\"\n",
    "  SELECT CONTINENT, COUNT(*) AS \"number of countries\"\n",
    "  from countries \n",
    "  group by continent \n",
    "  ORDER BY \"number of countries\" DESC, continent \n",
    "\n",
    " \"\"\"\n",
    "contvscountry = pd.read_sql(query, conn)\n",
    "contvscountry"
   ]
  },
  {
   "cell_type": "code",
   "execution_count": 8,
   "metadata": {
    "execution": {
     "iopub.execute_input": "2021-04-29T05:10:42.756552Z",
     "iopub.status.busy": "2021-04-29T05:10:42.755713Z",
     "iopub.status.idle": "2021-04-29T05:10:43.138235Z",
     "shell.execute_reply": "2021-04-29T05:10:43.138801Z"
    }
   },
   "outputs": [
    {
     "data": {
      "text/plain": [
       "[Text(0, 0, '0'),\n",
       " Text(1, 0, '1'),\n",
       " Text(2, 0, '2'),\n",
       " Text(3, 0, '3'),\n",
       " Text(4, 0, '4'),\n",
       " Text(5, 0, '5')]"
      ]
     },
     "execution_count": 1,
     "metadata": {},
     "output_type": "execute_result"
    },
    {
     "data": {
      "image/png": "[encoded data removed]",
      "text/plain": [
       "<Figure size 432x288 with 1 Axes>"
      ]
     },
     "metadata": {
      "needs_background": "light"
     },
     "output_type": "display_data"
    }
   ],
   "source": [
    "#q2\n",
    "axes = contvscountry.plot.bar('continent', 'number of countries')\n",
    "axes.set_ylabel(\"number of countries\")\n",
    "axes.get_legend().remove()\n",
    "axes.set_xticklabels(list(contvscountry.index), rotation = 0)"
   ]
  },
  {
   "cell_type": "code",
   "execution_count": 9,
   "metadata": {
    "execution": {
     "iopub.execute_input": "2021-04-29T05:10:43.143976Z",
     "iopub.status.busy": "2021-04-29T05:10:43.143141Z",
     "iopub.status.idle": "2021-04-29T05:10:43.153904Z",
     "shell.execute_reply": "2021-04-29T05:10:43.153308Z"
    }
   },
   "outputs": [
    {
     "data": {
      "text/html": [
       "<div>\n",
       "<style scoped>\n",
       "    .dataframe tbody tr th:only-of-type {\n",
       "        vertical-align: middle;\n",
       "    }\n",
       "\n",
       "    .dataframe tbody tr th {\n",
       "        vertical-align: top;\n",
       "    }\n",
       "\n",
       "    .dataframe thead th {\n",
       "        text-align: right;\n",
       "    }\n",
       "</style>\n",
       "<table border=\"1\" class=\"dataframe\">\n",
       "  <thead>\n",
       "    <tr style=\"text-align: right;\">\n",
       "      <th></th>\n",
       "      <th>continent</th>\n",
       "      <th>total population (million)</th>\n",
       "    </tr>\n",
       "  </thead>\n",
       "  <tbody>\n",
       "    <tr>\n",
       "      <th>0</th>\n",
       "      <td>Asia</td>\n",
       "      <td>3739.902863</td>\n",
       "    </tr>\n",
       "    <tr>\n",
       "      <th>1</th>\n",
       "      <td>Africa</td>\n",
       "      <td>807.299195</td>\n",
       "    </tr>\n",
       "    <tr>\n",
       "      <th>2</th>\n",
       "      <td>Europe</td>\n",
       "      <td>792.053486</td>\n",
       "    </tr>\n",
       "    <tr>\n",
       "      <th>3</th>\n",
       "      <td>North America</td>\n",
       "      <td>515.041558</td>\n",
       "    </tr>\n",
       "    <tr>\n",
       "      <th>4</th>\n",
       "      <td>South America</td>\n",
       "      <td>375.441666</td>\n",
       "    </tr>\n",
       "    <tr>\n",
       "      <th>5</th>\n",
       "      <td>Australia</td>\n",
       "      <td>32.163025</td>\n",
       "    </tr>\n",
       "  </tbody>\n",
       "</table>\n",
       "</div>"
      ],
      "text/plain": [
       "       continent  total population (million)\n",
       "0           Asia                 3739.902863\n",
       "1         Africa                  807.299195\n",
       "2         Europe                  792.053486\n",
       "3  North America                  515.041558\n",
       "4  South America                  375.441666\n",
       "5      Australia                   32.163025"
      ]
     },
     "execution_count": 1,
     "metadata": {},
     "output_type": "execute_result"
    }
   ],
   "source": [
    "#q3\n",
    "query = \"\"\"SELECT CONTINENT, (sum(population) / (1000000.00)) AS \"total population (million)\"\n",
    "\n",
    "  from countries \n",
    "  group by continent \n",
    "  ORDER BY \"total population (million)\" DESC  \n",
    "\n",
    "   \n",
    "\n",
    " \"\"\"\n",
    "contvspop = pd.read_sql(query, conn)\n",
    "contvspop"
   ]
  },
  {
   "cell_type": "code",
   "execution_count": 10,
   "metadata": {
    "execution": {
     "iopub.execute_input": "2021-04-29T05:10:43.216135Z",
     "iopub.status.busy": "2021-04-29T05:10:43.178980Z",
     "iopub.status.idle": "2021-04-29T05:10:43.303759Z",
     "shell.execute_reply": "2021-04-29T05:10:43.302975Z"
    }
   },
   "outputs": [
    {
     "data": {
      "image/png": "[encoded data removed]",
      "text/plain": [
       "<Figure size 432x288 with 1 Axes>"
      ]
     },
     "metadata": {
      "needs_background": "light"
     },
     "output_type": "display_data"
    }
   ],
   "source": [
    "#q4\n",
    "axes2 = contvspop.plot.bar('continent', 'total population (million)')\n",
    "axes2.set_ylabel(\"total population (million)\")\n",
    "axes2.set_xlabel(\"continent\")\n",
    "axes2.get_legend().remove()"
   ]
  },
  {
   "cell_type": "code",
   "execution_count": 11,
   "metadata": {
    "execution": {
     "iopub.execute_input": "2021-04-29T05:10:43.308661Z",
     "iopub.status.busy": "2021-04-29T05:10:43.307815Z",
     "iopub.status.idle": "2021-04-29T05:10:43.316779Z",
     "shell.execute_reply": "2021-04-29T05:10:43.317339Z"
    }
   },
   "outputs": [
    {
     "data": {
      "text/html": [
       "<div>\n",
       "<style scoped>\n",
       "    .dataframe tbody tr th:only-of-type {\n",
       "        vertical-align: middle;\n",
       "    }\n",
       "\n",
       "    .dataframe tbody tr th {\n",
       "        vertical-align: top;\n",
       "    }\n",
       "\n",
       "    .dataframe thead th {\n",
       "        text-align: right;\n",
       "    }\n",
       "</style>\n",
       "<table border=\"1\" class=\"dataframe\">\n",
       "  <thead>\n",
       "    <tr style=\"text-align: right;\">\n",
       "      <th></th>\n",
       "      <th>country</th>\n",
       "      <th>population</th>\n",
       "    </tr>\n",
       "  </thead>\n",
       "  <tbody>\n",
       "    <tr>\n",
       "      <th>0</th>\n",
       "      <td>Brazil</td>\n",
       "      <td>188078227</td>\n",
       "    </tr>\n",
       "    <tr>\n",
       "      <th>1</th>\n",
       "      <td>Colombia</td>\n",
       "      <td>43593035</td>\n",
       "    </tr>\n",
       "    <tr>\n",
       "      <th>2</th>\n",
       "      <td>Argentina</td>\n",
       "      <td>39921833</td>\n",
       "    </tr>\n",
       "    <tr>\n",
       "      <th>3</th>\n",
       "      <td>Peru</td>\n",
       "      <td>28302603</td>\n",
       "    </tr>\n",
       "    <tr>\n",
       "      <th>4</th>\n",
       "      <td>Venezuela</td>\n",
       "      <td>25730435</td>\n",
       "    </tr>\n",
       "    <tr>\n",
       "      <th>5</th>\n",
       "      <td>Chile</td>\n",
       "      <td>16134219</td>\n",
       "    </tr>\n",
       "    <tr>\n",
       "      <th>6</th>\n",
       "      <td>Ecuador</td>\n",
       "      <td>13547510</td>\n",
       "    </tr>\n",
       "    <tr>\n",
       "      <th>7</th>\n",
       "      <td>Bolivia</td>\n",
       "      <td>8989046</td>\n",
       "    </tr>\n",
       "    <tr>\n",
       "      <th>8</th>\n",
       "      <td>Paraguay</td>\n",
       "      <td>6506464</td>\n",
       "    </tr>\n",
       "    <tr>\n",
       "      <th>9</th>\n",
       "      <td>Uruguay</td>\n",
       "      <td>3431932</td>\n",
       "    </tr>\n",
       "    <tr>\n",
       "      <th>10</th>\n",
       "      <td>Guyana</td>\n",
       "      <td>767245</td>\n",
       "    </tr>\n",
       "    <tr>\n",
       "      <th>11</th>\n",
       "      <td>Suriname</td>\n",
       "      <td>439117</td>\n",
       "    </tr>\n",
       "  </tbody>\n",
       "</table>\n",
       "</div>"
      ],
      "text/plain": [
       "      country  population\n",
       "0      Brazil   188078227\n",
       "1    Colombia    43593035\n",
       "2   Argentina    39921833\n",
       "3        Peru    28302603\n",
       "4   Venezuela    25730435\n",
       "5       Chile    16134219\n",
       "6     Ecuador    13547510\n",
       "7     Bolivia     8989046\n",
       "8    Paraguay     6506464\n",
       "9     Uruguay     3431932\n",
       "10     Guyana      767245\n",
       "11   Suriname      439117"
      ]
     },
     "execution_count": 1,
     "metadata": {},
     "output_type": "execute_result"
    }
   ],
   "source": [
    "#q5\n",
    "query = \"\"\"SELECT COUNTRY, sum(population) AS population\n",
    "\n",
    "  from countries \n",
    "  where continent == 'South America' \n",
    "  group by country \n",
    "  ORDER BY \"population\" DESC  \n",
    "   \n",
    "\n",
    " \"\"\"\n",
    "contvspop = pd.read_sql(query, conn)\n",
    "contvspop"
   ]
  },
  {
   "cell_type": "code",
   "execution_count": 12,
   "metadata": {
    "execution": {
     "iopub.execute_input": "2021-04-29T05:10:43.322520Z",
     "iopub.status.busy": "2021-04-29T05:10:43.321649Z",
     "iopub.status.idle": "2021-04-29T05:10:43.331442Z",
     "shell.execute_reply": "2021-04-29T05:10:43.332007Z"
    }
   },
   "outputs": [
    {
     "data": {
      "text/html": [
       "<div>\n",
       "<style scoped>\n",
       "    .dataframe tbody tr th:only-of-type {\n",
       "        vertical-align: middle;\n",
       "    }\n",
       "\n",
       "    .dataframe tbody tr th {\n",
       "        vertical-align: top;\n",
       "    }\n",
       "\n",
       "    .dataframe thead th {\n",
       "        text-align: right;\n",
       "    }\n",
       "</style>\n",
       "<table border=\"1\" class=\"dataframe\">\n",
       "  <thead>\n",
       "    <tr style=\"text-align: right;\">\n",
       "      <th></th>\n",
       "      <th>country</th>\n",
       "      <th>Real GDP (billion)</th>\n",
       "    </tr>\n",
       "  </thead>\n",
       "  <tbody>\n",
       "    <tr>\n",
       "      <th>0</th>\n",
       "      <td>United States</td>\n",
       "      <td>11281.191327</td>\n",
       "    </tr>\n",
       "    <tr>\n",
       "      <th>1</th>\n",
       "      <td>China</td>\n",
       "      <td>6569.868565</td>\n",
       "    </tr>\n",
       "    <tr>\n",
       "      <th>2</th>\n",
       "      <td>Japan</td>\n",
       "      <td>3594.473830</td>\n",
       "    </tr>\n",
       "    <tr>\n",
       "      <th>3</th>\n",
       "      <td>India</td>\n",
       "      <td>3176.520785</td>\n",
       "    </tr>\n",
       "    <tr>\n",
       "      <th>4</th>\n",
       "      <td>Germany</td>\n",
       "      <td>2274.855452</td>\n",
       "    </tr>\n",
       "    <tr>\n",
       "      <th>5</th>\n",
       "      <td>France</td>\n",
       "      <td>1680.181354</td>\n",
       "    </tr>\n",
       "    <tr>\n",
       "      <th>6</th>\n",
       "      <td>United Kingdom</td>\n",
       "      <td>1678.873538</td>\n",
       "    </tr>\n",
       "    <tr>\n",
       "      <th>7</th>\n",
       "      <td>Italy</td>\n",
       "      <td>1552.164690</td>\n",
       "    </tr>\n",
       "    <tr>\n",
       "      <th>8</th>\n",
       "      <td>Brazil</td>\n",
       "      <td>1429.394525</td>\n",
       "    </tr>\n",
       "    <tr>\n",
       "      <th>9</th>\n",
       "      <td>Russia</td>\n",
       "      <td>1271.752506</td>\n",
       "    </tr>\n",
       "  </tbody>\n",
       "</table>\n",
       "</div>"
      ],
      "text/plain": [
       "          country  Real GDP (billion)\n",
       "0   United States        11281.191327\n",
       "1           China         6569.868565\n",
       "2           Japan         3594.473830\n",
       "3           India         3176.520785\n",
       "4         Germany         2274.855452\n",
       "5          France         1680.181354\n",
       "6  United Kingdom         1678.873538\n",
       "7           Italy         1552.164690\n",
       "8          Brazil         1429.394525\n",
       "9          Russia         1271.752506"
      ]
     },
     "execution_count": 1,
     "metadata": {},
     "output_type": "execute_result"
    }
   ],
   "source": [
    "#q6\n",
    "query = \"\"\"SELECT COUNTRY, (population * (\"gdp-per-capita\"))/1000000000.00 AS \"Real GDP (billion)\"\n",
    "\n",
    "  from countries  \n",
    "  group by country \n",
    "  ORDER BY \"Real GDP (billion)\" DESC  \n",
    "\n",
    "   \n",
    "\n",
    " \"\"\"\n",
    "countryvsgdp = pd.read_sql(query, conn)\n",
    "actual = countryvsgdp.iloc[:10]\n",
    "actual"
   ]
  },
  {
   "cell_type": "code",
   "execution_count": 13,
   "metadata": {
    "execution": {
     "iopub.execute_input": "2021-04-29T05:10:43.405546Z",
     "iopub.status.busy": "2021-04-29T05:10:43.404027Z",
     "iopub.status.idle": "2021-04-29T05:10:43.551127Z",
     "shell.execute_reply": "2021-04-29T05:10:43.551779Z"
    }
   },
   "outputs": [
    {
     "data": {
      "image/png": "[encoded data removed]",
      "text/plain": [
       "<Figure size 432x288 with 1 Axes>"
      ]
     },
     "metadata": {
      "needs_background": "light"
     },
     "output_type": "display_data"
    }
   ],
   "source": [
    "#q7\n",
    "other = (countryvsgdp[\"Real GDP (billion)\"].iloc[10:].sum())\n",
    "db = pd.DataFrame({'country': ['Other'], \"Real GDP (billion)\": [other]})\n",
    "other = (countryvsgdp[\"Real GDP (billion)\"].iloc[10:].sum())\n",
    "r = actual.append(db)\n",
    "r\n",
    "axes = r.plot.bar(\"country\", \"Real GDP (billion)\")\n",
    "axes.set_ylabel(\"Real GDP (billion))\")\n",
    "axes.set_xlabel(\"country\")\n",
    "axes.get_legend().remove()"
   ]
  },
  {
   "cell_type": "code",
   "execution_count": 14,
   "metadata": {
    "execution": {
     "iopub.execute_input": "2021-04-29T05:10:43.661466Z",
     "iopub.status.busy": "2021-04-29T05:10:43.660582Z",
     "iopub.status.idle": "2021-04-29T05:10:43.745070Z",
     "shell.execute_reply": "2021-04-29T05:10:43.745617Z"
    }
   },
   "outputs": [
    {
     "data": {
      "image/png": "[encoded data removed]",
      "text/plain": [
       "<Figure size 432x288 with 1 Axes>"
      ]
     },
     "metadata": {
      "needs_background": "light"
     },
     "output_type": "display_data"
    }
   ],
   "source": [
    "#q8\n",
    "countries['literacy']\n",
    "countries['gdp-per-capita']\n",
    "countries['literacy']\n",
    "seriesoflit = countries['literacy']\n",
    "correctvals = (seriesoflit.str.replace(',', '.'))\n",
    "correctvals2 = correctvals.astype(float)\n",
    "scatter(countries['gdp-per-capita'], correctvals2, xlabel = 'gdp-per-capita', ylabel = 'literacy')"
   ]
  },
  {
   "cell_type": "code",
   "execution_count": 15,
   "metadata": {
    "execution": {
     "iopub.execute_input": "2021-04-29T05:10:43.802764Z",
     "iopub.status.busy": "2021-04-29T05:10:43.796580Z",
     "iopub.status.idle": "2021-04-29T05:10:43.884880Z",
     "shell.execute_reply": "2021-04-29T05:10:43.885462Z"
    }
   },
   "outputs": [
    {
     "data": {
      "image/png": "[encoded data removed]",
      "text/plain": [
       "<Figure size 432x288 with 1 Axes>"
      ]
     },
     "metadata": {
      "needs_background": "light"
     },
     "output_type": "display_data"
    }
   ],
   "source": [
    "#q9\n",
    "countries['gdp-per-capita']\n",
    "countries['phones']\n",
    "phonestrings = (countries['phones'].str.replace(',', '.'))\n",
    "floatphones = phonestrings.astype(float)\n",
    "scatter(countries['gdp-per-capita'], floatphones, xlabel = 'gdp-per-capita', ylabel = 'phones')"
   ]
  },
  {
   "cell_type": "code",
   "execution_count": 16,
   "metadata": {
    "execution": {
     "iopub.execute_input": "2021-04-29T05:10:43.892891Z",
     "iopub.status.busy": "2021-04-29T05:10:43.891786Z",
     "iopub.status.idle": "2021-04-29T05:10:43.895249Z",
     "shell.execute_reply": "2021-04-29T05:10:43.895796Z"
    }
   },
   "outputs": [
    {
     "data": {
      "text/plain": [
       "0.8786946640591311"
      ]
     },
     "execution_count": 1,
     "metadata": {},
     "output_type": "execute_result"
    }
   ],
   "source": [
    "#q10\n",
    "db = pd.DataFrame({'gdp-per-capita': countries['gdp-per-capita'], 'phones': floatphones}) \n",
    "db.corr().iloc[0][1]"
   ]
  },
  {
   "cell_type": "code",
   "execution_count": 17,
   "metadata": {
    "execution": {
     "iopub.execute_input": "2021-04-29T05:10:43.944641Z",
     "iopub.status.busy": "2021-04-29T05:10:43.943396Z",
     "iopub.status.idle": "2021-04-29T05:10:44.033217Z",
     "shell.execute_reply": "2021-04-29T05:10:44.033788Z"
    }
   },
   "outputs": [
    {
     "data": {
      "image/png": "[encoded data removed]",
      "text/plain": [
       "<Figure size 432x288 with 1 Axes>"
      ]
     },
     "metadata": {
      "needs_background": "light"
     },
     "output_type": "display_data"
    }
   ],
   "source": [
    "#q11\n",
    "countries['gdp-per-capita']\n",
    "countries['birth-rate']\n",
    "scatter(countries['gdp-per-capita'], countries['birth-rate'], xlabel = 'gdp-per-capita', ylabel = 'birth-rate')"
   ]
  },
  {
   "cell_type": "code",
   "execution_count": 18,
   "metadata": {
    "execution": {
     "iopub.execute_input": "2021-04-29T05:10:44.091924Z",
     "iopub.status.busy": "2021-04-29T05:10:44.091009Z",
     "iopub.status.idle": "2021-04-29T05:10:44.182270Z",
     "shell.execute_reply": "2021-04-29T05:10:44.182847Z"
    }
   },
   "outputs": [
    {
     "data": {
      "image/png": "[encoded data removed]",
      "text/plain": [
       "<Figure size 432x288 with 1 Axes>"
      ]
     },
     "metadata": {
      "needs_background": "light"
     },
     "output_type": "display_data"
    }
   ],
   "source": [
    "#q12\n",
    "countries['gdp-per-capita']\n",
    "countries['birth-rate']\n",
    "scatter(countries['gdp-per-capita'], (1/countries['birth-rate']), xlabel = 'gdp-per-capita', ylabel = 'birth-rate')"
   ]
  },
  {
   "cell_type": "code",
   "execution_count": 19,
   "metadata": {
    "execution": {
     "iopub.execute_input": "2021-04-29T05:10:44.192577Z",
     "iopub.status.busy": "2021-04-29T05:10:44.191562Z",
     "iopub.status.idle": "2021-04-29T05:10:44.194278Z",
     "shell.execute_reply": "2021-04-29T05:10:44.194834Z"
    }
   },
   "outputs": [],
   "source": [
    "import numpy as np\n",
    "\n",
    "df = DataFrame({\n",
    "    \"gdp-per-capita\": countries['gdp-per-capita'],\n",
    "    \"inverse-birth-rate\": (1/countries['birth-rate'])\n",
    "})\n",
    "df[\"1\"] = 1\n",
    "\n",
    "res = np.linalg.lstsq(df[[\"gdp-per-capita\", \"1\"]], df[\"inverse-birth-rate\"], rcond=None)\n",
    "\n",
    "# res is a tuple: (COEFFICIENTS, VALUE, VALUE, VALUE)\n",
    "coefficients = res[0] # coefficients is (m,n:\n",
    "m = coefficients[0] # slope\n",
    "n = coefficients[1] # intercept\n",
    "#ax = df.plot.scatter(x='gdp-per-capita', y='inverse-birth-rate')\n",
    "\n",
    "#df[\"fit\"] = df[\"gdp-per-capita\"] * m + n\n",
    "#df.plot.line(x='gdp-per-capita', y='fit', c='red', ax=ax)"
   ]
  },
  {
   "cell_type": "code",
   "execution_count": 20,
   "metadata": {
    "execution": {
     "iopub.execute_input": "2021-04-29T05:10:44.200074Z",
     "iopub.status.busy": "2021-04-29T05:10:44.199049Z",
     "iopub.status.idle": "2021-04-29T05:10:44.202390Z",
     "shell.execute_reply": "2021-04-29T05:10:44.202937Z"
    }
   },
   "outputs": [
    {
     "data": {
      "text/plain": [
       "(1.8365703926233426e-06, 0.03916624252079352)"
      ]
     },
     "execution_count": 1,
     "metadata": {},
     "output_type": "execute_result"
    }
   ],
   "source": [
    "#q13\n",
    "(m,n)"
   ]
  },
  {
   "cell_type": "code",
   "execution_count": 21,
   "metadata": {
    "execution": {
     "iopub.execute_input": "2021-04-29T05:10:44.208360Z",
     "iopub.status.busy": "2021-04-29T05:10:44.207491Z",
     "iopub.status.idle": "2021-04-29T05:10:44.211001Z",
     "shell.execute_reply": "2021-04-29T05:10:44.211544Z"
    }
   },
   "outputs": [
    {
     "data": {
      "text/plain": [
       "10.60857644448761"
      ]
     },
     "execution_count": 1,
     "metadata": {},
     "output_type": "execute_result"
    }
   ],
   "source": [
    "#q14\n",
    "y = (m * 30000) + n\n",
    "1/y"
   ]
  },
  {
   "cell_type": "code",
   "execution_count": 22,
   "metadata": {
    "execution": {
     "iopub.execute_input": "2021-04-29T05:10:44.264543Z",
     "iopub.status.busy": "2021-04-29T05:10:44.263656Z",
     "iopub.status.idle": "2021-04-29T05:10:44.388535Z",
     "shell.execute_reply": "2021-04-29T05:10:44.389104Z"
    }
   },
   "outputs": [
    {
     "data": {
      "text/plain": [
       "<AxesSubplot:xlabel='gdp-per-capita', ylabel='inverse-birth-rate'>"
      ]
     },
     "execution_count": 1,
     "metadata": {},
     "output_type": "execute_result"
    },
    {
     "data": {
      "image/png": "[encoded data removed]",
      "text/plain": [
       "<Figure size 432x288 with 1 Axes>"
      ]
     },
     "metadata": {
      "needs_background": "light"
     },
     "output_type": "display_data"
    }
   ],
   "source": [
    "#q15\n",
    "ax = df.plot.scatter(x='gdp-per-capita', y='inverse-birth-rate')\n",
    "\n",
    "df[\"fit\"] = df[\"gdp-per-capita\"] * m + n\n",
    "df.plot.line(x='gdp-per-capita', y='fit', c='red', ax=ax)"
   ]
  },
  {
   "cell_type": "code",
   "execution_count": 23,
   "metadata": {
    "execution": {
     "iopub.execute_input": "2021-04-29T05:10:44.394087Z",
     "iopub.status.busy": "2021-04-29T05:10:44.393314Z",
     "iopub.status.idle": "2021-04-29T05:10:44.405216Z",
     "shell.execute_reply": "2021-04-29T05:10:44.405779Z"
    }
   },
   "outputs": [
    {
     "data": {
      "text/html": [
       "<div>\n",
       "<style scoped>\n",
       "    .dataframe tbody tr th:only-of-type {\n",
       "        vertical-align: middle;\n",
       "    }\n",
       "\n",
       "    .dataframe tbody tr th {\n",
       "        vertical-align: top;\n",
       "    }\n",
       "\n",
       "    .dataframe thead th {\n",
       "        text-align: right;\n",
       "    }\n",
       "</style>\n",
       "<table border=\"1\" class=\"dataframe\">\n",
       "  <thead>\n",
       "    <tr style=\"text-align: right;\">\n",
       "      <th></th>\n",
       "      <th>country</th>\n",
       "      <th>birth-rate</th>\n",
       "      <th>death-rate</th>\n",
       "    </tr>\n",
       "  </thead>\n",
       "  <tbody>\n",
       "    <tr>\n",
       "      <th>0</th>\n",
       "      <td>Uganda</td>\n",
       "      <td>47.35</td>\n",
       "      <td>12.24</td>\n",
       "    </tr>\n",
       "    <tr>\n",
       "      <th>1</th>\n",
       "      <td>Yemen</td>\n",
       "      <td>42.89</td>\n",
       "      <td>8.30</td>\n",
       "    </tr>\n",
       "    <tr>\n",
       "      <th>2</th>\n",
       "      <td>Mali</td>\n",
       "      <td>49.82</td>\n",
       "      <td>16.89</td>\n",
       "    </tr>\n",
       "    <tr>\n",
       "      <th>3</th>\n",
       "      <td>Oman</td>\n",
       "      <td>36.24</td>\n",
       "      <td>3.81</td>\n",
       "    </tr>\n",
       "    <tr>\n",
       "      <th>4</th>\n",
       "      <td>Madagascar</td>\n",
       "      <td>41.41</td>\n",
       "      <td>11.11</td>\n",
       "    </tr>\n",
       "    <tr>\n",
       "      <th>5</th>\n",
       "      <td>Burkina Faso</td>\n",
       "      <td>45.62</td>\n",
       "      <td>15.60</td>\n",
       "    </tr>\n",
       "    <tr>\n",
       "      <th>6</th>\n",
       "      <td>Niger</td>\n",
       "      <td>50.73</td>\n",
       "      <td>20.91</td>\n",
       "    </tr>\n",
       "    <tr>\n",
       "      <th>7</th>\n",
       "      <td>Chad</td>\n",
       "      <td>45.73</td>\n",
       "      <td>16.38</td>\n",
       "    </tr>\n",
       "    <tr>\n",
       "      <th>8</th>\n",
       "      <td>Mauritania</td>\n",
       "      <td>40.99</td>\n",
       "      <td>12.16</td>\n",
       "    </tr>\n",
       "    <tr>\n",
       "      <th>9</th>\n",
       "      <td>Burundi</td>\n",
       "      <td>42.22</td>\n",
       "      <td>13.46</td>\n",
       "    </tr>\n",
       "    <tr>\n",
       "      <th>10</th>\n",
       "      <td>Comoros</td>\n",
       "      <td>36.93</td>\n",
       "      <td>8.20</td>\n",
       "    </tr>\n",
       "    <tr>\n",
       "      <th>11</th>\n",
       "      <td>Somalia</td>\n",
       "      <td>45.13</td>\n",
       "      <td>16.63</td>\n",
       "    </tr>\n",
       "    <tr>\n",
       "      <th>12</th>\n",
       "      <td>Marshall Islands</td>\n",
       "      <td>33.05</td>\n",
       "      <td>4.78</td>\n",
       "    </tr>\n",
       "    <tr>\n",
       "      <th>13</th>\n",
       "      <td>Maldives</td>\n",
       "      <td>34.81</td>\n",
       "      <td>7.06</td>\n",
       "    </tr>\n",
       "    <tr>\n",
       "      <th>14</th>\n",
       "      <td>Togo</td>\n",
       "      <td>37.01</td>\n",
       "      <td>9.83</td>\n",
       "    </tr>\n",
       "  </tbody>\n",
       "</table>\n",
       "</div>"
      ],
      "text/plain": [
       "             country  birth-rate  death-rate\n",
       "0             Uganda       47.35       12.24\n",
       "1              Yemen       42.89        8.30\n",
       "2               Mali       49.82       16.89\n",
       "3               Oman       36.24        3.81\n",
       "4         Madagascar       41.41       11.11\n",
       "5       Burkina Faso       45.62       15.60\n",
       "6              Niger       50.73       20.91\n",
       "7               Chad       45.73       16.38\n",
       "8         Mauritania       40.99       12.16\n",
       "9            Burundi       42.22       13.46\n",
       "10           Comoros       36.93        8.20\n",
       "11           Somalia       45.13       16.63\n",
       "12  Marshall Islands       33.05        4.78\n",
       "13          Maldives       34.81        7.06\n",
       "14              Togo       37.01        9.83"
      ]
     },
     "execution_count": 1,
     "metadata": {},
     "output_type": "execute_result"
    }
   ],
   "source": [
    "#q16\n",
    "query = \"\"\"SELECT COUNTRY, `Birth-Rate`, `Death-Rate`\n",
    "\n",
    "  from countries  \n",
    "  group by country   \n",
    "  order by (`Birth-Rate`-`Death-Rate`) DESC\n",
    "  LIMIT 15\n",
    " \"\"\"\n",
    "\n",
    "countrybd = pd.read_sql(query, conn)\n",
    "countrybd"
   ]
  },
  {
   "cell_type": "code",
   "execution_count": 24,
   "metadata": {
    "execution": {
     "iopub.execute_input": "2021-04-29T05:10:44.495058Z",
     "iopub.status.busy": "2021-04-29T05:10:44.494052Z",
     "iopub.status.idle": "2021-04-29T05:10:44.650299Z",
     "shell.execute_reply": "2021-04-29T05:10:44.650861Z"
    }
   },
   "outputs": [
    {
     "data": {
      "image/png": "[encoded data removed]",
      "text/plain": [
       "<Figure size 432x288 with 1 Axes>"
      ]
     },
     "metadata": {
      "needs_background": "light"
     },
     "output_type": "display_data"
    }
   ],
   "source": [
    "#q17\n",
    "countrybd = countrybd.set_index('country')\n",
    "ax = countrybd.plot.barh()"
   ]
  },
  {
   "cell_type": "code",
   "execution_count": 25,
   "metadata": {
    "execution": {
     "iopub.execute_input": "2021-04-29T05:10:44.656171Z",
     "iopub.status.busy": "2021-04-29T05:10:44.655368Z",
     "iopub.status.idle": "2021-04-29T05:10:44.799125Z",
     "shell.execute_reply": "2021-04-29T05:10:44.799673Z"
    }
   },
   "outputs": [
    {
     "data": {
      "text/plain": [
       "<AxesSubplot:xlabel='population', ylabel='gdp-per-capita'>"
      ]
     },
     "execution_count": 1,
     "metadata": {},
     "output_type": "execute_result"
    },
    {
     "data": {
      "image/png": "[encoded data removed]",
      "text/plain": [
       "<Figure size 432x288 with 1 Axes>"
      ]
     },
     "metadata": {
      "needs_background": "light"
     },
     "output_type": "display_data"
    }
   ],
   "source": [
    "#q18\n",
    "query = \"\"\"SELECT \"gdp-per-capita\", \"population\"\n",
    "\n",
    "  FROM countries  \n",
    " \"\"\"\n",
    "\n",
    "gdp_cap = pd.read_sql(query, conn)\n",
    "gdp_cap.plot.scatter(x = \"population\",y = \"gdp-per-capita\")"
   ]
  },
  {
   "cell_type": "code",
   "execution_count": 26,
   "metadata": {
    "execution": {
     "iopub.execute_input": "2021-04-29T05:10:44.804727Z",
     "iopub.status.busy": "2021-04-29T05:10:44.803864Z",
     "iopub.status.idle": "2021-04-29T05:10:44.813357Z",
     "shell.execute_reply": "2021-04-29T05:10:44.813932Z"
    }
   },
   "outputs": [
    {
     "data": {
      "text/html": [
       "<div>\n",
       "<style scoped>\n",
       "    .dataframe tbody tr th:only-of-type {\n",
       "        vertical-align: middle;\n",
       "    }\n",
       "\n",
       "    .dataframe tbody tr th {\n",
       "        vertical-align: top;\n",
       "    }\n",
       "\n",
       "    .dataframe thead th {\n",
       "        text-align: right;\n",
       "    }\n",
       "</style>\n",
       "<table border=\"1\" class=\"dataframe\">\n",
       "  <thead>\n",
       "    <tr style=\"text-align: right;\">\n",
       "      <th></th>\n",
       "      <th>country</th>\n",
       "      <th>population</th>\n",
       "      <th>gdp-per-capita</th>\n",
       "    </tr>\n",
       "  </thead>\n",
       "  <tbody>\n",
       "    <tr>\n",
       "      <th>0</th>\n",
       "      <td>India</td>\n",
       "      <td>1095351995</td>\n",
       "      <td>2900</td>\n",
       "    </tr>\n",
       "    <tr>\n",
       "      <th>1</th>\n",
       "      <td>China</td>\n",
       "      <td>1313973713</td>\n",
       "      <td>5000</td>\n",
       "    </tr>\n",
       "    <tr>\n",
       "      <th>2</th>\n",
       "      <td>United States</td>\n",
       "      <td>298444215</td>\n",
       "      <td>37800</td>\n",
       "    </tr>\n",
       "    <tr>\n",
       "      <th>3</th>\n",
       "      <td>Luxembourg</td>\n",
       "      <td>474413</td>\n",
       "      <td>55100</td>\n",
       "    </tr>\n",
       "  </tbody>\n",
       "</table>\n",
       "</div>"
      ],
      "text/plain": [
       "         country  population  gdp-per-capita\n",
       "0          India  1095351995            2900\n",
       "1          China  1313973713            5000\n",
       "2  United States   298444215           37800\n",
       "3     Luxembourg      474413           55100"
      ]
     },
     "execution_count": 1,
     "metadata": {},
     "output_type": "execute_result"
    }
   ],
   "source": [
    "#q19\n",
    "query = \"\"\"SELECT country, population, \"gdp-per-capita\"\n",
    "  FROM countries \n",
    "  WHERE (population >= 298000000) OR (\"gdp-per-capita\"=55100)\n",
    "  ORDER BY \"gdp-per-capita\" ASC\n",
    " \"\"\"\n",
    "\n",
    "outlie = pd.read_sql(query, conn)\n",
    "outlie"
   ]
  },
  {
   "cell_type": "code",
   "execution_count": 27,
   "metadata": {
    "execution": {
     "iopub.execute_input": "2021-04-29T05:10:44.862701Z",
     "iopub.status.busy": "2021-04-29T05:10:44.861771Z",
     "iopub.status.idle": "2021-04-29T05:10:44.961715Z",
     "shell.execute_reply": "2021-04-29T05:10:44.962249Z"
    }
   },
   "outputs": [
    {
     "data": {
      "text/plain": [
       "Text(0, 0.5, '')"
      ]
     },
     "execution_count": 1,
     "metadata": {},
     "output_type": "execute_result"
    },
    {
     "data": {
      "image/png": "[encoded data removed]",
      "text/plain": [
       "<Figure size 432x288 with 1 Axes>"
      ]
     },
     "metadata": {},
     "output_type": "display_data"
    }
   ],
   "source": [
    "#q20\n",
    "actual=actual.set_index(\"country\")\n",
    "ax = actual.plot.pie(y=\"Real GDP (billion)\", title= \"GDP Breakdown\")\n",
    "ax.get_legend().remove()\n",
    "ax.set_ylabel(\"\")"
   ]
  },
  {
   "cell_type": "code",
   "execution_count": null,
   "metadata": {},
   "outputs": [],
   "source": []
  }
 ],
 "metadata": {
  "kernelspec": {
   "display_name": "Python 3",
   "language": "python",
   "name": "python3"
  },
  "language_info": {
   "codemirror_mode": {
    "name": "ipython",
    "version": 3
   },
   "file_extension": ".py",
   "mimetype": "text/x-python",
   "name": "python",
   "nbconvert_exporter": "python",
   "pygments_lexer": "ipython3",
   "version": "3.8.5"
  }
 },
 "nbformat": 4,
 "nbformat_minor": 4
}
