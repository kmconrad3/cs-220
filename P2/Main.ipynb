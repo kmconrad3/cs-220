{
 "cells": [
  {
   "cell_type": "code",
   "execution_count": 1,
   "metadata": {},
   "outputs": [],
   "source": [
    "# This line is a comment because it starts with a pound sign (#). That                                                                                                                                         \n",
    "# means Python ignores it.  A comment is just for a human reading the                                                                                                                                          \n",
    "# code.  This project involves 20 small problems to give you practice                                                                                                                                          \n",
    "# with operators, types, and boolean logic.  We'll give you directions                                                                                                                                         \n",
    "# (as comments) on what to do for each problem.                                                                                                                                                                \n",
    "#                                                                                                                                                                                                              \n",
    "# Before you get started, please tell us who you are, putting your\n",
    "# Net ID and your partner's Net ID below (or none if your working solo)                                                                                                                                      \n",
    "\n",
    "# project: p2\n",
    "# submitter: kmconrad3\n",
    "# partner: none\n",
    "# hours: 1"
   ]
  },
  {
   "cell_type": "code",
   "execution_count": 2,
   "metadata": {},
   "outputs": [
    {
     "data": {
      "text/plain": [
       "2"
      ]
     },
     "execution_count": 2,
     "metadata": {},
     "output_type": "execute_result"
    }
   ],
   "source": [
    "#q1: what is 1+1?\n",
    "\n",
    "# we did this one for you :)\n",
    "\n",
    "1+1"
   ]
  },
  {
   "cell_type": "code",
   "execution_count": 3,
   "metadata": {},
   "outputs": [
    {
     "data": {
      "text/plain": [
       "41"
      ]
     },
     "execution_count": 3,
     "metadata": {},
     "output_type": "execute_result"
    }
   ],
   "source": [
    "#q2: what is 20 + 21?\n",
    "\n",
    "# We expect your answer to be similar to the answer for q1 and not just the final value of the expression\n",
    "\n",
    "20+21"
   ]
  },
  {
   "cell_type": "code",
   "execution_count": 4,
   "metadata": {},
   "outputs": [
    {
     "data": {
      "text/plain": [
       "int"
      ]
     },
     "execution_count": 4,
     "metadata": {},
     "output_type": "execute_result"
    }
   ],
   "source": [
    "#q3: what is the type of 1+1?\n",
    "\n",
    "# we did this one for you too...\n",
    "\n",
    "type(1+1)"
   ]
  },
  {
   "cell_type": "code",
   "execution_count": 5,
   "metadata": {},
   "outputs": [
    {
     "data": {
      "text/plain": [
       "float"
      ]
     },
     "execution_count": 5,
     "metadata": {},
     "output_type": "execute_result"
    }
   ],
   "source": [
    "#q4: what is the type of 2021.3?\n",
    "\n",
    "# We expect the answers for q4-q9 to be similar to the answer for q3 and not just the final type value\n",
    "\n",
    "type(2020.3) "
   ]
  },
  {
   "cell_type": "code",
   "execution_count": 6,
   "metadata": {},
   "outputs": [
    {
     "data": {
      "text/plain": [
       "int"
      ]
     },
     "execution_count": 6,
     "metadata": {},
     "output_type": "execute_result"
    }
   ],
   "source": [
    "#q5: what is the type of 2021//3?\n",
    "\n",
    "type(2021//3) "
   ]
  },
  {
   "cell_type": "code",
   "execution_count": 7,
   "metadata": {},
   "outputs": [
    {
     "data": {
      "text/plain": [
       "str"
      ]
     },
     "execution_count": 7,
     "metadata": {},
     "output_type": "execute_result"
    }
   ],
   "source": [
    "#q6: what is the type of \"2021\"?  Note the quotes!\n",
    "\n",
    "type(\"2021\") "
   ]
  },
  {
   "cell_type": "code",
   "execution_count": 8,
   "metadata": {},
   "outputs": [
    {
     "data": {
      "text/plain": [
       "str"
      ]
     },
     "execution_count": 8,
     "metadata": {},
     "output_type": "execute_result"
    }
   ],
   "source": [
    "#q7: what is the type of \"True\"?  Note the quotes!\n",
    "\n",
    "type(\"True\")"
   ]
  },
  {
   "cell_type": "code",
   "execution_count": 9,
   "metadata": {},
   "outputs": [
    {
     "data": {
      "text/plain": [
       "bool"
      ]
     },
     "execution_count": 9,
     "metadata": {},
     "output_type": "execute_result"
    }
   ],
   "source": [
    "#q8: what is the type of True?\n",
    "\n",
    "type(True) "
   ]
  },
  {
   "cell_type": "code",
   "execution_count": 10,
   "metadata": {},
   "outputs": [
    {
     "data": {
      "text/plain": [
       "bool"
      ]
     },
     "execution_count": 10,
     "metadata": {},
     "output_type": "execute_result"
    }
   ],
   "source": [
    "#q9: what is the type of 2021<2020?\n",
    "\n",
    "type(2021<2020) "
   ]
  },
  {
   "cell_type": "code",
   "execution_count": 11,
   "metadata": {},
   "outputs": [
    {
     "data": {
      "text/plain": [
       "2021"
      ]
     },
     "execution_count": 11,
     "metadata": {},
     "output_type": "execute_result"
    }
   ],
   "source": [
    "#q10: what is two thousand plus twenty one?\n",
    "\n",
    "# fix the below to make Python do an addition that produces 2021\n",
    "\n",
    "2000+21 \n"
   ]
  },
  {
   "cell_type": "code",
   "execution_count": 12,
   "metadata": {},
   "outputs": [
    {
     "data": {
      "text/plain": [
       "':):):):):):):-):-):-)'"
      ]
     },
     "execution_count": 12,
     "metadata": {},
     "output_type": "execute_result"
    }
   ],
   "source": [
    "#q11: please fix the following to display 6 smileys without a nose and 3 smileys with a nose\n",
    "\n",
    "(\":)\" * 6) + (\":-)\" * 3) \n"
   ]
  },
  {
   "cell_type": "code",
   "execution_count": 13,
   "metadata": {},
   "outputs": [
    {
     "data": {
      "text/plain": [
       "42"
      ]
     },
     "execution_count": 13,
     "metadata": {},
     "output_type": "execute_result"
    }
   ],
   "source": [
    "#q12: please fix the following to get 42\n",
    "\n",
    "6 * 7 \n"
   ]
  },
  {
   "cell_type": "code",
   "execution_count": 14,
   "metadata": {},
   "outputs": [
    {
     "data": {
      "text/plain": [
       "216"
      ]
     },
     "execution_count": 14,
     "metadata": {},
     "output_type": "execute_result"
    }
   ],
   "source": [
    "#q13: what is the volume of a cube with side length of 6?\n",
    "\n",
    "# oops, it is currently computing the area of a square (please fix)\n",
    "\n",
    "6 ** 3 \n"
   ]
  },
  {
   "cell_type": "code",
   "execution_count": 15,
   "metadata": {},
   "outputs": [
    {
     "data": {
      "text/plain": [
       "60"
      ]
     },
     "execution_count": 15,
     "metadata": {},
     "output_type": "execute_result"
    }
   ],
   "source": [
    "#q14: you start with 20 dollars and triple your money every decade.\n",
    "# how much will you have after 4 decades?\n",
    "\n",
    "# We expect the answer to be a mathematical expression, and not just the final value\n",
    "\n",
    "20*(3**4)"
   ]
  },
  {
   "cell_type": "code",
   "execution_count": 16,
   "metadata": {},
   "outputs": [
    {
     "data": {
      "text/plain": [
       "True"
      ]
     },
     "execution_count": 16,
     "metadata": {},
     "output_type": "execute_result"
    }
   ],
   "source": [
    "#q15: fix the Python logic to match the English\n",
    "\n",
    "# In English: 200 is less than 2021 and greater than 120\n",
    "\n",
    "# In Python:\n",
    "200 < 2021 and 200 > 120 \n"
   ]
  },
  {
   "cell_type": "code",
   "execution_count": 17,
   "metadata": {},
   "outputs": [
    {
     "data": {
      "text/plain": [
       "True"
      ]
     },
     "execution_count": 17,
     "metadata": {},
     "output_type": "execute_result"
    }
   ],
   "source": [
    "#q16: change ONLY the value of x to get True for the output\n",
    "\n",
    "x = 201\n",
    "\n",
    "x < 2021 and x > 200"
   ]
  },
  {
   "cell_type": "code",
   "execution_count": 18,
   "metadata": {},
   "outputs": [
    {
     "data": {
      "text/plain": [
       "True"
      ]
     },
     "execution_count": 18,
     "metadata": {},
     "output_type": "execute_result"
    }
   ],
   "source": [
    "#q17: change ONLY the value of x to get True for the output\n",
    "\n",
    "x = 3021\n",
    "\n",
    "(x > 3000 and x < 3022) and (x >= 3021 and x < 3500)"
   ]
  },
  {
   "cell_type": "code",
   "execution_count": 19,
   "metadata": {},
   "outputs": [
    {
     "data": {
      "text/plain": [
       "True"
      ]
     },
     "execution_count": 19,
     "metadata": {},
     "output_type": "execute_result"
    }
   ],
   "source": [
    "#q18: Fix the following logic so that it checks whether x is \n",
    "# either -2021 or 2021. \n",
    "\n",
    "# The correct output should be True, \n",
    "# as x indeed equals to -2021 or 2021. \n",
    "# The problem is with types: to the left\n",
    "# of the or, we have a boolean, and to the right of\n",
    "# the or, we have an integer.  This semester, we will\n",
    "# always try to have a boolean to both the left and\n",
    "# right of logical operators such as or.\n",
    "\n",
    "x = 2021\n",
    "\n",
    "\n",
    "-2021==x or 2021==x"
   ]
  },
  {
   "cell_type": "code",
   "execution_count": 20,
   "metadata": {},
   "outputs": [
    {
     "data": {
      "text/plain": [
       "True"
      ]
     },
     "execution_count": 20,
     "metadata": {},
     "output_type": "execute_result"
    }
   ],
   "source": [
    "#q19: we should win!\n",
    "\n",
    "number = 30 \n",
    "\n",
    "# There are three winners, with numbers 30, 200, and 2021\n",
    "# The following should output True if number is changed\n",
    "# to be any of these (but the logic is currently wrong).\n",
    "# Please update the following expression so we get True\n",
    "# if the number variable is changed to any of the winning\n",
    "# options.\n",
    "\n",
    "# Did we win?\n",
    "number == 30 or number == 200 or number == 2021"
   ]
  },
  {
   "cell_type": "code",
   "execution_count": 21,
   "metadata": {},
   "outputs": [
    {
     "data": {
      "text/plain": [
       "100.48"
      ]
     },
     "execution_count": 21,
     "metadata": {},
     "output_type": "execute_result"
    }
   ],
   "source": [
    "#q20: what is the volume of a cylinder with radius 4 and height 2?\n",
    "# you may assume PI is 3.14 \n",
    "\n",
    "# We expect the answer to be a mathematical expression, and not just the final value\n",
    "\n",
    "3.14*4*4*2"
   ]
  }
 ],
 "metadata": {
  "anaconda-cloud": {},
  "kernelspec": {
   "display_name": "Python 3",
   "language": "python",
   "name": "python3"
  },
  "language_info": {
   "codemirror_mode": {
    "name": "ipython",
    "version": 3
   },
   "file_extension": ".py",
   "mimetype": "text/x-python",
   "name": "python",
   "nbconvert_exporter": "python",
   "pygments_lexer": "ipython3",
   "version": "3.8.5"
  }
 },
 "nbformat": 4,
 "nbformat_minor": 4
}
