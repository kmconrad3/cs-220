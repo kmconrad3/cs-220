{
 "cells": [
  {
   "cell_type": "code",
   "execution_count": 1,
   "metadata": {
    "execution": {
     "iopub.execute_input": "2021-02-08T04:54:25.606660Z",
     "iopub.status.busy": "2021-02-08T04:54:25.605528Z",
     "iopub.status.idle": "2021-02-08T04:54:25.608552Z",
     "shell.execute_reply": "2021-02-08T04:54:25.609337Z"
    }
   },
   "outputs": [],
   "source": [
    "# This line is a comment because it starts with a pound sign (#). That                                                                                                                                         \n",
    "# means Python ignores it.  A comment is just for a human reading the                                                                                                                                          \n",
    "# code.  This project involves 20 small problems to give you practice                                                                                                                                          \n",
    "# with operators, types, and boolean logic.  We'll give you directions                                                                                                                                         \n",
    "# (as comments) on what to do for each problem.                                                                                                                                                                \n",
    "#                                                                                                                                                                                                              \n",
    "# Before you get started, please tell us who you are, putting your\n",
    "# Net ID and your partner's Net ID below (or none if your working solo)                                                                                                                                      \n",
    "\n",
    "# project: p2\n",
    "# submitter: kmconrad3\n",
    "# partner: none\n",
    "# hours: 1"
   ]
  },
  {
   "cell_type": "code",
   "execution_count": 2,
   "metadata": {
    "execution": {
     "iopub.execute_input": "2021-02-08T04:54:25.619769Z",
     "iopub.status.busy": "2021-02-08T04:54:25.618883Z",
     "iopub.status.idle": "2021-02-08T04:54:25.622152Z",
     "shell.execute_reply": "2021-02-08T04:54:25.622656Z"
    }
   },
   "outputs": [
    {
     "data": {
      "text/plain": [
       "2"
      ]
     },
     "execution_count": 1,
     "metadata": {},
     "output_type": "execute_result"
    }
   ],
   "source": [
    "#q1: what is 1+1?\n",
    "\n",
    "# we did this one for you :)\n",
    "\n",
    "1+1"
   ]
  },
  {
   "cell_type": "code",
   "execution_count": 3,
   "metadata": {
    "execution": {
     "iopub.execute_input": "2021-02-08T04:54:25.628111Z",
     "iopub.status.busy": "2021-02-08T04:54:25.627251Z",
     "iopub.status.idle": "2021-02-08T04:54:25.630522Z",
     "shell.execute_reply": "2021-02-08T04:54:25.631237Z"
    }
   },
   "outputs": [
    {
     "data": {
      "text/plain": [
       "41"
      ]
     },
     "execution_count": 1,
     "metadata": {},
     "output_type": "execute_result"
    }
   ],
   "source": [
    "#q2: what is 20 + 21?\n",
    "\n",
    "# We expect your answer to be similar to the answer for q1 and not just the final value of the expression\n",
    "\n",
    "20+21"
   ]
  },
  {
   "cell_type": "code",
   "execution_count": 4,
   "metadata": {
    "execution": {
     "iopub.execute_input": "2021-02-08T04:54:25.638590Z",
     "iopub.status.busy": "2021-02-08T04:54:25.637018Z",
     "iopub.status.idle": "2021-02-08T04:54:25.640951Z",
     "shell.execute_reply": "2021-02-08T04:54:25.641668Z"
    }
   },
   "outputs": [
    {
     "data": {
      "text/plain": [
       "int"
      ]
     },
     "execution_count": 1,
     "metadata": {},
     "output_type": "execute_result"
    }
   ],
   "source": [
    "#q3: what is the type of 1+1?\n",
    "\n",
    "# we did this one for you too...\n",
    "\n",
    "type(1+1)"
   ]
  },
  {
   "cell_type": "code",
   "execution_count": 5,
   "metadata": {
    "execution": {
     "iopub.execute_input": "2021-02-08T04:54:25.647061Z",
     "iopub.status.busy": "2021-02-08T04:54:25.646102Z",
     "iopub.status.idle": "2021-02-08T04:54:25.649192Z",
     "shell.execute_reply": "2021-02-08T04:54:25.650088Z"
    }
   },
   "outputs": [
    {
     "data": {
      "text/plain": [
       "float"
      ]
     },
     "execution_count": 1,
     "metadata": {},
     "output_type": "execute_result"
    }
   ],
   "source": [
    "#q4: what is the type of 2021.3?\n",
    "\n",
    "# We expect the answers for q4-q9 to be similar to the answer for q3 and not just the final type value\n",
    "\n",
    "type(2020.3) "
   ]
  },
  {
   "cell_type": "code",
   "execution_count": 6,
   "metadata": {
    "execution": {
     "iopub.execute_input": "2021-02-08T04:54:25.655413Z",
     "iopub.status.busy": "2021-02-08T04:54:25.654435Z",
     "iopub.status.idle": "2021-02-08T04:54:25.657726Z",
     "shell.execute_reply": "2021-02-08T04:54:25.658458Z"
    }
   },
   "outputs": [
    {
     "data": {
      "text/plain": [
       "int"
      ]
     },
     "execution_count": 1,
     "metadata": {},
     "output_type": "execute_result"
    }
   ],
   "source": [
    "#q5: what is the type of 2021//3?\n",
    "\n",
    "type(2021//3) "
   ]
  },
  {
   "cell_type": "code",
   "execution_count": 7,
   "metadata": {
    "execution": {
     "iopub.execute_input": "2021-02-08T04:54:25.663378Z",
     "iopub.status.busy": "2021-02-08T04:54:25.662442Z",
     "iopub.status.idle": "2021-02-08T04:54:25.665625Z",
     "shell.execute_reply": "2021-02-08T04:54:25.666353Z"
    }
   },
   "outputs": [
    {
     "data": {
      "text/plain": [
       "str"
      ]
     },
     "execution_count": 1,
     "metadata": {},
     "output_type": "execute_result"
    }
   ],
   "source": [
    "#q6: what is the type of \"2021\"?  Note the quotes!\n",
    "\n",
    "type(\"2021\") "
   ]
  },
  {
   "cell_type": "code",
   "execution_count": 8,
   "metadata": {
    "execution": {
     "iopub.execute_input": "2021-02-08T04:54:25.671546Z",
     "iopub.status.busy": "2021-02-08T04:54:25.670592Z",
     "iopub.status.idle": "2021-02-08T04:54:25.673933Z",
     "shell.execute_reply": "2021-02-08T04:54:25.674657Z"
    }
   },
   "outputs": [
    {
     "data": {
      "text/plain": [
       "str"
      ]
     },
     "execution_count": 1,
     "metadata": {},
     "output_type": "execute_result"
    }
   ],
   "source": [
    "#q7: what is the type of \"True\"?  Note the quotes!\n",
    "\n",
    "type(\"True\")"
   ]
  },
  {
   "cell_type": "code",
   "execution_count": 9,
   "metadata": {
    "execution": {
     "iopub.execute_input": "2021-02-08T04:54:25.679484Z",
     "iopub.status.busy": "2021-02-08T04:54:25.678639Z",
     "iopub.status.idle": "2021-02-08T04:54:25.681647Z",
     "shell.execute_reply": "2021-02-08T04:54:25.682362Z"
    }
   },
   "outputs": [
    {
     "data": {
      "text/plain": [
       "bool"
      ]
     },
     "execution_count": 1,
     "metadata": {},
     "output_type": "execute_result"
    }
   ],
   "source": [
    "#q8: what is the type of True?\n",
    "\n",
    "type(True) "
   ]
  },
  {
   "cell_type": "code",
   "execution_count": 10,
   "metadata": {
    "execution": {
     "iopub.execute_input": "2021-02-08T04:54:25.687487Z",
     "iopub.status.busy": "2021-02-08T04:54:25.686602Z",
     "iopub.status.idle": "2021-02-08T04:54:25.689829Z",
     "shell.execute_reply": "2021-02-08T04:54:25.690548Z"
    }
   },
   "outputs": [
    {
     "data": {
      "text/plain": [
       "bool"
      ]
     },
     "execution_count": 1,
     "metadata": {},
     "output_type": "execute_result"
    }
   ],
   "source": [
    "#q9: what is the type of 2021<2020?\n",
    "\n",
    "type(2021<2020) "
   ]
  },
  {
   "cell_type": "code",
   "execution_count": 11,
   "metadata": {
    "execution": {
     "iopub.execute_input": "2021-02-08T04:54:25.695421Z",
     "iopub.status.busy": "2021-02-08T04:54:25.694530Z",
     "iopub.status.idle": "2021-02-08T04:54:25.697488Z",
     "shell.execute_reply": "2021-02-08T04:54:25.698202Z"
    }
   },
   "outputs": [
    {
     "data": {
      "text/plain": [
       "2021"
      ]
     },
     "execution_count": 1,
     "metadata": {},
     "output_type": "execute_result"
    }
   ],
   "source": [
    "#q10: what is two thousand plus twenty one?\n",
    "\n",
    "# fix the below to make Python do an addition that produces 2021\n",
    "\n",
    "2000+21 \n"
   ]
  },
  {
   "cell_type": "code",
   "execution_count": 12,
   "metadata": {
    "execution": {
     "iopub.execute_input": "2021-02-08T04:54:25.703363Z",
     "iopub.status.busy": "2021-02-08T04:54:25.702474Z",
     "iopub.status.idle": "2021-02-08T04:54:25.706355Z",
     "shell.execute_reply": "2021-02-08T04:54:25.705647Z"
    }
   },
   "outputs": [
    {
     "data": {
      "text/plain": [
       "':):):):):):):-):-):-)'"
      ]
     },
     "execution_count": 1,
     "metadata": {},
     "output_type": "execute_result"
    }
   ],
   "source": [
    "#q11: please fix the following to display 6 smileys without a nose and 3 smileys with a nose\n",
    "\n",
    "(\":)\" * 6) + (\":-)\" * 3) \n"
   ]
  },
  {
   "cell_type": "code",
   "execution_count": 13,
   "metadata": {
    "execution": {
     "iopub.execute_input": "2021-02-08T04:54:25.711168Z",
     "iopub.status.busy": "2021-02-08T04:54:25.710278Z",
     "iopub.status.idle": "2021-02-08T04:54:25.713275Z",
     "shell.execute_reply": "2021-02-08T04:54:25.713988Z"
    }
   },
   "outputs": [
    {
     "data": {
      "text/plain": [
       "42"
      ]
     },
     "execution_count": 1,
     "metadata": {},
     "output_type": "execute_result"
    }
   ],
   "source": [
    "#q12: please fix the following to get 42\n",
    "\n",
    "6 * 7 \n"
   ]
  },
  {
   "cell_type": "code",
   "execution_count": 14,
   "metadata": {
    "execution": {
     "iopub.execute_input": "2021-02-08T04:54:25.718923Z",
     "iopub.status.busy": "2021-02-08T04:54:25.718013Z",
     "iopub.status.idle": "2021-02-08T04:54:25.720996Z",
     "shell.execute_reply": "2021-02-08T04:54:25.721714Z"
    }
   },
   "outputs": [
    {
     "data": {
      "text/plain": [
       "216"
      ]
     },
     "execution_count": 1,
     "metadata": {},
     "output_type": "execute_result"
    }
   ],
   "source": [
    "#q13: what is the volume of a cube with side length of 6?\n",
    "\n",
    "# oops, it is currently computing the area of a square (please fix)\n",
    "\n",
    "6 ** 3 \n"
   ]
  },
  {
   "cell_type": "code",
   "execution_count": 15,
   "metadata": {
    "execution": {
     "iopub.execute_input": "2021-02-08T04:54:25.726603Z",
     "iopub.status.busy": "2021-02-08T04:54:25.725795Z",
     "iopub.status.idle": "2021-02-08T04:54:25.728759Z",
     "shell.execute_reply": "2021-02-08T04:54:25.729487Z"
    }
   },
   "outputs": [
    {
     "data": {
      "text/plain": [
       "1620"
      ]
     },
     "execution_count": 1,
     "metadata": {},
     "output_type": "execute_result"
    }
   ],
   "source": [
    "#q14: you start with 20 dollars and triple your money every decade.\n",
    "# how much will you have after 4 decades?\n",
    "\n",
    "# We expect the answer to be a mathematical expression, and not just the final value\n",
    "\n",
    "20*(3**4)"
   ]
  },
  {
   "cell_type": "code",
   "execution_count": 16,
   "metadata": {
    "execution": {
     "iopub.execute_input": "2021-02-08T04:54:25.735001Z",
     "iopub.status.busy": "2021-02-08T04:54:25.734140Z",
     "iopub.status.idle": "2021-02-08T04:54:25.737099Z",
     "shell.execute_reply": "2021-02-08T04:54:25.737808Z"
    }
   },
   "outputs": [
    {
     "data": {
      "text/plain": [
       "True"
      ]
     },
     "execution_count": 1,
     "metadata": {},
     "output_type": "execute_result"
    }
   ],
   "source": [
    "#q15: fix the Python logic to match the English\n",
    "\n",
    "# In English: 200 is less than 2021 and greater than 120\n",
    "\n",
    "# In Python:\n",
    "200 < 2021 and 200 > 120 \n"
   ]
  },
  {
   "cell_type": "code",
   "execution_count": 17,
   "metadata": {
    "execution": {
     "iopub.execute_input": "2021-02-08T04:54:25.743034Z",
     "iopub.status.busy": "2021-02-08T04:54:25.742179Z",
     "iopub.status.idle": "2021-02-08T04:54:25.745136Z",
     "shell.execute_reply": "2021-02-08T04:54:25.745842Z"
    }
   },
   "outputs": [
    {
     "data": {
      "text/plain": [
       "True"
      ]
     },
     "execution_count": 1,
     "metadata": {},
     "output_type": "execute_result"
    }
   ],
   "source": [
    "#q16: change ONLY the value of x to get True for the output\n",
    "\n",
    "x = 201\n",
    "\n",
    "x < 2021 and x > 200"
   ]
  },
  {
   "cell_type": "code",
   "execution_count": 18,
   "metadata": {
    "execution": {
     "iopub.execute_input": "2021-02-08T04:54:25.751206Z",
     "iopub.status.busy": "2021-02-08T04:54:25.750294Z",
     "iopub.status.idle": "2021-02-08T04:54:25.753364Z",
     "shell.execute_reply": "2021-02-08T04:54:25.754085Z"
    }
   },
   "outputs": [
    {
     "data": {
      "text/plain": [
       "True"
      ]
     },
     "execution_count": 1,
     "metadata": {},
     "output_type": "execute_result"
    }
   ],
   "source": [
    "#q17: change ONLY the value of x to get True for the output\n",
    "\n",
    "x = 3021\n",
    "\n",
    "(x > 3000 and x < 3022) and (x >= 3021 and x < 3500)"
   ]
  },
  {
   "cell_type": "code",
   "execution_count": 19,
   "metadata": {
    "execution": {
     "iopub.execute_input": "2021-02-08T04:54:25.759299Z",
     "iopub.status.busy": "2021-02-08T04:54:25.758475Z",
     "iopub.status.idle": "2021-02-08T04:54:25.761543Z",
     "shell.execute_reply": "2021-02-08T04:54:25.762256Z"
    }
   },
   "outputs": [
    {
     "data": {
      "text/plain": [
       "True"
      ]
     },
     "execution_count": 1,
     "metadata": {},
     "output_type": "execute_result"
    }
   ],
   "source": [
    "#q18: Fix the following logic so that it checks whether x is \n",
    "# either -2021 or 2021. \n",
    "\n",
    "# The correct output should be True, \n",
    "# as x indeed equals to -2021 or 2021. \n",
    "# The problem is with types: to the left\n",
    "# of the or, we have a boolean, and to the right of\n",
    "# the or, we have an integer.  This semester, we will\n",
    "# always try to have a boolean to both the left and\n",
    "# right of logical operators such as or.\n",
    "\n",
    "x = 2021\n",
    "\n",
    "\n",
    "-2021==x or 2021==x"
   ]
  },
  {
   "cell_type": "code",
   "execution_count": 20,
   "metadata": {
    "execution": {
     "iopub.execute_input": "2021-02-08T04:54:25.767539Z",
     "iopub.status.busy": "2021-02-08T04:54:25.766599Z",
     "iopub.status.idle": "2021-02-08T04:54:25.769661Z",
     "shell.execute_reply": "2021-02-08T04:54:25.770370Z"
    }
   },
   "outputs": [
    {
     "data": {
      "text/plain": [
       "True"
      ]
     },
     "execution_count": 1,
     "metadata": {},
     "output_type": "execute_result"
    }
   ],
   "source": [
    "#q19: we should win!\n",
    "\n",
    "number = 30 \n",
    "\n",
    "# There are three winners, with numbers 30, 200, and 2021\n",
    "# The following should output True if number is changed\n",
    "# to be any of these (but the logic is currently wrong).\n",
    "# Please update the following expression so we get True\n",
    "# if the number variable is changed to any of the winning\n",
    "# options.\n",
    "\n",
    "# Did we win?\n",
    "number == 30 or number == 200 or number == 2021"
   ]
  },
  {
   "cell_type": "code",
   "execution_count": 21,
   "metadata": {
    "execution": {
     "iopub.execute_input": "2021-02-08T04:54:25.775284Z",
     "iopub.status.busy": "2021-02-08T04:54:25.774493Z",
     "iopub.status.idle": "2021-02-08T04:54:25.778132Z",
     "shell.execute_reply": "2021-02-08T04:54:25.777585Z"
    }
   },
   "outputs": [
    {
     "data": {
      "text/plain": [
       "100.48"
      ]
     },
     "execution_count": 1,
     "metadata": {},
     "output_type": "execute_result"
    }
   ],
   "source": [
    "#q20: what is the volume of a cylinder with radius 4 and height 2?\n",
    "# you may assume PI is 3.14 \n",
    "\n",
    "# We expect the answer to be a mathematical expression, and not just the final value\n",
    "\n",
    "3.14*4*4*2"
   ]
  }
 ],
 "metadata": {
  "anaconda-cloud": {},
  "kernelspec": {
   "display_name": "Python 3",
   "language": "python",
   "name": "python3"
  },
  "language_info": {
   "codemirror_mode": {
    "name": "ipython",
    "version": 3
   },
   "file_extension": ".py",
   "mimetype": "text/x-python",
   "name": "python",
   "nbconvert_exporter": "python",
   "pygments_lexer": "ipython3",
   "version": "3.8.5"
  }
 },
 "nbformat": 4,
 "nbformat_minor": 4
}
