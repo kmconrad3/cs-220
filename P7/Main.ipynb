{
 "cells": [
  {
   "cell_type": "code",
   "execution_count": 1,
   "metadata": {},
   "outputs": [],
   "source": [
    "# project: p7\n",
    "# submitter: Kmconrad3\n",
    "# partner: Akroubal\n",
    "# hours: 6"
   ]
  },
  {
   "cell_type": "code",
   "execution_count": 2,
   "metadata": {},
   "outputs": [],
   "source": [
    "import csv\n",
    "\n",
    "covid_file = open('covid19.csv', encoding='utf-8')\n",
    "file_reader = csv.reader(covid_file)\n",
    "covid_data = list(file_reader)\n",
    "covid_file.close()\n",
    "header = covid_data[0]\n",
    "covid_data = covid_data[1:]\n",
    "\n",
    "#convert str to float/int types in columns having numerical values\n",
    "for row in covid_data:\n",
    "    for idx in [3, 4, 5, 7, 8, 9, 10]: #fills empty cell with 0 values\n",
    "        if row[idx] == '':\n",
    "            row[idx] = 0\n",
    "        if idx in [3, 4, 5, 7]:\n",
    "            row[idx] = int(row[idx])\n",
    "        elif idx in [8, 9, 10]:\n",
    "            row[idx] = float(row[idx])"
   ]
  },
  {
   "cell_type": "code",
   "execution_count": 3,
   "metadata": {},
   "outputs": [
    {
     "name": "stdout",
     "output_type": "stream",
     "text": [
      "['country', 'continent', 'date', 'new_vaccinations', 'total_vaccinations', 'people_fully_vaccinated', 'vaccine_used', 'population', 'population_density', 'gdp_per_capita', 'human_development_index']\n",
      "['Afghanistan', 'Asia', '2021-02-10', 0, 0, 0, '', 38928341, 54.422, 1803.987, 0.511]\n",
      "['Afghanistan', 'Asia', '2021-02-11', 0, 0, 0, '', 38928341, 54.422, 1803.987, 0.511]\n",
      "['Afghanistan', 'Asia', '2021-02-12', 0, 0, 0, '', 38928341, 54.422, 1803.987, 0.511]\n",
      "['Afghanistan', 'Asia', '2021-02-13', 0, 0, 0, '', 38928341, 54.422, 1803.987, 0.511]\n",
      "['Afghanistan', 'Asia', '2021-02-14', 0, 0, 0, '', 38928341, 54.422, 1803.987, 0.511]\n"
     ]
    },
    {
     "data": {
      "text/plain": [
       "0.511"
      ]
     },
     "execution_count": 3,
     "metadata": {},
     "output_type": "execute_result"
    }
   ],
   "source": [
    "print(header)\n",
    "\n",
    "for row in covid_data[:5]:\n",
    "    print(row)\n",
    "covid_data[1][10]"
   ]
  },
  {
   "cell_type": "code",
   "execution_count": 4,
   "metadata": {},
   "outputs": [
    {
     "data": {
      "text/plain": [
       "'Norway'"
      ]
     },
     "execution_count": 4,
     "metadata": {},
     "output_type": "execute_result"
    }
   ],
   "source": [
    "#q1\n",
    "highest_human = None \n",
    "highest_country = None\n",
    "i=0\n",
    "for human_development_index in covid_data:\n",
    "    if highest_human == None or covid_data[i][10] > highest_human:\n",
    "        highest_human = (covid_data[i][10])\n",
    "        highest_country = (covid_data[i][0])\n",
    "        i+=1\n",
    "    else:\n",
    "        i+=1\n",
    "        continue\n",
    "        \n",
    "highest_country"
   ]
  },
  {
   "cell_type": "code",
   "execution_count": 5,
   "metadata": {},
   "outputs": [
    {
     "data": {
      "text/plain": [
       "'Qatar'"
      ]
     },
     "execution_count": 5,
     "metadata": {},
     "output_type": "execute_result"
    }
   ],
   "source": [
    "#q2\n",
    "highest_gdp = None \n",
    "highest_country = None\n",
    "i=0\n",
    "for gdp_per_capita in covid_data:\n",
    "    if highest_gdp == None or covid_data[i][9] > highest_gdp:\n",
    "        highest_gdp = (covid_data[i][9])\n",
    "        highest_country = (covid_data[i][0])\n",
    "        i+=1\n",
    "    else:\n",
    "        i+=1\n",
    "        continue\n",
    "        \n",
    "highest_country"
   ]
  },
  {
   "cell_type": "code",
   "execution_count": 6,
   "metadata": {},
   "outputs": [
    {
     "data": {
      "text/plain": [
       "'Europe'"
      ]
     },
     "execution_count": 6,
     "metadata": {},
     "output_type": "execute_result"
    }
   ],
   "source": [
    "#q3\n",
    "highest_populationdens = None \n",
    "highest_continent = None\n",
    "i=0\n",
    "for gdp_per_capita in covid_data:\n",
    "    if highest_populationdens == None or covid_data[i][8] > highest_populationdens:\n",
    "        highest_populationdens = (covid_data[i][8])\n",
    "        highest_continent = (covid_data[i][1])\n",
    "        i+=1\n",
    "    else:\n",
    "        i+=1\n",
    "        continue\n",
    "        \n",
    "highest_continent"
   ]
  },
  {
   "cell_type": "code",
   "execution_count": 7,
   "metadata": {},
   "outputs": [
    {
     "data": {
      "text/plain": [
       "196"
      ]
     },
     "execution_count": 7,
     "metadata": {},
     "output_type": "execute_result"
    }
   ],
   "source": [
    "#q4\n",
    "def get_column(col_name):\n",
    "    uniquelist = []\n",
    "    i=0\n",
    "    for i in range(len(covid_data)):\n",
    "        if col_name == 'country':\n",
    "            uniquelist.append((covid_data[i][0]))\n",
    "            i+=1\n",
    "        elif col_name == 'continent':\n",
    "            uniquelist.append((covid_data[i][1]))\n",
    "            i+=1\n",
    "        elif col_name == 'date':\n",
    "            uniquelist.append((covid_data[i][2]))\n",
    "            i+=1\n",
    "        elif col_name == 'new_vaccinations':\n",
    "            uniquelist.append((covid_data[i][3]))\n",
    "            i+=1\n",
    "        elif col_name == 'total_vaccinations':\n",
    "            uniquelist.append((covid_data[i][4]))\n",
    "            i+=1\n",
    "        elif col_name == 'people_fully_vaccinated':\n",
    "            uniquelist.append((covid_data[i][5]))\n",
    "            i+=1\n",
    "        elif col_name == 'vaccine_used':\n",
    "            uniquelist.append((covid_data[i][6]))\n",
    "            i+=1\n",
    "        elif col_name == 'population':\n",
    "            uniquelist.append((covid_data[i][7]))\n",
    "            i+=1 \n",
    "        elif col_name == 'population_density':\n",
    "            uniquelist.append((covid_data[i][8]))\n",
    "            i+=1\n",
    "        elif col_name == 'gdp_per_capita':\n",
    "            uniquelist.append((covid_data[i][9]))\n",
    "            i+=1\n",
    "        elif col_name == 'human_development_index':\n",
    "            uniquelist.append((covid_data[i][10]))\n",
    "            i+=1\n",
    "        else:\n",
    "            i+=1\n",
    "            continue\n",
    "    return (uniquelist)\n",
    " \n",
    "len(list(set(get_column('country'))))"
   ]
  },
  {
   "cell_type": "code",
   "execution_count": 8,
   "metadata": {},
   "outputs": [
    {
     "data": {
      "text/plain": [
       "['2021-02-15',\n",
       " '2021-02-13',\n",
       " '2021-02-10',\n",
       " '2021-02-11',\n",
       " '2021-02-16',\n",
       " '2021-02-14',\n",
       " '2021-02-12']"
      ]
     },
     "execution_count": 8,
     "metadata": {},
     "output_type": "execute_result"
    }
   ],
   "source": [
    "#q5\n",
    "list(set(get_column('date')))"
   ]
  },
  {
   "cell_type": "code",
   "execution_count": 9,
   "metadata": {},
   "outputs": [
    {
     "data": {
      "text/plain": [
       "27684220"
      ]
     },
     "execution_count": 9,
     "metadata": {},
     "output_type": "execute_result"
    }
   ],
   "source": [
    "#q6\n",
    "sum(get_column('new_vaccinations'))"
   ]
  },
  {
   "cell_type": "code",
   "execution_count": 10,
   "metadata": {},
   "outputs": [
    {
     "data": {
      "text/plain": [
       "[1439323774, 1380004385, 331002647, 273523621, 220892331]"
      ]
     },
     "execution_count": 10,
     "metadata": {},
     "output_type": "execute_result"
    }
   ],
   "source": [
    "#q7\n",
    "fivemax=list(set(get_column('population')))\n",
    "fivemax.sort()\n",
    "fivemax=fivemax[-5:-1]+fivemax[-1:]\n",
    "\n",
    "for i in range(0,4):\n",
    "    fivemax.append(fivemax[3-i])\n",
    "    fivemax.pop(3-i)\n",
    "    \n",
    "fivemax"
   ]
  },
  {
   "cell_type": "code",
   "execution_count": 11,
   "metadata": {},
   "outputs": [
    {
     "data": {
      "text/plain": [
       "[116935.6, 94277.965, 85535.383, 71809.251, 67335.293]"
      ]
     },
     "execution_count": 11,
     "metadata": {},
     "output_type": "execute_result"
    }
   ],
   "source": [
    "#q8\n",
    "l = sorted(list(set(get_column('gdp_per_capita'))))\n",
    "r = l[-5:]\n",
    "gdp = []\n",
    "for o in reversed(r):\n",
    "    gdp.append(o)\n",
    "    \n",
    "gdp"
   ]
  },
  {
   "cell_type": "code",
   "execution_count": 12,
   "metadata": {},
   "outputs": [
    {
     "data": {
      "text/plain": [
       "['Oxford/AstraZeneca',\n",
       " 'Moderna',\n",
       " 'Pfizer/BioNTech',\n",
       " 'Sinovac',\n",
       " 'Sputnik V',\n",
       " 'Covaxin',\n",
       " 'Sinopharm/Beijing']"
      ]
     },
     "execution_count": 12,
     "metadata": {},
     "output_type": "execute_result"
    }
   ],
   "source": [
    "#q9\n",
    "vaccinetypes = []\n",
    "for vaccine in get_column('vaccine_used'):\n",
    "    if len(vaccine) == 0:   \n",
    "        continue\n",
    "    else:\n",
    "        vaccinetypes.append(vaccine)\n",
    "        \n",
    "list(set(vaccinetypes))"
   ]
  },
  {
   "cell_type": "code",
   "execution_count": 13,
   "metadata": {},
   "outputs": [
    {
     "data": {
      "text/plain": [
       "{'Afghanistan': 0,\n",
       " 'Albania': 0,\n",
       " 'Algeria': 0,\n",
       " 'Andorra': 1291,\n",
       " 'Angola': 0,\n",
       " 'Anguilla': 1341,\n",
       " 'Antigua and Barbuda': 0,\n",
       " 'Argentina': 611169,\n",
       " 'Armenia': 0,\n",
       " 'Australia': 0,\n",
       " 'Austria': 378205,\n",
       " 'Azerbaijan': 0,\n",
       " 'Bahamas': 0,\n",
       " 'Bahrain': 252990,\n",
       " 'Bangladesh': 1359613,\n",
       " 'Barbados': 0,\n",
       " 'Belarus': 0,\n",
       " 'Belgium': 573774,\n",
       " 'Belize': 0,\n",
       " 'Benin': 0,\n",
       " 'Bermuda': 13155,\n",
       " 'Bhutan': 0,\n",
       " 'Bolivia': 10167,\n",
       " 'Bosnia and Herzegovina': 0,\n",
       " 'Botswana': 0,\n",
       " 'Brazil': 5609937,\n",
       " 'Brunei': 0,\n",
       " 'Bulgaria': 81338,\n",
       " 'Burkina Faso': 0,\n",
       " 'Burundi': 0,\n",
       " 'Cambodia': 1492,\n",
       " 'Cameroon': 0,\n",
       " 'Canada': 1306784,\n",
       " 'Cape Verde': 0,\n",
       " 'Cayman Islands': 15543,\n",
       " 'Central African Republic': 0,\n",
       " 'Chad': 0,\n",
       " 'Chile': 2375725,\n",
       " 'China': 0,\n",
       " 'Colombia': 0,\n",
       " 'Comoros': 0,\n",
       " 'Congo': 0,\n",
       " 'Costa Rica': 96948,\n",
       " \"Cote d'Ivoire\": 0,\n",
       " 'Croatia': 120603,\n",
       " 'Cuba': 0,\n",
       " 'Cyprus': 55673,\n",
       " 'Czechia': 466578,\n",
       " 'Democratic Republic of Congo': 0,\n",
       " 'Denmark': 421827,\n",
       " 'Djibouti': 0,\n",
       " 'Dominica': 0,\n",
       " 'Dominican Republic': 0,\n",
       " 'Ecuador': 0,\n",
       " 'Egypt': 0,\n",
       " 'El Salvador': 0,\n",
       " 'Equatorial Guinea': 0,\n",
       " 'Eritrea': 0,\n",
       " 'Estonia': 69313,\n",
       " 'Eswatini': 0,\n",
       " 'Ethiopia': 0,\n",
       " 'Faeroe Islands': 5355,\n",
       " 'Fiji': 0,\n",
       " 'Finland': 283926,\n",
       " 'France': 3014973,\n",
       " 'Gabon': 0,\n",
       " 'Gambia': 0,\n",
       " 'Georgia': 0,\n",
       " 'Germany': 4284554,\n",
       " 'Ghana': 0,\n",
       " 'Gibraltar': 26379,\n",
       " 'Greece': 575766,\n",
       " 'Grenada': 0,\n",
       " 'Guatemala': 0,\n",
       " 'Guinea': 0,\n",
       " 'Guinea-Bissau': 0,\n",
       " 'Guyana': 668,\n",
       " 'Haiti': 0,\n",
       " 'Honduras': 0,\n",
       " 'Hungary': 483751,\n",
       " 'Iceland': 20031,\n",
       " 'India': 8999230,\n",
       " 'Indonesia': 1658110,\n",
       " 'Iran': 0,\n",
       " 'Iraq': 0,\n",
       " 'Ireland': 268551,\n",
       " 'Isle of Man': 14272,\n",
       " 'Israel': 6758861,\n",
       " 'Italy': 3122631,\n",
       " 'Jamaica': 0,\n",
       " 'Japan': 0,\n",
       " 'Jordan': 0,\n",
       " 'Kazakhstan': 0,\n",
       " 'Kenya': 0,\n",
       " 'Kosovo': 0,\n",
       " 'Kuwait': 137000,\n",
       " 'Kyrgyzstan': 0,\n",
       " 'Laos': 0,\n",
       " 'Latvia': 39299,\n",
       " 'Lebanon': 0,\n",
       " 'Lesotho': 0,\n",
       " 'Liberia': 0,\n",
       " 'Libya': 0,\n",
       " 'Liechtenstein': 1165,\n",
       " 'Lithuania': 157304,\n",
       " 'Luxembourg': 24024,\n",
       " 'Madagascar': 0,\n",
       " 'Malawi': 0,\n",
       " 'Malaysia': 0,\n",
       " 'Maldives': 50047,\n",
       " 'Mali': 0,\n",
       " 'Malta': 53647,\n",
       " 'Marshall Islands': 0,\n",
       " 'Mauritania': 0,\n",
       " 'Mauritius': 0,\n",
       " 'Mexico': 915383,\n",
       " 'Micronesia (country)': 0,\n",
       " 'Moldova': 0,\n",
       " 'Monaco': 0,\n",
       " 'Mongolia': 0,\n",
       " 'Montenegro': 0,\n",
       " 'Morocco': 1904169,\n",
       " 'Mozambique': 0,\n",
       " 'Myanmar': 0,\n",
       " 'Namibia': 0,\n",
       " 'Nepal': 0,\n",
       " 'Netherlands': 623539,\n",
       " 'New Zealand': 0,\n",
       " 'Nicaragua': 0,\n",
       " 'Niger': 0,\n",
       " 'Nigeria': 0,\n",
       " 'North Macedonia': 0,\n",
       " 'Norway': 304780,\n",
       " 'Oman': 109014,\n",
       " 'Pakistan': 27228,\n",
       " 'Palestine': 0,\n",
       " 'Panama': 12441,\n",
       " 'Papua New Guinea': 0,\n",
       " 'Paraguay': 0,\n",
       " 'Peru': 109498,\n",
       " 'Philippines': 0,\n",
       " 'Poland': 2159146,\n",
       " 'Portugal': 539786,\n",
       " 'Qatar': 0,\n",
       " 'Romania': 1197089,\n",
       " 'Russia': 3900000,\n",
       " 'Rwanda': 0,\n",
       " 'Saint Kitts and Nevis': 0,\n",
       " 'Saint Lucia': 0,\n",
       " 'Saint Vincent and the Grenadines': 0,\n",
       " 'Samoa': 0,\n",
       " 'San Marino': 0,\n",
       " 'Sao Tome and Principe': 0,\n",
       " 'Saudi Arabia': 462812,\n",
       " 'Senegal': 0,\n",
       " 'Serbia': 817000,\n",
       " 'Seychelles': 55980,\n",
       " 'Sierra Leone': 0,\n",
       " 'Singapore': 256000,\n",
       " 'Slovakia': 311299,\n",
       " 'Slovenia': 119346,\n",
       " 'Solomon Islands': 0,\n",
       " 'Somalia': 0,\n",
       " 'South Africa': 0,\n",
       " 'South Korea': 0,\n",
       " 'South Sudan': 0,\n",
       " 'Spain': 2624512,\n",
       " 'Sri Lanka': 196163,\n",
       " 'Sudan': 0,\n",
       " 'Suriname': 0,\n",
       " 'Sweden': 505898,\n",
       " 'Switzerland': 540066,\n",
       " 'Syria': 0,\n",
       " 'Taiwan': 0,\n",
       " 'Tajikistan': 0,\n",
       " 'Tanzania': 0,\n",
       " 'Thailand': 0,\n",
       " 'Timor': 0,\n",
       " 'Togo': 0,\n",
       " 'Trinidad and Tobago': 0,\n",
       " 'Tunisia': 0,\n",
       " 'Turkey': 4630784,\n",
       " 'Uganda': 0,\n",
       " 'Ukraine': 0,\n",
       " 'United Arab Emirates': 5198725,\n",
       " 'United Kingdom': 16122272,\n",
       " 'United States': 55220364,\n",
       " 'Uruguay': 0,\n",
       " 'Uzbekistan': 0,\n",
       " 'Vanuatu': 0,\n",
       " 'Vatican': 0,\n",
       " 'Venezuela': 0,\n",
       " 'Vietnam': 0,\n",
       " 'Yemen': 0,\n",
       " 'Zambia': 0,\n",
       " 'Zimbabwe': 0}"
      ]
     },
     "execution_count": 13,
     "metadata": {},
     "output_type": "execute_result"
    }
   ],
   "source": [
    "#q10 \n",
    "totalvacc = {}\n",
    "y=get_column('country')\n",
    "x=get_column('total_vaccinations')\n",
    "i=0\n",
    "for vaccinations in get_column('total_vaccinations'):\n",
    "    if 'y[i]' in totalvacc:\n",
    "        totalvacc =+ x[i]\n",
    "        i+=1\n",
    "    else:\n",
    "        totalvacc[y[i]] = x[i]\n",
    "        i+=1\n",
    "        \n",
    "totalvacc"
   ]
  },
  {
   "cell_type": "code",
   "execution_count": 14,
   "metadata": {},
   "outputs": [
    {
     "data": {
      "text/plain": [
       "'United States'"
      ]
     },
     "execution_count": 14,
     "metadata": {},
     "output_type": "execute_result"
    }
   ],
   "source": [
    "#q11\n",
    "l = max(totalvacc, key = totalvacc.get)\n",
    "l"
   ]
  },
  {
   "cell_type": "code",
   "execution_count": 15,
   "metadata": {},
   "outputs": [
    {
     "data": {
      "text/plain": [
       "['Afghanistan',\n",
       " 'Albania',\n",
       " 'Algeria',\n",
       " 'Angola',\n",
       " 'Antigua and Barbuda',\n",
       " 'Armenia',\n",
       " 'Australia',\n",
       " 'Azerbaijan',\n",
       " 'Bahamas',\n",
       " 'Barbados',\n",
       " 'Belarus',\n",
       " 'Belize',\n",
       " 'Benin',\n",
       " 'Bhutan',\n",
       " 'Bosnia and Herzegovina',\n",
       " 'Botswana',\n",
       " 'Brunei',\n",
       " 'Burkina Faso',\n",
       " 'Burundi',\n",
       " 'Cameroon',\n",
       " 'Cape Verde',\n",
       " 'Central African Republic',\n",
       " 'Chad',\n",
       " 'China',\n",
       " 'Colombia',\n",
       " 'Comoros',\n",
       " 'Congo',\n",
       " \"Cote d'Ivoire\",\n",
       " 'Cuba',\n",
       " 'Democratic Republic of Congo',\n",
       " 'Djibouti',\n",
       " 'Dominica',\n",
       " 'Dominican Republic',\n",
       " 'Ecuador',\n",
       " 'Egypt',\n",
       " 'El Salvador',\n",
       " 'Equatorial Guinea',\n",
       " 'Eritrea',\n",
       " 'Eswatini',\n",
       " 'Ethiopia',\n",
       " 'Fiji',\n",
       " 'Gabon',\n",
       " 'Gambia',\n",
       " 'Georgia',\n",
       " 'Ghana',\n",
       " 'Grenada',\n",
       " 'Guatemala',\n",
       " 'Guinea',\n",
       " 'Guinea-Bissau',\n",
       " 'Haiti',\n",
       " 'Honduras',\n",
       " 'Iran',\n",
       " 'Iraq',\n",
       " 'Jamaica',\n",
       " 'Japan',\n",
       " 'Jordan',\n",
       " 'Kazakhstan',\n",
       " 'Kenya',\n",
       " 'Kosovo',\n",
       " 'Kyrgyzstan',\n",
       " 'Laos',\n",
       " 'Lebanon',\n",
       " 'Lesotho',\n",
       " 'Liberia',\n",
       " 'Libya',\n",
       " 'Madagascar',\n",
       " 'Malawi',\n",
       " 'Malaysia',\n",
       " 'Mali',\n",
       " 'Marshall Islands',\n",
       " 'Mauritania',\n",
       " 'Mauritius',\n",
       " 'Micronesia (country)',\n",
       " 'Moldova',\n",
       " 'Monaco',\n",
       " 'Mongolia',\n",
       " 'Montenegro',\n",
       " 'Mozambique',\n",
       " 'Myanmar',\n",
       " 'Namibia',\n",
       " 'Nepal',\n",
       " 'New Zealand',\n",
       " 'Nicaragua',\n",
       " 'Niger',\n",
       " 'Nigeria',\n",
       " 'North Macedonia',\n",
       " 'Palestine',\n",
       " 'Papua New Guinea',\n",
       " 'Paraguay',\n",
       " 'Philippines',\n",
       " 'Qatar',\n",
       " 'Rwanda',\n",
       " 'Saint Kitts and Nevis',\n",
       " 'Saint Lucia',\n",
       " 'Saint Vincent and the Grenadines',\n",
       " 'Samoa',\n",
       " 'San Marino',\n",
       " 'Sao Tome and Principe',\n",
       " 'Senegal',\n",
       " 'Sierra Leone',\n",
       " 'Solomon Islands',\n",
       " 'Somalia',\n",
       " 'South Africa',\n",
       " 'South Korea',\n",
       " 'South Sudan',\n",
       " 'Sudan',\n",
       " 'Suriname',\n",
       " 'Syria',\n",
       " 'Taiwan',\n",
       " 'Tajikistan',\n",
       " 'Tanzania',\n",
       " 'Thailand',\n",
       " 'Timor',\n",
       " 'Togo',\n",
       " 'Trinidad and Tobago',\n",
       " 'Tunisia',\n",
       " 'Uganda',\n",
       " 'Ukraine',\n",
       " 'Uruguay',\n",
       " 'Uzbekistan',\n",
       " 'Vanuatu',\n",
       " 'Vatican',\n",
       " 'Venezuela',\n",
       " 'Vietnam',\n",
       " 'Yemen',\n",
       " 'Zambia',\n",
       " 'Zimbabwe']"
      ]
     },
     "execution_count": 15,
     "metadata": {},
     "output_type": "execute_result"
    }
   ],
   "source": [
    "#q12\n",
    "listofkeys = [key  for (key, value) in totalvacc.items() if value == 0]\n",
    "sorted(listofkeys)"
   ]
  },
  {
   "cell_type": "code",
   "execution_count": 16,
   "metadata": {},
   "outputs": [
    {
     "data": {
      "text/plain": [
       "{'country': 'United States',\n",
       " 'continent': 'North America',\n",
       " 'date': '2021-02-16',\n",
       " 'new_vaccinations': 0,\n",
       " 'total_vaccinations': 55220364,\n",
       " 'people_fully_vaccinated': 15015434,\n",
       " 'vaccine_used': 'Moderna',\n",
       " 'population': 331002647,\n",
       " 'population_density': 35.608,\n",
       " 'gdp_per_capita': 54225.446,\n",
       " 'human_development_index': 0.926}"
      ]
     },
     "execution_count": 16,
     "metadata": {},
     "output_type": "execute_result"
    }
   ],
   "source": [
    "#q13\n",
    "def country_stats_to_dict(country, date):\n",
    "    countrystats = {}\n",
    "    i=0\n",
    "    n = get_column('country')\n",
    "    o = get_column('continent')\n",
    "    p = get_column('date')\n",
    "    q = get_column('new_vaccinations')\n",
    "    r = get_column('total_vaccinations')\n",
    "    s = get_column('people_fully_vaccinated')\n",
    "    t = get_column('vaccine_used')\n",
    "    u = get_column('population')\n",
    "    v = get_column('population_density')\n",
    "    w = get_column('gdp_per_capita')\n",
    "    x = get_column('human_development_index')\n",
    "    for countries in get_column('country'):\n",
    "        if country == n[i] and date >= p[i]:\n",
    "            countrystats['country'] = n[i]\n",
    "            countrystats['continent'] = o[i]\n",
    "            countrystats['date'] = date\n",
    "            countrystats['new_vaccinations'] = q[i]\n",
    "            countrystats['total_vaccinations'] = r[i]\n",
    "            countrystats['people_fully_vaccinated'] = s[i]\n",
    "            countrystats['vaccine_used'] = t[i]\n",
    "            countrystats['population'] = u[i]\n",
    "            countrystats['population_density'] = v[i]\n",
    "            countrystats['gdp_per_capita'] = w[i]\n",
    "            countrystats['human_development_index'] = x[i]\n",
    "            i+=1\n",
    "        else:\n",
    "            i+=1\n",
    "            continue\n",
    "    return countrystats\n",
    "\n",
    "country_stats_to_dict('United States', '2021-02-16')"
   ]
  },
  {
   "cell_type": "code",
   "execution_count": 17,
   "metadata": {},
   "outputs": [
    {
     "data": {
      "text/plain": [
       "{'country': 'India',\n",
       " 'continent': 'Asia',\n",
       " 'date': '2021-02-14',\n",
       " 'new_vaccinations': 21437,\n",
       " 'total_vaccinations': 8285295,\n",
       " 'people_fully_vaccinated': 0,\n",
       " 'vaccine_used': 'Covaxin',\n",
       " 'population': 1380004385,\n",
       " 'population_density': 450.419,\n",
       " 'gdp_per_capita': 6426.674,\n",
       " 'human_development_index': 0.645}"
      ]
     },
     "execution_count": 17,
     "metadata": {},
     "output_type": "execute_result"
    }
   ],
   "source": [
    "#q14\n",
    "country_stats_to_dict('India', '2021-02-14')"
   ]
  },
  {
   "cell_type": "code",
   "execution_count": 18,
   "metadata": {},
   "outputs": [
    {
     "data": {
      "text/plain": [
       "'Moderna'"
      ]
     },
     "execution_count": 18,
     "metadata": {},
     "output_type": "execute_result"
    }
   ],
   "source": [
    "#q15\n",
    "country2 = country_stats_to_dict('United States', '2021-02-16')\n",
    "(country2['vaccine_used'])"
   ]
  },
  {
   "cell_type": "code",
   "execution_count": 19,
   "metadata": {},
   "outputs": [
    {
     "data": {
      "text/plain": [
       "{'2021-02-10': 4611211,\n",
       " '2021-02-11': 4638600,\n",
       " '2021-02-12': 5429665,\n",
       " '2021-02-13': 4715774,\n",
       " '2021-02-14': 3383538,\n",
       " '2021-02-15': 2465118,\n",
       " '2021-02-16': 2440314}"
      ]
     },
     "execution_count": 19,
     "metadata": {},
     "output_type": "execute_result"
    }
   ],
   "source": [
    "#q16\n",
    "vaccfromd1tod2={}\n",
    "x=get_column('new_vaccinations')\n",
    "y=get_column('date')\n",
    "i=0\n",
    "for vax in y:\n",
    "    if int(vax[8:])>=10 and int(vax[8:])<=16:\n",
    "        if vax not in vaccfromd1tod2:\n",
    "            vaccfromd1tod2[vax]=x[i]\n",
    "        else:\n",
    "            vaccfromd1tod2[vax]+=x[i]\n",
    "    i+=1     \n",
    "        \n",
    "vaccfromd1tod2"
   ]
  },
  {
   "cell_type": "code",
   "execution_count": 20,
   "metadata": {},
   "outputs": [
    {
     "data": {
      "text/plain": [
       "{'Afghanistan': 0.0,\n",
       " 'Albania': 0.0,\n",
       " 'Algeria': 0.0,\n",
       " 'Andorra': 0.0,\n",
       " 'Angola': 0.0,\n",
       " 'Anguilla': 0.0,\n",
       " 'Antigua and Barbuda': 0.0,\n",
       " 'Argentina': 0.5264120141136195,\n",
       " 'Armenia': 0.0,\n",
       " 'Australia': 0.0,\n",
       " 'Austria': 1.6818817729614497,\n",
       " 'Azerbaijan': 0.0,\n",
       " 'Bahamas': 0.0,\n",
       " 'Bahrain': 0.0,\n",
       " 'Bangladesh': 0.0,\n",
       " 'Barbados': 0.0,\n",
       " 'Belarus': 0.0,\n",
       " 'Belgium': 1.7580824075620796,\n",
       " 'Belize': 0.0,\n",
       " 'Benin': 0.0,\n",
       " 'Bermuda': 0.0,\n",
       " 'Bhutan': 0.0,\n",
       " 'Bolivia': 0.0,\n",
       " 'Bosnia and Herzegovina': 0.0,\n",
       " 'Botswana': 0.0,\n",
       " 'Brazil': 0.1343718451908191,\n",
       " 'Brunei': 0.0,\n",
       " 'Bulgaria': 0.32778556928924385,\n",
       " 'Burkina Faso': 0.0,\n",
       " 'Burundi': 0.0,\n",
       " 'Cambodia': 0.0,\n",
       " 'Cameroon': 0.0,\n",
       " 'Canada': 0.0,\n",
       " 'Cape Verde': 0.0,\n",
       " 'Cayman Islands': 9.694157029823494,\n",
       " 'Central African Republic': 0.0,\n",
       " 'Chad': 0.0,\n",
       " 'Chile': 0.28786042253461447,\n",
       " 'China': 0.0,\n",
       " 'Colombia': 0.0,\n",
       " 'Comoros': 0.0,\n",
       " 'Congo': 0.0,\n",
       " 'Costa Rica': 0.8353366257606328,\n",
       " \"Cote d'Ivoire\": 0.0,\n",
       " 'Croatia': 1.285616432349849,\n",
       " 'Cuba': 0.0,\n",
       " 'Cyprus': 1.5983578015273452,\n",
       " 'Czechia': 1.6179782541421772,\n",
       " 'Democratic Republic of Congo': 0.0,\n",
       " 'Denmark': 2.961343033039415,\n",
       " 'Djibouti': 0.0,\n",
       " 'Dominica': 0.0,\n",
       " 'Dominican Republic': 0.0,\n",
       " 'Ecuador': 0.0,\n",
       " 'Egypt': 0.0,\n",
       " 'El Salvador': 0.0,\n",
       " 'Equatorial Guinea': 0.0,\n",
       " 'Eritrea': 0.0,\n",
       " 'Estonia': 1.7016461634373359,\n",
       " 'Eswatini': 0.0,\n",
       " 'Ethiopia': 0.0,\n",
       " 'Faeroe Islands': 2.498720965926532,\n",
       " 'Fiji': 0.0,\n",
       " 'Finland': 1.2175858796639714,\n",
       " 'France': 1.0982816429426994,\n",
       " 'Gabon': 0.0,\n",
       " 'Gambia': 0.0,\n",
       " 'Georgia': 0.0,\n",
       " 'Germany': 1.7554938478965152,\n",
       " 'Ghana': 0.0,\n",
       " 'Gibraltar': 30.405746341752995,\n",
       " 'Greece': 1.707042541074326,\n",
       " 'Grenada': 0.0,\n",
       " 'Guatemala': 0.0,\n",
       " 'Guinea': 0.0,\n",
       " 'Guinea-Bissau': 0.0,\n",
       " 'Guyana': 0.0,\n",
       " 'Haiti': 0.0,\n",
       " 'Honduras': 0.0,\n",
       " 'Hungary': 1.3956430150046324,\n",
       " 'Iceland': 1.741831501831502,\n",
       " 'India': 0.0,\n",
       " 'Indonesia': 0.19638048006098896,\n",
       " 'Iran': 0.0,\n",
       " 'Iraq': 0.0,\n",
       " 'Ireland': 1.8555849613876314,\n",
       " 'Isle of Man': 4.226644086931978,\n",
       " 'Israel': 31.047961069100126,\n",
       " 'Italy': 2.142697372629885,\n",
       " 'Jamaica': 0.0,\n",
       " 'Japan': 0.0,\n",
       " 'Jordan': 0.0,\n",
       " 'Kazakhstan': 0.0,\n",
       " 'Kenya': 0.0,\n",
       " 'Kosovo': 0.0,\n",
       " 'Kuwait': 0.0,\n",
       " 'Kyrgyzstan': 0.0,\n",
       " 'Laos': 0.0,\n",
       " 'Latvia': 0.8703203580528491,\n",
       " 'Lebanon': 0.0,\n",
       " 'Lesotho': 0.0,\n",
       " 'Liberia': 0.0,\n",
       " 'Libya': 0.0,\n",
       " 'Liechtenstein': 0.0,\n",
       " 'Lithuania': 2.022267274145196,\n",
       " 'Luxembourg': 0.9535509348601223,\n",
       " 'Madagascar': 0.0,\n",
       " 'Malawi': 0.0,\n",
       " 'Malaysia': 0.0,\n",
       " 'Maldives': 0.0,\n",
       " 'Mali': 0.0,\n",
       " 'Malta': 3.873270537823386,\n",
       " 'Marshall Islands': 0.0,\n",
       " 'Mauritania': 0.0,\n",
       " 'Mauritius': 0.0,\n",
       " 'Mexico': 0.0668550061907078,\n",
       " 'Micronesia (country)': 0.0,\n",
       " 'Moldova': 0.0,\n",
       " 'Monaco': 0.0,\n",
       " 'Mongolia': 0.0,\n",
       " 'Montenegro': 0.0,\n",
       " 'Morocco': 0.0,\n",
       " 'Mozambique': 0.0,\n",
       " 'Myanmar': 0.0,\n",
       " 'Namibia': 0.0,\n",
       " 'Nepal': 0.0,\n",
       " 'Netherlands': 0.0,\n",
       " 'New Zealand': 0.0,\n",
       " 'Nicaragua': 0.0,\n",
       " 'Niger': 0.0,\n",
       " 'Nigeria': 0.0,\n",
       " 'North Macedonia': 0.0,\n",
       " 'Norway': 1.3173733989369965,\n",
       " 'Oman': 0.37243798346539064,\n",
       " 'Pakistan': 0.0,\n",
       " 'Palestine': 0.0,\n",
       " 'Panama': 0.0,\n",
       " 'Papua New Guinea': 0.0,\n",
       " 'Paraguay': 0.0,\n",
       " 'Peru': 0.0,\n",
       " 'Philippines': 0.0,\n",
       " 'Poland': 1.7392180883859991,\n",
       " 'Portugal': 1.993643634165422,\n",
       " 'Qatar': 0.0,\n",
       " 'Romania': 2.5020737945455176,\n",
       " 'Russia': 1.1649064929558104,\n",
       " 'Rwanda': 0.0,\n",
       " 'Saint Kitts and Nevis': 0.0,\n",
       " 'Saint Lucia': 0.0,\n",
       " 'Saint Vincent and the Grenadines': 0.0,\n",
       " 'Samoa': 0.0,\n",
       " 'San Marino': 0.0,\n",
       " 'Sao Tome and Principe': 0.0,\n",
       " 'Saudi Arabia': 0.0,\n",
       " 'Senegal': 0.0,\n",
       " 'Serbia': 2.6746628308278697,\n",
       " 'Seychelles': 14.420378279438681,\n",
       " 'Sierra Leone': 0.0,\n",
       " 'Singapore': 0.10255808932912139,\n",
       " 'Slovakia': 1.27105380333476,\n",
       " 'Slovenia': 2.301710686063806,\n",
       " 'Solomon Islands': 0.0,\n",
       " 'Somalia': 0.0,\n",
       " 'South Africa': 0.0,\n",
       " 'South Korea': 0.0,\n",
       " 'South Sudan': 0.0,\n",
       " 'Spain': 2.3461171876254885,\n",
       " 'Sri Lanka': 0.0,\n",
       " 'Sudan': 0.0,\n",
       " 'Suriname': 0.0,\n",
       " 'Sweden': 1.4038440402128074,\n",
       " 'Switzerland': 0.0,\n",
       " 'Syria': 0.0,\n",
       " 'Taiwan': 0.0,\n",
       " 'Tajikistan': 0.0,\n",
       " 'Tanzania': 0.0,\n",
       " 'Thailand': 0.0,\n",
       " 'Timor': 0.0,\n",
       " 'Togo': 0.0,\n",
       " 'Trinidad and Tobago': 0.0,\n",
       " 'Tunisia': 0.0,\n",
       " 'Turkey': 0.766147911026808,\n",
       " 'Uganda': 0.0,\n",
       " 'Ukraine': 0.0,\n",
       " 'United Arab Emirates': 0.0,\n",
       " 'United Kingdom': 0.8045325513636065,\n",
       " 'United States': 4.536348617175863,\n",
       " 'Uruguay': 0.0,\n",
       " 'Uzbekistan': 0.0,\n",
       " 'Vanuatu': 0.0,\n",
       " 'Vatican': 0.0,\n",
       " 'Venezuela': 0.0,\n",
       " 'Vietnam': 0.0,\n",
       " 'Yemen': 0.0,\n",
       " 'Zambia': 0.0,\n",
       " 'Zimbabwe': 0.0}"
      ]
     },
     "execution_count": 20,
     "metadata": {},
     "output_type": "execute_result"
    }
   ],
   "source": [
    "#q17\n",
    "percent={}\n",
    "w=get_column('population')\n",
    "x=get_column('country')\n",
    "y=get_column('date')\n",
    "z=get_column('people_fully_vaccinated')\n",
    "i=0\n",
    "for vax in y:\n",
    "    if int(vax[8:])!=16:\n",
    "        i+=1\n",
    "        continue\n",
    "    percent[x[i]]=(z[i]/w[i])*100\n",
    "    i+=1\n",
    "\n",
    "percent"
   ]
  },
  {
   "cell_type": "code",
   "execution_count": 21,
   "metadata": {},
   "outputs": [
    {
     "data": {
      "text/plain": [
       "['Austria',\n",
       " 'Belgium',\n",
       " 'Bulgaria',\n",
       " 'Canada',\n",
       " 'Czechia',\n",
       " 'Denmark',\n",
       " 'Estonia',\n",
       " 'Finland',\n",
       " 'France',\n",
       " 'Germany',\n",
       " 'Greece',\n",
       " 'Iceland',\n",
       " 'Ireland',\n",
       " 'Israel',\n",
       " 'Italy',\n",
       " 'Latvia',\n",
       " 'Liechtenstein',\n",
       " 'Lithuania',\n",
       " 'Luxembourg',\n",
       " 'Netherlands',\n",
       " 'Norway',\n",
       " 'Poland',\n",
       " 'Portugal',\n",
       " 'Romania',\n",
       " 'Spain',\n",
       " 'Switzerland',\n",
       " 'United States']"
      ]
     },
     "execution_count": 21,
     "metadata": {},
     "output_type": "execute_result"
    }
   ],
   "source": [
    "#q18\n",
    "def usedwhen(vaccine_name,date):\n",
    "    countries=[]\n",
    "    z=get_column('country')\n",
    "    y=get_column('date')\n",
    "    x=get_column('vaccine_used')\n",
    "    i=0\n",
    "    for vax in y:\n",
    "        if int(vax[8:])!=16:\n",
    "            i+=1\n",
    "            continue\n",
    "        if x[i]==vaccine_name:\n",
    "            if z[i] not in countries:\n",
    "                countries.append(z[i])\n",
    "        i+=1\n",
    "    return countries\n",
    "        \n",
    "usedwhen('Moderna','2021-02-16')"
   ]
  },
  {
   "cell_type": "code",
   "execution_count": 22,
   "metadata": {},
   "outputs": [
    {
     "data": {
      "text/plain": [
       "{'Oxford/AstraZeneca': ['Anguilla',\n",
       "  'Azerbaijan',\n",
       "  'Bangladesh',\n",
       "  'Brazil',\n",
       "  'Guyana',\n",
       "  'Isle of Man',\n",
       "  'Maldives',\n",
       "  'Mauritius',\n",
       "  'Morocco',\n",
       "  'Myanmar',\n",
       "  'Nepal',\n",
       "  'Oman',\n",
       "  'Pakistan',\n",
       "  'Seychelles',\n",
       "  'Slovenia',\n",
       "  'Sri Lanka',\n",
       "  'Sweden',\n",
       "  'United Arab Emirates',\n",
       "  'United Kingdom'],\n",
       " 'Moderna': ['Austria',\n",
       "  'Belgium',\n",
       "  'Bulgaria',\n",
       "  'Canada',\n",
       "  'Czechia',\n",
       "  'Denmark',\n",
       "  'Estonia',\n",
       "  'Finland',\n",
       "  'France',\n",
       "  'Germany',\n",
       "  'Greece',\n",
       "  'Iceland',\n",
       "  'Ireland',\n",
       "  'Israel',\n",
       "  'Italy',\n",
       "  'Latvia',\n",
       "  'Liechtenstein',\n",
       "  'Lithuania',\n",
       "  'Luxembourg',\n",
       "  'Netherlands',\n",
       "  'Norway',\n",
       "  'Poland',\n",
       "  'Portugal',\n",
       "  'Romania',\n",
       "  'Spain',\n",
       "  'Switzerland',\n",
       "  'United States'],\n",
       " 'Pfizer/BioNTech': ['Albania',\n",
       "  'Andorra',\n",
       "  'Bahrain',\n",
       "  'Bermuda',\n",
       "  'Cayman Islands',\n",
       "  'Chile',\n",
       "  'Costa Rica',\n",
       "  'Croatia',\n",
       "  'Cyprus',\n",
       "  'Ecuador',\n",
       "  'Faeroe Islands',\n",
       "  'Gibraltar',\n",
       "  'Hungary',\n",
       "  'Kuwait',\n",
       "  'Malta',\n",
       "  'Mexico',\n",
       "  'Monaco',\n",
       "  'Panama',\n",
       "  'Qatar',\n",
       "  'Saudi Arabia',\n",
       "  'Serbia',\n",
       "  'Singapore',\n",
       "  'Slovakia'],\n",
       " 'Sinovac': ['Indonesia', 'Turkey'],\n",
       " 'Sputnik V': ['Algeria', 'Argentina', 'Bolivia', 'Iran', 'Russia'],\n",
       " 'Covaxin': ['India'],\n",
       " 'Sinopharm/Beijing': ['Cambodia', 'China', 'Egypt', 'Peru']}"
      ]
     },
     "execution_count": 22,
     "metadata": {},
     "output_type": "execute_result"
    }
   ],
   "source": [
    "#q19\n",
    "vaccinetypes = []\n",
    "for vaccine in get_column('vaccine_used'):\n",
    "    if len(vaccine) == 0:   \n",
    "        continue\n",
    "    else:\n",
    "        vaccinetypes.append(vaccine)        \n",
    "vaccinetypes=list(set(vaccinetypes))\n",
    "\n",
    "whichwho={}\n",
    "for x in vaccinetypes:\n",
    "    whichwho[x]=usedwhen(x,'2021-02-16')\n",
    "    \n",
    "whichwho"
   ]
  },
  {
   "cell_type": "code",
   "execution_count": 23,
   "metadata": {},
   "outputs": [
    {
     "data": {
      "text/plain": [
       "'Moderna'"
      ]
     },
     "execution_count": 23,
     "metadata": {},
     "output_type": "execute_result"
    }
   ],
   "source": [
    "#q20\n",
    "trust=None\n",
    "name=None\n",
    "for x in whichwho:\n",
    "    if trust==None:\n",
    "        trust=len(whichwho[x])\n",
    "        name=x\n",
    "        continue\n",
    "    if len(whichwho[x])>trust:\n",
    "        trust=len(whichwho[x])\n",
    "        name=x\n",
    "        \n",
    "name"
   ]
  }
 ],
 "metadata": {
  "kernelspec": {
   "display_name": "Python 3",
   "language": "python",
   "name": "python3"
  },
  "language_info": {
   "codemirror_mode": {
    "name": "ipython",
    "version": 3
   },
   "file_extension": ".py",
   "mimetype": "text/x-python",
   "name": "python",
   "nbconvert_exporter": "python",
   "pygments_lexer": "ipython3",
   "version": "3.8.5"
  }
 },
 "nbformat": 4,
 "nbformat_minor": 4
}
