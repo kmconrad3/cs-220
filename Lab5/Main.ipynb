{
 "cells": [
  {
   "cell_type": "code",
   "execution_count": 1,
   "metadata": {},
   "outputs": [
    {
     "data": {
      "text/plain": [
       "['__builtins__',\n",
       " '__cached__',\n",
       " '__doc__',\n",
       " '__file__',\n",
       " '__hurricane__',\n",
       " '__init__',\n",
       " '__loader__',\n",
       " '__name__',\n",
       " '__package__',\n",
       " '__spec__',\n",
       " 'count',\n",
       " 'get_damage',\n",
       " 'get_deaths',\n",
       " 'get_dissipated',\n",
       " 'get_formed',\n",
       " 'get_mph',\n",
       " 'get_name']"
      ]
     },
     "execution_count": 1,
     "metadata": {},
     "output_type": "execute_result"
    }
   ],
   "source": [
    "import project\n",
    "dir(project)"
   ]
  },
  {
   "cell_type": "code",
   "execution_count": 2,
   "metadata": {},
   "outputs": [
    {
     "data": {
      "text/plain": [
       "'This function will return the number of records in the dataset'"
      ]
     },
     "execution_count": 2,
     "metadata": {},
     "output_type": "execute_result"
    }
   ],
   "source": [
    "project.count.__doc__"
   ]
  },
  {
   "cell_type": "code",
   "execution_count": 3,
   "metadata": {},
   "outputs": [
    {
     "data": {
      "text/plain": [
       "133"
      ]
     },
     "execution_count": 3,
     "metadata": {},
     "output_type": "execute_result"
    }
   ],
   "source": [
    "project.count()"
   ]
  },
  {
   "cell_type": "code",
   "execution_count": 4,
   "metadata": {},
   "outputs": [
    {
     "data": {
      "text/plain": [
       "'Baker'"
      ]
     },
     "execution_count": 4,
     "metadata": {},
     "output_type": "execute_result"
    }
   ],
   "source": [
    "project.get_name(0)"
   ]
  },
  {
   "cell_type": "code",
   "execution_count": 5,
   "metadata": {},
   "outputs": [
    {
     "data": {
      "text/plain": [
       "'Camille'"
      ]
     },
     "execution_count": 5,
     "metadata": {},
     "output_type": "execute_result"
    }
   ],
   "source": [
    "project.get_name(1)"
   ]
  },
  {
   "cell_type": "code",
   "execution_count": 6,
   "metadata": {},
   "outputs": [
    {
     "data": {
      "text/plain": [
       "105"
      ]
     },
     "execution_count": 6,
     "metadata": {},
     "output_type": "execute_result"
    }
   ],
   "source": [
    "project.get_mph(0)"
   ]
  },
  {
   "cell_type": "code",
   "execution_count": 7,
   "metadata": {},
   "outputs": [
    {
     "data": {
      "text/plain": [
       "38"
      ]
     },
     "execution_count": 7,
     "metadata": {},
     "output_type": "execute_result"
    }
   ],
   "source": [
    "project.get_deaths(0)"
   ]
  },
  {
   "cell_type": "code",
   "execution_count": 8,
   "metadata": {},
   "outputs": [
    {
     "data": {
      "text/plain": [
       "'2.55M'"
      ]
     },
     "execution_count": 8,
     "metadata": {},
     "output_type": "execute_result"
    }
   ],
   "source": [
    "project.get_damage(0)"
   ]
  },
  {
   "cell_type": "code",
   "execution_count": 9,
   "metadata": {},
   "outputs": [
    {
     "data": {
      "text/plain": [
       "'1.42B'"
      ]
     },
     "execution_count": 9,
     "metadata": {},
     "output_type": "execute_result"
    }
   ],
   "source": [
    "project.get_damage(1)"
   ]
  },
  {
   "cell_type": "code",
   "execution_count": 10,
   "metadata": {},
   "outputs": [
    {
     "data": {
      "text/plain": [
       "'Omar'"
      ]
     },
     "execution_count": 10,
     "metadata": {},
     "output_type": "execute_result"
    }
   ],
   "source": [
    "project.get_name(project.count()-1)"
   ]
  },
  {
   "cell_type": "code",
   "execution_count": 11,
   "metadata": {},
   "outputs": [
    {
     "name": "stdout",
     "output_type": "stream",
     "text": [
      "0\n",
      "1\n",
      "2\n",
      "3\n",
      "4\n"
     ]
    }
   ],
   "source": [
    "#q1\n",
    "for i in range(0,5):\n",
    "    print(i)"
   ]
  },
  {
   "cell_type": "code",
   "execution_count": 12,
   "metadata": {},
   "outputs": [
    {
     "name": "stdout",
     "output_type": "stream",
     "text": [
      "b\n",
      "a\n",
      "h\n",
      "a\n",
      "h\n",
      "a\n",
      "h\n",
      "a\n"
     ]
    }
   ],
   "source": [
    "#q2A\n",
    "s = \"bahahaha\"\n",
    "for x in s:\n",
    "    print(x)\n",
    "    #prints the letters at each index"
   ]
  },
  {
   "cell_type": "code",
   "execution_count": 13,
   "metadata": {},
   "outputs": [
    {
     "name": "stdout",
     "output_type": "stream",
     "text": [
      "0\n",
      "1\n",
      "2\n",
      "3\n",
      "4\n",
      "5\n",
      "6\n",
      "7\n"
     ]
    }
   ],
   "source": [
    "#q2B\n",
    "s = \"bahahaha\"\n",
    "for i in range(len(s)):\n",
    "    print(i)\n",
    "    #prints the index of each letter"
   ]
  },
  {
   "cell_type": "code",
   "execution_count": 14,
   "metadata": {},
   "outputs": [
    {
     "name": "stdout",
     "output_type": "stream",
     "text": [
      "0\n",
      "1\n",
      "2\n",
      "3\n",
      "4\n",
      "5\n",
      "6\n",
      "7\n",
      "8\n",
      "9\n",
      "10\n",
      "11\n",
      "12\n",
      "13\n",
      "14\n",
      "15\n",
      "16\n",
      "17\n",
      "18\n",
      "19\n",
      "20\n",
      "21\n",
      "22\n",
      "23\n",
      "24\n",
      "25\n",
      "26\n",
      "27\n",
      "28\n",
      "29\n",
      "30\n",
      "31\n",
      "32\n",
      "33\n",
      "34\n",
      "35\n",
      "36\n",
      "37\n",
      "38\n",
      "39\n",
      "40\n",
      "41\n",
      "42\n",
      "43\n",
      "44\n",
      "45\n",
      "46\n",
      "47\n",
      "48\n",
      "49\n",
      "50\n",
      "51\n",
      "52\n",
      "53\n",
      "54\n",
      "55\n",
      "56\n",
      "57\n",
      "58\n",
      "59\n",
      "60\n",
      "61\n",
      "62\n",
      "63\n",
      "64\n",
      "65\n",
      "66\n",
      "67\n",
      "68\n",
      "69\n",
      "70\n",
      "71\n",
      "72\n",
      "73\n",
      "74\n",
      "75\n",
      "76\n",
      "77\n",
      "78\n",
      "79\n",
      "80\n",
      "81\n",
      "82\n",
      "83\n",
      "84\n",
      "85\n",
      "86\n",
      "87\n",
      "88\n",
      "89\n",
      "90\n",
      "91\n",
      "92\n",
      "93\n",
      "94\n",
      "95\n",
      "96\n",
      "97\n",
      "98\n",
      "99\n",
      "100\n",
      "101\n",
      "102\n",
      "103\n",
      "104\n",
      "105\n",
      "106\n",
      "107\n",
      "108\n",
      "109\n",
      "110\n",
      "111\n",
      "112\n",
      "113\n",
      "114\n",
      "115\n",
      "116\n",
      "117\n",
      "118\n",
      "119\n",
      "120\n",
      "121\n",
      "122\n",
      "123\n",
      "124\n",
      "125\n",
      "126\n",
      "127\n",
      "128\n",
      "129\n",
      "130\n",
      "131\n",
      "132\n"
     ]
    }
   ],
   "source": [
    "#q3\n",
    "for idx in range(project.count()):\n",
    "    print(idx)"
   ]
  },
  {
   "cell_type": "code",
   "execution_count": 15,
   "metadata": {},
   "outputs": [
    {
     "name": "stdout",
     "output_type": "stream",
     "text": [
      "Baker\n",
      "Camille\n",
      "Eloise\n",
      "Frederic\n",
      "Elena\n",
      "Opal\n",
      "Danny\n",
      "Ivan\n",
      "Dennis\n",
      "Katrina\n",
      "Carol\n",
      "Donna\n",
      "Gloria\n",
      "Bob\n",
      "Labor Day\n",
      "Easy\n",
      "King\n",
      "FLORENCE\n",
      "Flossy\n",
      "Cleo\n",
      "Dora\n",
      "Isbell\n",
      "Betsy\n",
      "Alma\n",
      "Inez\n",
      "Gladys\n",
      "Agnes\n",
      "Kate\n",
      "Floyd\n",
      "Andrew\n",
      "Erin\n",
      "Earl\n",
      "Georges\n",
      "Irene\n",
      "Charley\n",
      "Frances\n",
      "Jeanne\n",
      "Rita\n",
      "Wilma\n",
      "Hermine\n",
      "Matthew\n",
      "Irma\n",
      "Michael\n",
      "Ethel\n",
      "Hilda\n",
      "Edith\n",
      "Carmen\n",
      "Babe\n",
      "Bob\n",
      "Danny\n",
      "Juan\n",
      "florence\n",
      "Lili\n",
      "Cindy\n",
      "Humberto\n",
      "Gustav\n",
      "Isaac\n",
      "Nate\n",
      "Barry\n",
      "Belle\n",
      "Sandy\n",
      "Barbara\n",
      "Hazel\n",
      "Ione\n",
      "Helene\n",
      "Ginger\n",
      "Diana\n",
      "Hugo\n",
      "Emily\n",
      "Bertha\n",
      "Fran\n",
      "Bonnie\n",
      "Floyd\n",
      "Isabel\n",
      "Alex\n",
      "Ophelia\n",
      "Irene\n",
      "Florence\n",
      "Esther\n",
      "Able\n",
      "Cindy\n",
      "Gracie\n",
      "Bob\n",
      "Gaston\n",
      "Debra\n",
      "Carla\n",
      "Beulah\n",
      "Celia\n",
      "Fern\n",
      "Allen\n",
      "Alicia\n",
      "Bonnie\n",
      "Chantal\n",
      "Jerry\n",
      "Bret\n",
      "Claudette\n",
      "Dolly\n",
      "Ike\n",
      "Harvey\n",
      "Dot\n",
      "Iwa\n",
      "Iniki\n",
      "Tusi\n",
      "Ofa\n",
      "Val\n",
      "Heta\n",
      "Olaf\n",
      "Karen\n",
      "Pamela\n",
      "Roy\n",
      "Yuri\n",
      "Omar\n",
      "Paka\n",
      "Chataan\n",
      "Pongsona\n",
      "Dolphin\n",
      "Lynn\n",
      "Mireille\n",
      "Keith\n",
      "Chaba\n",
      "Vongfong\n",
      "Soudelor\n",
      "Mangkhut\n",
      "Yutu\n",
      "San Ciriaco\n",
      "San Liborio\n",
      "San Ciprian\n",
      "Betsy\n",
      "Hortense\n",
      "Maria\n",
      "Marilyn\n",
      "Lenny\n",
      "Omar\n"
     ]
    }
   ],
   "source": [
    "#q3\n",
    "for idx in range(project.count()):\n",
    "    name = project.get_name(idx)\n",
    "    print(name)"
   ]
  },
  {
   "cell_type": "code",
   "execution_count": 16,
   "metadata": {},
   "outputs": [
    {
     "name": "stdout",
     "output_type": "stream",
     "text": [
      "Floyd\n",
      "Babe\n",
      "Bob\n",
      "Cindy\n",
      "Barry\n",
      "Cindy\n",
      "Bob\n",
      "Gaston\n"
     ]
    }
   ],
   "source": [
    "#q4\n",
    "for i in range(project.count()):\n",
    "    if project.get_mph(i)<80:\n",
    "        print(project.get_name(i))"
   ]
  },
  {
   "cell_type": "code",
   "execution_count": 17,
   "metadata": {},
   "outputs": [
    {
     "name": "stdout",
     "output_type": "stream",
     "text": [
      "10\n"
     ]
    }
   ],
   "source": [
    "#q5\n",
    "#we want to find the integer n in the range of 0 to 10 (including 10), such that f(n) is largest.\n",
    "def f(n):\n",
    "    return 3 + n % 7\n",
    "\n",
    "best_n = 0\n",
    "for n in range(11):\n",
    "    if f(n)>f(n-1):\n",
    "        best_n = n\n",
    "\n",
    "print(best_n)"
   ]
  },
  {
   "cell_type": "code",
   "execution_count": 18,
   "metadata": {},
   "outputs": [
    {
     "name": "stdout",
     "output_type": "stream",
     "text": [
      "08/18/1950\n",
      "08\n",
      "1950\n"
     ]
    }
   ],
   "source": [
    "print(project.get_formed(0))\n",
    "print(project.get_formed(0)[:2])\n",
    "print(project.get_formed(0)[-4:])"
   ]
  },
  {
   "cell_type": "code",
   "execution_count": 19,
   "metadata": {},
   "outputs": [
    {
     "data": {
      "text/plain": [
       "'09/01/1950'"
      ]
     },
     "execution_count": 19,
     "metadata": {},
     "output_type": "execute_result"
    }
   ],
   "source": [
    "project.get_dissipated(0)"
   ]
  },
  {
   "cell_type": "code",
   "execution_count": 20,
   "metadata": {},
   "outputs": [
    {
     "data": {
      "text/plain": [
       "2019"
      ]
     },
     "execution_count": 20,
     "metadata": {},
     "output_type": "execute_result"
    }
   ],
   "source": [
    "def get_month(date):\n",
    "    '''Returns the month when the date is the in the 'mm/dd/yyyy' format'''\n",
    "    return int(date[:2])\n",
    "\n",
    "def get_day(date):\n",
    "    '''Returns the day when the date is the in the 'mm/dd/yyyy' format'''\n",
    "    return int(date[slice(3,5)]) \n",
    "\n",
    "def get_year(date):\n",
    "    '''Returns the year when the date is the in the 'mm/dd/yyyy' format'''\n",
    "    return int(date[slice(6,10)])\n",
    "    \n",
    "get_year(\"10/02/2019\") "
   ]
  },
  {
   "cell_type": "code",
   "execution_count": null,
   "metadata": {},
   "outputs": [],
   "source": []
  }
 ],
 "metadata": {
  "kernelspec": {
   "display_name": "Python 3",
   "language": "python",
   "name": "python3"
  },
  "language_info": {
   "codemirror_mode": {
    "name": "ipython",
    "version": 3
   },
   "file_extension": ".py",
   "mimetype": "text/x-python",
   "name": "python",
   "nbconvert_exporter": "python",
   "pygments_lexer": "ipython3",
   "version": "3.8.5"
  }
 },
 "nbformat": 4,
 "nbformat_minor": 4
}
