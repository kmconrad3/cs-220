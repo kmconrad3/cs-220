{
 "cells": [
  {
   "cell_type": "code",
   "execution_count": 1,
   "metadata": {},
   "outputs": [],
   "source": [
    "# project: p3\n",
    "# submitter: Kmconrad3\n",
    "# partner: none\n",
    "# hours: 2"
   ]
  },
  {
   "cell_type": "code",
   "execution_count": 2,
   "metadata": {},
   "outputs": [
    {
     "data": {
      "text/plain": [
       "6"
      ]
     },
     "execution_count": 2,
     "metadata": {},
     "output_type": "execute_result"
    }
   ],
   "source": [
    "#q1\n",
    "import project\n",
    "\n",
    "project.init(\"madison.csv\")\n",
    "project.get_id(\"gyms\")"
   ]
  },
  {
   "cell_type": "code",
   "execution_count": 3,
   "metadata": {},
   "outputs": [
    {
     "data": {
      "text/plain": [
       "19.159243279999995"
      ]
     },
     "execution_count": 3,
     "metadata": {},
     "output_type": "execute_result"
    }
   ],
   "source": [
    "#q2\n",
    "project.get_spending(122, 2018)"
   ]
  },
  {
   "cell_type": "code",
   "execution_count": 4,
   "metadata": {},
   "outputs": [
    {
     "data": {
      "text/plain": [
       "19.76071"
      ]
     },
     "execution_count": 4,
     "metadata": {},
     "output_type": "execute_result"
    }
   ],
   "source": [
    "#q3\n",
    "governs_id = project.get_id(\"governments\")\n",
    "schools_id = project.get_id(\"schools\")\n",
    "gyms_id = project.get_id(\"gyms\")\n",
    "restaurants_id = project.get_id(\"restaurants\")\n",
    "stores_id = project.get_id(\"stores\")\n",
    "\n",
    "project.get_spending(project.get_id(\"stores\"),2020)"
   ]
  },
  {
   "cell_type": "code",
   "execution_count": 5,
   "metadata": {},
   "outputs": [
    {
     "data": {
      "text/plain": [
       "18.12552139"
      ]
     },
     "execution_count": 5,
     "metadata": {},
     "output_type": "execute_result"
    }
   ],
   "source": [
    "#q4\n",
    "def year_min(year):\n",
    "    # grab the spending by each agency in the given year\n",
    "    governments_spending = project.get_spending(governs_id, year)\n",
    "    gyms_spending = project.get_spending(gyms_id, year)\n",
    "    restaurants_spending = project.get_spending(restaurants_id, year)\n",
    "    schools_spending = project.get_spending(schools_id, year)\n",
    "    stores_spending = project.get_spending(stores_id, year)\n",
    "    # use builtin min function\n",
    "    return min(governments_spending, gyms_spending, restaurants_spending, schools_spending, stores_spending)\n",
    "\n",
    "year_min(2018)"
   ]
  },
  {
   "cell_type": "code",
   "execution_count": 6,
   "metadata": {},
   "outputs": [
    {
     "data": {
      "text/plain": [
       "19.76071"
      ]
     },
     "execution_count": 6,
     "metadata": {},
     "output_type": "execute_result"
    }
   ],
   "source": [
    "#q5\n",
    "year_min(2020)"
   ]
  },
  {
   "cell_type": "code",
   "execution_count": 7,
   "metadata": {},
   "outputs": [
    {
     "data": {
      "text/plain": [
       "77.87553504"
      ]
     },
     "execution_count": 7,
     "metadata": {},
     "output_type": "execute_result"
    }
   ],
   "source": [
    "#q6\n",
    "def agency_max(agency):\n",
    "    agency_id = project.get_id(agency)\n",
    "    y17 = project.get_spending(agency_id, 2017)\n",
    "    y18 = project.get_spending(agency_id, 2018)\n",
    "    y19 = project.get_spending(agency_id, 2019) \n",
    "    y20 = project.get_spending(agency_id, 2020) \n",
    "    return max(y17, y18, y19, y20) \n",
    "\n",
    "agency_max(\"schools\")"
   ]
  },
  {
   "cell_type": "code",
   "execution_count": 8,
   "metadata": {},
   "outputs": [
    {
     "data": {
      "text/plain": [
       "28.2286218"
      ]
     },
     "execution_count": 8,
     "metadata": {},
     "output_type": "execute_result"
    }
   ],
   "source": [
    "#q7\n",
    "agency_max(\"governments\")"
   ]
  },
  {
   "cell_type": "code",
   "execution_count": 9,
   "metadata": {},
   "outputs": [
    {
     "data": {
      "text/plain": [
       "59.65"
      ]
     },
     "execution_count": 9,
     "metadata": {},
     "output_type": "execute_result"
    }
   ],
   "source": [
    "#q8\n",
    "def agency_avg(agency):\n",
    "    agency_id = project.get_id(agency)\n",
    "    y17 = project.get_spending(agency_id, 2017)\n",
    "    y18 = project.get_spending(agency_id, 2018)\n",
    "    y19 = project.get_spending(agency_id, 2019) \n",
    "    y20 = project.get_spending(agency_id, 2020) \n",
    "    avg = (y17+y18+y19+y20)/4\n",
    "    return round(avg,2) \n",
    "\n",
    "agency_avg(\"stores\") "
   ]
  },
  {
   "cell_type": "code",
   "execution_count": 10,
   "metadata": {},
   "outputs": [
    {
     "data": {
      "text/plain": [
       "52.52"
      ]
     },
     "execution_count": 10,
     "metadata": {},
     "output_type": "execute_result"
    }
   ],
   "source": [
    "#q9\n",
    "agency_avg(\"gyms\")"
   ]
  },
  {
   "cell_type": "code",
   "execution_count": 11,
   "metadata": {},
   "outputs": [
    {
     "data": {
      "text/plain": [
       "3.33"
      ]
     },
     "execution_count": 11,
     "metadata": {},
     "output_type": "execute_result"
    }
   ],
   "source": [
    "#q10\n",
    "difference = project.get_spending(restaurants_id,2019) - agency_avg(\"restaurants\")\n",
    "round((difference/agency_avg(\"restaurants\")*100),2)"
   ]
  },
  {
   "cell_type": "code",
   "execution_count": 12,
   "metadata": {},
   "outputs": [
    {
     "data": {
      "text/plain": [
       "37.76"
      ]
     },
     "execution_count": 12,
     "metadata": {},
     "output_type": "execute_result"
    }
   ],
   "source": [
    "#q11\n",
    "def year_avg(year = 2018):\n",
    "    go_y = project.get_spending(governs_id,year)\n",
    "    gy_y = project.get_spending(gyms_id,year)\n",
    "    sc_y = project.get_spending(schools_id,year)\n",
    "    re_y = project.get_spending(restaurants_id,year)\n",
    "    st_y = project.get_spending(stores_id,year)\n",
    "    return round((go_y + gy_y + sc_y + re_y + st_y)/5,2) \n",
    "\n",
    "year_avg()"
   ]
  },
  {
   "cell_type": "code",
   "execution_count": 13,
   "metadata": {},
   "outputs": [
    {
     "data": {
      "text/plain": [
       "40.1"
      ]
     },
     "execution_count": 13,
     "metadata": {},
     "output_type": "execute_result"
    }
   ],
   "source": [
    "#q12\n",
    "year_avg(2020)"
   ]
  },
  {
   "cell_type": "code",
   "execution_count": 14,
   "metadata": {},
   "outputs": [
    {
     "data": {
      "text/plain": [
       "0.81"
      ]
     },
     "execution_count": 14,
     "metadata": {},
     "output_type": "execute_result"
    }
   ],
   "source": [
    "#q13\n",
    "def change_per_year(agency, start_year=2017, end_year=2020):\n",
    "    agency_id = project.get_id(agency)\n",
    "    x = project.get_spending(agency_id,start_year)\n",
    "    y = project.get_spending(agency_id,end_year) \n",
    "    return round(((y-x)/(end_year-start_year)),2)\n",
    "\n",
    "change_per_year(\"governments\") "
   ]
  },
  {
   "cell_type": "code",
   "execution_count": 15,
   "metadata": {},
   "outputs": [
    {
     "data": {
      "text/plain": [
       "1.7"
      ]
     },
     "execution_count": 15,
     "metadata": {},
     "output_type": "execute_result"
    }
   ],
   "source": [
    "#q14\n",
    "change_per_year(\"gyms\", end_year=2019)"
   ]
  },
  {
   "cell_type": "code",
   "execution_count": 16,
   "metadata": {},
   "outputs": [
    {
     "data": {
      "text/plain": [
       "77.09"
      ]
     },
     "execution_count": 16,
     "metadata": {},
     "output_type": "execute_result"
    }
   ],
   "source": [
    "#q15\n",
    "def extrapolate(agency, year1, year2, year3):\n",
    "    agency_id = project.get_id(agency)\n",
    "    growth_rate = change_per_year(agency, year1, year2)\n",
    "    return round((growth_rate*(year3-year1))+(project.get_spending(agency_id,year1)),2)\n",
    "\n",
    "extrapolate(\"schools\",2018,2019,2021)"
   ]
  },
  {
   "cell_type": "code",
   "execution_count": 17,
   "metadata": {},
   "outputs": [
    {
     "data": {
      "text/plain": [
       "43.46"
      ]
     },
     "execution_count": 17,
     "metadata": {},
     "output_type": "execute_result"
    }
   ],
   "source": [
    "#q16\n",
    "extrapolate(\"stores\",2018,2020,2099)"
   ]
  },
  {
   "cell_type": "code",
   "execution_count": 18,
   "metadata": {},
   "outputs": [
    {
     "data": {
      "text/plain": [
       "384.65"
      ]
     },
     "execution_count": 18,
     "metadata": {},
     "output_type": "execute_result"
    }
   ],
   "source": [
    "#q17\n",
    "extrapolate(\"restaurants\",2017,2020,2400)"
   ]
  },
  {
   "cell_type": "code",
   "execution_count": 19,
   "metadata": {},
   "outputs": [
    {
     "data": {
      "text/plain": [
       "6.15"
      ]
     },
     "execution_count": 19,
     "metadata": {},
     "output_type": "execute_result"
    }
   ],
   "source": [
    "#q18\n",
    "def extrapolate_error(agency, year1, year2, year3):\n",
    "    agency_id = project.get_id(agency)\n",
    "    estimate = extrapolate(agency, year1, year2, year3)\n",
    "    return round(estimate-(project.get_spending(agency_id,year3)),2)\n",
    "\n",
    "extrapolate_error(\"governments\",2017,2018,2020)"
   ]
  },
  {
   "cell_type": "code",
   "execution_count": 20,
   "metadata": {},
   "outputs": [
    {
     "data": {
      "text/plain": [
       "-2.63"
      ]
     },
     "execution_count": 20,
     "metadata": {},
     "output_type": "execute_result"
    }
   ],
   "source": [
    "#q19\n",
    "round(extrapolate_error(\"schools\",2017,2019,2020)*100/project.get_spending(schools_id,2020),2)"
   ]
  },
  {
   "cell_type": "code",
   "execution_count": 21,
   "metadata": {},
   "outputs": [
    {
     "data": {
      "text/plain": [
       "1.08"
      ]
     },
     "execution_count": 21,
     "metadata": {},
     "output_type": "execute_result"
    }
   ],
   "source": [
    "#q20\n",
    "import math\n",
    "\n",
    "def fouryearstanddev(agency):\n",
    "    agency_id = project.get_id(agency)\n",
    "    spend17 = (project.get_spending(agency_id, 2017)-agency_avg(agency))**2\n",
    "    spend18 = (project.get_spending(agency_id, 2018)-agency_avg(agency))**2\n",
    "    spend19 = (project.get_spending(agency_id, 2019)-agency_avg(agency))**2\n",
    "    spend20 = (project.get_spending(agency_id, 2020)-agency_avg(agency))**2\n",
    "    return round(math.sqrt((spend17 + spend18 + spend19 + spend20)/4),2)\n",
    "    \n",
    "fouryearstanddev('restaurants')"
   ]
  }
 ],
 "metadata": {
  "kernelspec": {
   "display_name": "Python 3",
   "language": "python",
   "name": "python3"
  },
  "language_info": {
   "codemirror_mode": {
    "name": "ipython",
    "version": 3
   },
   "file_extension": ".py",
   "mimetype": "text/x-python",
   "name": "python",
   "nbconvert_exporter": "python",
   "pygments_lexer": "ipython3",
   "version": "3.8.5"
  }
 },
 "nbformat": 4,
 "nbformat_minor": 4
}
