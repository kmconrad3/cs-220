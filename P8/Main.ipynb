{
 "cells": [
  {
   "cell_type": "code",
   "execution_count": 1,
   "metadata": {},
   "outputs": [],
   "source": [
    "# project: p8\n",
    "# submitter: Kmconrad3\n",
    "# partner: Akroubal\n",
    "# hours: 6"
   ]
  },
  {
   "cell_type": "code",
   "execution_count": 2,
   "metadata": {},
   "outputs": [],
   "source": [
    "import csv\n",
    "import copy\n",
    "\n",
    "def process_csv(filename):\n",
    "    exampleFile = open(filename, encoding=\"utf-8\")\n",
    "    exampleReader = csv.reader(exampleFile)\n",
    "    exampleData = list(exampleReader)\n",
    "    exampleFile.close()\n",
    "    return exampleData\n",
    "\n",
    "#use process_csv to pull out the header and data rows\n",
    "acsv_rows = process_csv(\"small_mapping.csv\")\n",
    "acsv_header = acsv_rows[0]\n",
    "acsv_data = acsv_rows[1:]"
   ]
  },
  {
   "cell_type": "code",
   "execution_count": 3,
   "metadata": {},
   "outputs": [
    {
     "data": {
      "text/plain": [
       "{'tt1233301': 'Ironclad',\n",
       " 'tt0090605': 'Aliens',\n",
       " 'nm0257646': 'Jonathan English',\n",
       " 'nm0000299': 'Michael Biehn',\n",
       " 'nm0000116': 'James Cameron',\n",
       " 'nm9696871': 'Brian Cox',\n",
       " 'nm0001343': 'Carrie Henn',\n",
       " 'nm0700856': 'James Purefoy',\n",
       " 'nm0544718': 'Kate Mara',\n",
       " 'nm0000244': 'Sigourney Weaver'}"
      ]
     },
     "execution_count": 3,
     "metadata": {},
     "output_type": "execute_result"
    }
   ],
   "source": [
    "#q1\n",
    "def get_mapping(path):\n",
    "    listofnames = {}\n",
    "    datamess=process_csv(path)\n",
    "    for i in range(len(datamess)): \n",
    "            listofnames[datamess[i][0]] = datamess[i][1]\n",
    "    return listofnames\n",
    "\n",
    "listofnames = get_mapping('small_mapping.csv')\n",
    "listofnames"
   ]
  },
  {
   "cell_type": "code",
   "execution_count": 4,
   "metadata": {},
   "outputs": [
    {
     "data": {
      "text/plain": [
       "'Sigourney Weaver'"
      ]
     },
     "execution_count": 4,
     "metadata": {},
     "output_type": "execute_result"
    }
   ],
   "source": [
    "#q2\n",
    "listofnames['nm0000244']"
   ]
  },
  {
   "cell_type": "code",
   "execution_count": 5,
   "metadata": {},
   "outputs": [
    {
     "data": {
      "text/plain": [
       "['Jonathan English',\n",
       " 'Michael Biehn',\n",
       " 'James Cameron',\n",
       " 'Brian Cox',\n",
       " 'Carrie Henn',\n",
       " 'James Purefoy',\n",
       " 'Kate Mara',\n",
       " 'Sigourney Weaver']"
      ]
     },
     "execution_count": 5,
     "metadata": {},
     "output_type": "execute_result"
    }
   ],
   "source": [
    "#q3\n",
    "keyslistofnames = []\n",
    "valueslistofnames = []\n",
    "keyslistofnames = list(get_mapping('small_mapping.csv').keys())\n",
    "for i in range(len(keyslistofnames)):\n",
    "    key1 = keyslistofnames[i]\n",
    "    if key1[0]=='n' and key1[1] == 'm':\n",
    "        valueslistofnames.append(get_mapping('small_mapping.csv')[key1])\n",
    "        \n",
    "valueslistofnames"
   ]
  },
  {
   "cell_type": "code",
   "execution_count": 6,
   "metadata": {},
   "outputs": [
    {
     "data": {
      "text/plain": [
       "['nm0000116', 'nm0700856']"
      ]
     },
     "execution_count": 6,
     "metadata": {},
     "output_type": "execute_result"
    }
   ],
   "source": [
    "#q4\n",
    "keyslistofnames = []\n",
    "valueslistofnames = []\n",
    "valueslistofnames = list(get_mapping('small_mapping.csv').values())\n",
    "for i in range(len(valueslistofnames)):\n",
    "    values1 = valueslistofnames[i]\n",
    "    if 'James' in valueslistofnames[i]:\n",
    "        keyslistofnames.append(acsv_data[i-1][0])\n",
    "        \n",
    "keyslistofnames"
   ]
  },
  {
   "cell_type": "code",
   "execution_count": 7,
   "metadata": {},
   "outputs": [
    {
     "data": {
      "text/plain": [
       "['Ironclad',\n",
       " 'Aliens',\n",
       " 'Jonathan English',\n",
       " 'Michael Biehn',\n",
       " 'James Cameron',\n",
       " 'Brian Cox',\n",
       " 'Carrie Henn',\n",
       " 'James Purefoy',\n",
       " 'Kate Mara',\n",
       " 'Sigourney Weaver']"
      ]
     },
     "execution_count": 7,
     "metadata": {},
     "output_type": "execute_result"
    }
   ],
   "source": [
    "list(get_mapping('small_mapping.csv').values())"
   ]
  },
  {
   "cell_type": "code",
   "execution_count": 8,
   "metadata": {},
   "outputs": [
    {
     "data": {
      "text/plain": [
       "[{'title': 'tt0090605',\n",
       "  'year': 1986,\n",
       "  'genres': ['Action', 'Adventure', 'Sci-Fi'],\n",
       "  'duration': 137,\n",
       "  'directors': ['nm0000116'],\n",
       "  'actors': ['nm0000244', 'nm0001343', 'nm0000299'],\n",
       "  'rating': 8.3},\n",
       " {'title': 'tt1233301',\n",
       "  'year': 2011,\n",
       "  'genres': ['Action', 'Drama', 'History'],\n",
       "  'duration': 121,\n",
       "  'directors': ['nm0257646'],\n",
       "  'actors': ['nm0700856', 'nm9696871', 'nm0544718'],\n",
       "  'rating': 6.1}]"
      ]
     },
     "execution_count": 8,
     "metadata": {},
     "output_type": "execute_result"
    }
   ],
   "source": [
    "#q5\n",
    "def get_raw_movies(path):\n",
    "    movies = []\n",
    "    bcsv = process_csv(path)\n",
    "    header = bcsv[0]\n",
    "    bcsv_data = bcsv[1:]\n",
    "    for i in range(len(bcsv_data)):\n",
    "        moviedict = {}\n",
    "        moviedict['title'] = bcsv_data[i][0]\n",
    "        moviedict['year'] = int(bcsv_data[i][1])\n",
    "        moviedict['genres'] = bcsv_data[i][2].split(', ')\n",
    "        moviedict['duration'] = int(bcsv_data[i][3])\n",
    "        moviedict['directors'] = bcsv_data[i][4].split(', ')\n",
    "        moviedict['actors'] = bcsv_data[i][5].split(', ')\n",
    "        moviedict['rating'] = float(bcsv_data[i][6])\n",
    "        movies.append(moviedict)\n",
    "    return movies\n",
    "\n",
    "importantdict = get_raw_movies('small_movies.csv')\n",
    "importantdict"
   ]
  },
  {
   "cell_type": "code",
   "execution_count": 9,
   "metadata": {},
   "outputs": [
    {
     "data": {
      "text/plain": [
       "3"
      ]
     },
     "execution_count": 9,
     "metadata": {},
     "output_type": "execute_result"
    }
   ],
   "source": [
    "#q6\n",
    "listofmovies = get_raw_movies('small_movies.csv')\n",
    "len(listofmovies[0]['actors'])"
   ]
  },
  {
   "cell_type": "code",
   "execution_count": 10,
   "metadata": {},
   "outputs": [
    {
     "data": {
      "text/plain": [
       "'nm0000244'"
      ]
     },
     "execution_count": 10,
     "metadata": {},
     "output_type": "execute_result"
    }
   ],
   "source": [
    "#q7\n",
    "listofmovies = get_raw_movies('small_movies.csv')\n",
    "listofmovies[0]['actors'][0]"
   ]
  },
  {
   "cell_type": "code",
   "execution_count": 11,
   "metadata": {},
   "outputs": [
    {
     "data": {
      "text/plain": [
       "[{'title': 'Aliens',\n",
       "  'year': 1986,\n",
       "  'genres': ['Action', 'Adventure', 'Sci-Fi'],\n",
       "  'duration': 137,\n",
       "  'directors': ['James Cameron'],\n",
       "  'actors': ['Sigourney Weaver', 'Carrie Henn', 'Michael Biehn'],\n",
       "  'rating': 8.3},\n",
       " {'title': 'Ironclad',\n",
       "  'year': 2011,\n",
       "  'genres': ['Action', 'Drama', 'History'],\n",
       "  'duration': 121,\n",
       "  'directors': ['Jonathan English'],\n",
       "  'actors': ['James Purefoy', 'Brian Cox', 'Kate Mara'],\n",
       "  'rating': 6.1}]"
      ]
     },
     "execution_count": 11,
     "metadata": {},
     "output_type": "execute_result"
    }
   ],
   "source": [
    "#q8\n",
    "def get_movies(movies_path, mapping_path):\n",
    "    tofill=get_raw_movies(movies_path)\n",
    "    codename=get_mapping(mapping_path)\n",
    "    for i in range(len(tofill)):\n",
    "        j=0\n",
    "        k=0\n",
    "        if tofill[i]['title'][0:2]=='tt':\n",
    "            tofill[i]['title']=codename[tofill[i]['title']]\n",
    "        for act in tofill[i]['directors']:\n",
    "            if act[0:2] =='nm':\n",
    "                tofill[i]['directors'][j]=codename[act]\n",
    "                j+=1\n",
    "        for act in tofill[i]['actors']:\n",
    "            if act[0:2] =='nm':\n",
    "                tofill[i]['actors'][k]=codename[act]\n",
    "                k+=1   \n",
    "    return tofill\n",
    "        \n",
    "small_data = get_movies(\"small_movies.csv\", \"small_mapping.csv\")\n",
    "small_data"
   ]
  },
  {
   "cell_type": "code",
   "execution_count": 12,
   "metadata": {},
   "outputs": [
    {
     "data": {
      "text/plain": [
       "['tt1233301',\n",
       " 'tt0090605',\n",
       " 'nm0257646',\n",
       " 'nm0000299',\n",
       " 'nm0000116',\n",
       " 'nm9696871',\n",
       " 'nm0001343',\n",
       " 'nm0700856',\n",
       " 'nm0544718',\n",
       " 'nm0000244']"
      ]
     },
     "execution_count": 12,
     "metadata": {},
     "output_type": "execute_result"
    }
   ],
   "source": [
    "list(listofnames.keys())"
   ]
  },
  {
   "cell_type": "code",
   "execution_count": 13,
   "metadata": {},
   "outputs": [
    {
     "data": {
      "text/plain": [
       "'Ironclad'"
      ]
     },
     "execution_count": 13,
     "metadata": {},
     "output_type": "execute_result"
    }
   ],
   "source": [
    "#q9\n",
    "small_data[1][\"title\"]"
   ]
  },
  {
   "cell_type": "code",
   "execution_count": 14,
   "metadata": {},
   "outputs": [
    {
     "data": {
      "text/plain": [
       "['Sigourney Weaver', 'Carrie Henn', 'Michael Biehn']"
      ]
     },
     "execution_count": 14,
     "metadata": {},
     "output_type": "execute_result"
    }
   ],
   "source": [
    "#q10\n",
    "small_data[0][\"actors\"]"
   ]
  },
  {
   "cell_type": "code",
   "execution_count": 15,
   "metadata": {},
   "outputs": [
    {
     "data": {
      "text/plain": [
       "['Jonathan English']"
      ]
     },
     "execution_count": 15,
     "metadata": {},
     "output_type": "execute_result"
    }
   ],
   "source": [
    "#q11\n",
    "small_data[-1][\"directors\"]"
   ]
  },
  {
   "cell_type": "code",
   "execution_count": 16,
   "metadata": {},
   "outputs": [
    {
     "data": {
      "text/plain": [
       "[{'title': 'Evolution',\n",
       "  'year': 2001,\n",
       "  'genres': ['Comedy', 'Sci-Fi'],\n",
       "  'duration': 101,\n",
       "  'directors': ['Ivan Reitman'],\n",
       "  'actors': ['David Duchovny', 'Julianne Moore'],\n",
       "  'rating': 6.1},\n",
       " {'title': \"Everybody's Fine\",\n",
       "  'year': 2009,\n",
       "  'genres': ['Drama'],\n",
       "  'duration': 100,\n",
       "  'directors': ['Kirk Jones'],\n",
       "  'actors': ['Robert De Niro',\n",
       "   'Drew Barrymore',\n",
       "   'Kate Beckinsale',\n",
       "   'Sam Rockwell',\n",
       "   'Lucian Maisel'],\n",
       "  'rating': 7.1},\n",
       " {'title': 'Tales of Poe',\n",
       "  'year': 2014,\n",
       "  'genres': ['Fantasy', 'Horror', 'Thriller'],\n",
       "  'duration': 120,\n",
       "  'directors': ['Bart Mastronardi', 'Alan Rowe Kelly'],\n",
       "  'actors': ['Caroline Williams', 'Debbie Rochon', 'Adrienne King'],\n",
       "  'rating': 4.1},\n",
       " {'title': 'Ghostbusters II',\n",
       "  'year': 1989,\n",
       "  'genres': ['Action', 'Comedy', 'Fantasy'],\n",
       "  'duration': 108,\n",
       "  'directors': ['Ivan Reitman'],\n",
       "  'actors': ['Bill Murray', 'Dan Aykroyd', 'Sigourney Weaver'],\n",
       "  'rating': 6.6},\n",
       " {'title': 'Inevitable Grace',\n",
       "  'year': 1994,\n",
       "  'genres': ['Thriller'],\n",
       "  'duration': 103,\n",
       "  'directors': ['Alex Monty Canawati'],\n",
       "  'actors': ['Maxwell Caulfield', 'Stephanie Knights', 'Jennifer Nicholson'],\n",
       "  'rating': 4.8},\n",
       " {'title': 'Heavy Times',\n",
       "  'year': 2010,\n",
       "  'genres': ['Comedy'],\n",
       "  'duration': 90,\n",
       "  'directors': ['Benjamin Mark', 'Ryan McKenna'],\n",
       "  'actors': ['Melina Bartzokis', 'Jay Brunner', 'Brian D. Evans'],\n",
       "  'rating': 4.0}]"
      ]
     },
     "execution_count": 16,
     "metadata": {},
     "output_type": "execute_result"
    }
   ],
   "source": [
    "#q12\n",
    "movies = get_movies(\"movies.csv\", \"mapping.csv\")\n",
    "movies[499:505]"
   ]
  },
  {
   "cell_type": "code",
   "execution_count": 17,
   "metadata": {},
   "outputs": [
    {
     "data": {
      "text/plain": [
       "[{'title': 'Front Cover',\n",
       "  'year': 2015,\n",
       "  'genres': ['Comedy', 'Drama', 'Romance'],\n",
       "  'duration': 87,\n",
       "  'directors': ['Ray Yeung'],\n",
       "  'actors': ['Jake Choi', 'James Chen', 'Jennifer Neala Page'],\n",
       "  'rating': 6.3},\n",
       " {'title': 'The Ape',\n",
       "  'year': 2005,\n",
       "  'genres': ['Comedy', 'Drama'],\n",
       "  'duration': 92,\n",
       "  'directors': ['James Franco'],\n",
       "  'actors': ['James Franco', 'Brian Lally', 'Allison Bibicoff'],\n",
       "  'rating': 4.5},\n",
       " {'title': 'Eastside',\n",
       "  'year': 1999,\n",
       "  'genres': ['Drama', 'Crime'],\n",
       "  'duration': 94,\n",
       "  'directors': ['Lorena David'],\n",
       "  'actors': ['Mario Lopez', 'Elizabeth Bogush', 'Mark D. Espinoza'],\n",
       "  'rating': 4.4}]"
      ]
     },
     "execution_count": 17,
     "metadata": {},
     "output_type": "execute_result"
    }
   ],
   "source": [
    "#q13\n",
    "movies[-3:]"
   ]
  },
  {
   "cell_type": "code",
   "execution_count": 18,
   "metadata": {},
   "outputs": [
    {
     "data": {
      "text/plain": [
       "849"
      ]
     },
     "execution_count": 18,
     "metadata": {},
     "output_type": "execute_result"
    }
   ],
   "source": [
    "#q14\n",
    "moviesinyear=copy.deepcopy(movies)\n",
    "\n",
    "#you are *not* allowed to change this function\n",
    "def filter_movies_by_year(movies, year):\n",
    "    i = 0\n",
    "    while i < len(movies):\n",
    "        if movies[i][\"year\"] != year:\n",
    "            movies.pop(i)\n",
    "        else:\n",
    "            i += 1\n",
    "    return movies\n",
    "\n",
    "len(filter_movies_by_year(moviesinyear, 2019))"
   ]
  },
  {
   "cell_type": "code",
   "execution_count": 19,
   "metadata": {},
   "outputs": [
    {
     "data": {
      "text/plain": [
       "[{'title': 'Oh! Calcutta!',\n",
       "  'year': 1972,\n",
       "  'genres': ['Comedy', 'Musical'],\n",
       "  'duration': 123,\n",
       "  'directors': ['Jacques Levy'],\n",
       "  'actors': ['Raina Barrett', 'Mark Dempsey', 'Samantha Harper'],\n",
       "  'rating': 5.3},\n",
       " {'title': 'The Cowboys',\n",
       "  'year': 1972,\n",
       "  'genres': ['Adventure', 'Drama', 'Western'],\n",
       "  'duration': 134,\n",
       "  'directors': ['Mark Rydell'],\n",
       "  'actors': ['John Wayne', 'Roscoe Lee Browne', 'Bruce Dern'],\n",
       "  'rating': 7.4},\n",
       " {'title': 'Sleuth',\n",
       "  'year': 1972,\n",
       "  'genres': ['Mystery', 'Thriller'],\n",
       "  'duration': 138,\n",
       "  'directors': ['Joseph L. Mankiewicz'],\n",
       "  'actors': ['Laurence Olivier', 'Michael Caine', 'Alec Cawthorne'],\n",
       "  'rating': 8.0},\n",
       " {'title': 'The Great Waltz',\n",
       "  'year': 1972,\n",
       "  'genres': ['Biography', 'Drama', 'Music'],\n",
       "  'duration': 135,\n",
       "  'directors': ['Andrew L. Stone'],\n",
       "  'actors': ['Horst Buchholz',\n",
       "   'Mary Costa',\n",
       "   'Nigel Patrick',\n",
       "   'Yvonne Mitchell'],\n",
       "  'rating': 5.2},\n",
       " {'title': 'Bluebeard',\n",
       "  'year': 1972,\n",
       "  'genres': ['Crime', 'Drama', 'Thriller'],\n",
       "  'duration': 125,\n",
       "  'directors': ['Edward Dmytryk'],\n",
       "  'actors': ['Richard Burton', 'Raquel Welch', 'Virna Lisi'],\n",
       "  'rating': 5.7},\n",
       " {'title': 'Cabaret',\n",
       "  'year': 1972,\n",
       "  'genres': ['Drama', 'Musical'],\n",
       "  'duration': 124,\n",
       "  'directors': ['Bob Fosse'],\n",
       "  'actors': ['Liza Minnelli', 'Michael York', 'Helmut Griem', 'Joel Grey'],\n",
       "  'rating': 7.8},\n",
       " {'title': 'Man of La Mancha',\n",
       "  'year': 1972,\n",
       "  'genres': ['Drama', 'Fantasy', 'Musical'],\n",
       "  'duration': 132,\n",
       "  'directors': ['Arthur Hiller'],\n",
       "  'actors': [\"Peter O'Toole\", 'Sophia Loren', 'James Coco'],\n",
       "  'rating': 6.7},\n",
       " {'title': 'The Godfather',\n",
       "  'year': 1972,\n",
       "  'genres': ['Crime', 'Drama'],\n",
       "  'duration': 175,\n",
       "  'directors': ['Francis Ford Coppola'],\n",
       "  'actors': ['Marlon Brando', 'Al Pacino', 'James Caan'],\n",
       "  'rating': 9.2},\n",
       " {'title': 'The Getaway',\n",
       "  'year': 1972,\n",
       "  'genres': ['Action', 'Crime', 'Thriller'],\n",
       "  'duration': 123,\n",
       "  'directors': ['Sam Peckinpah'],\n",
       "  'actors': ['Steve McQueen',\n",
       "   'Ali MacGraw',\n",
       "   'Ben Johnson',\n",
       "   'Sally Struthers',\n",
       "   'Al Lettieri'],\n",
       "  'rating': 7.4},\n",
       " {'title': 'Lady Sings the Blues',\n",
       "  'year': 1972,\n",
       "  'genres': ['Biography', 'Drama', 'Music'],\n",
       "  'duration': 144,\n",
       "  'directors': ['Sidney J. Furie'],\n",
       "  'actors': ['Diana Ross', 'Billy Dee Williams', 'Richard Pryor'],\n",
       "  'rating': 7.1},\n",
       " {'title': 'Avanti!',\n",
       "  'year': 1972,\n",
       "  'genres': ['Comedy', 'Romance'],\n",
       "  'duration': 144,\n",
       "  'directors': ['Billy Wilder'],\n",
       "  'actors': ['Jack Lemmon', 'Juliet Mills'],\n",
       "  'rating': 7.2},\n",
       " {'title': 'Hungry Wives',\n",
       "  'year': 1972,\n",
       "  'genres': ['Drama'],\n",
       "  'duration': 130,\n",
       "  'directors': ['George A. Romero'],\n",
       "  'actors': ['Jan White', 'Raymond Laine', 'Ann Muffly'],\n",
       "  'rating': 5.5},\n",
       " {'title': '1776',\n",
       "  'year': 1972,\n",
       "  'genres': ['Drama', 'Family', 'History'],\n",
       "  'duration': 141,\n",
       "  'directors': ['Peter H. Hunt'],\n",
       "  'actors': ['William Daniels',\n",
       "   'Howard Da Silva',\n",
       "   'Ken Howard',\n",
       "   'Donald Madden'],\n",
       "  'rating': 7.6}]"
      ]
     },
     "execution_count": 19,
     "metadata": {},
     "output_type": "execute_result"
    }
   ],
   "source": [
    "#q15\n",
    "copied_movies = copy.deepcopy(movies)\n",
    "\n",
    "i = 0\n",
    "while i < len(copied_movies):\n",
    "    if copied_movies[i][\"duration\"]<120:\n",
    "        copied_movies.pop(i)\n",
    "    else:\n",
    "        i+=1\n",
    "        \n",
    "filter_movies_by_year(copied_movies, 1972)"
   ]
  },
  {
   "cell_type": "code",
   "execution_count": 20,
   "metadata": {},
   "outputs": [
    {
     "data": {
      "text/plain": [
       "24"
      ]
     },
     "execution_count": 20,
     "metadata": {},
     "output_type": "execute_result"
    }
   ],
   "source": [
    "#q16\n",
    "def uniqueness(movielist,uniq):\n",
    "    uniqu=[]\n",
    "    for i in range(len(movielist)):\n",
    "        for multiple in movielist[i][uniq]:\n",
    "            if multiple not in uniqu:\n",
    "                uniqu.append(multiple)\n",
    "    return uniqu\n",
    "\n",
    "len(uniqueness(movies,'genres'))"
   ]
  },
  {
   "cell_type": "code",
   "execution_count": null,
   "metadata": {},
   "outputs": [],
   "source": [
    "#q17\n",
    "len(uniqueness(movies,'actors'))"
   ]
  },
  {
   "cell_type": "code",
   "execution_count": null,
   "metadata": {},
   "outputs": [],
   "source": [
    "#q18\n",
    "len(uniqueness(movies,'directors'))"
   ]
  },
  {
   "cell_type": "code",
   "execution_count": null,
   "metadata": {},
   "outputs": [],
   "source": [
    "#q19\n",
    "total=0\n",
    "for i in movies:\n",
    "    total+=i['duration']\n",
    "    \n",
    "total/len(movies)   "
   ]
  },
  {
   "cell_type": "code",
   "execution_count": null,
   "metadata": {},
   "outputs": [],
   "source": [
    "#q20\n",
    "longest=None\n",
    "dirmovies=[]\n",
    "\n",
    "for i in uniqueness(movies,'directors'):\n",
    "    if longest==None:\n",
    "        longest=i\n",
    "        continue\n",
    "    if len(longest)<len(i):\n",
    "        longest=i\n",
    "    \n",
    "for j in movies:\n",
    "    if longest in j['directors']:\n",
    "        dirmovies.append(j)\n",
    "\n",
    "dirmovies  "
   ]
  }
 ],
 "metadata": {
  "kernelspec": {
   "display_name": "Python 3",
   "language": "python",
   "name": "python3"
  },
  "language_info": {
   "codemirror_mode": {
    "name": "ipython",
    "version": 3
   },
   "file_extension": ".py",
   "mimetype": "text/x-python",
   "name": "python",
   "nbconvert_exporter": "python",
   "pygments_lexer": "ipython3",
   "version": "3.8.5"
  }
 },
 "nbformat": 4,
 "nbformat_minor": 4
}
