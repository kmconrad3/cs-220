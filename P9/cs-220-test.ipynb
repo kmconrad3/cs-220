{
 "cells": [
  {
   "cell_type": "code",
   "execution_count": 1,
   "metadata": {
    "execution": {
     "iopub.execute_input": "2021-04-15T03:45:47.045713Z",
     "iopub.status.busy": "2021-04-15T03:45:47.044757Z",
     "iopub.status.idle": "2021-04-15T03:45:47.047289Z",
     "shell.execute_reply": "2021-04-15T03:45:47.048029Z"
    }
   },
   "outputs": [],
   "source": [
    "# project: p9\n",
    "# submitter: Kmconrad3\n",
    "# partner: Akroubal\n",
    "# hours: 7"
   ]
  },
  {
   "cell_type": "code",
   "execution_count": 2,
   "metadata": {
    "execution": {
     "iopub.execute_input": "2021-04-15T03:45:47.054841Z",
     "iopub.status.busy": "2021-04-15T03:45:47.053985Z",
     "iopub.status.idle": "2021-04-15T03:45:48.625599Z",
     "shell.execute_reply": "2021-04-15T03:45:48.626129Z"
    }
   },
   "outputs": [],
   "source": [
    "import csv\n",
    "import copy \n",
    "import matplotlib\n",
    "import pandas\n",
    "\n",
    "#allows you to render matplotlib graphs in the same notebook\n",
    "%matplotlib inline \n",
    "\n",
    "def plot_dict(d, label=\"Please Label Me!!!\"):\n",
    "    ax = pandas.Series(d).sort_index().plot.bar(color=\"black\", fontsize=16)\n",
    "    ax.set_ylabel(label, fontsize=16)"
   ]
  },
  {
   "cell_type": "code",
   "execution_count": 3,
   "metadata": {
    "execution": {
     "iopub.execute_input": "2021-04-15T03:45:48.632198Z",
     "iopub.status.busy": "2021-04-15T03:45:48.631216Z",
     "iopub.status.idle": "2021-04-15T03:45:48.868132Z",
     "shell.execute_reply": "2021-04-15T03:45:48.868661Z"
    }
   },
   "outputs": [],
   "source": [
    "def process_csv(filename):\n",
    "    exampleFile = open(filename, encoding=\"utf-8\")\n",
    "    exampleReader = csv.reader(exampleFile)\n",
    "    exampleData = list(exampleReader)\n",
    "    exampleFile.close()\n",
    "    return exampleData\n",
    "\n",
    "#use process_csv to pull out the header and data rows\n",
    "csv_rows = process_csv(\"movies.csv\")\n",
    "csv_header = csv_rows[0]\n",
    "csv_data = csv_rows[1:]\n",
    "\n",
    "#for mapping.csv\n",
    "csv_rows2 = process_csv(\"mapping.csv\")\n",
    "csv_header2 = csv_rows2[0]\n",
    "csv_data2 = csv_rows2[1:]"
   ]
  },
  {
   "cell_type": "code",
   "execution_count": 4,
   "metadata": {
    "execution": {
     "iopub.execute_input": "2021-04-15T03:45:48.874185Z",
     "iopub.status.busy": "2021-04-15T03:45:48.873288Z",
     "iopub.status.idle": "2021-04-15T03:45:48.875774Z",
     "shell.execute_reply": "2021-04-15T03:45:48.876298Z"
    }
   },
   "outputs": [],
   "source": [
    "def get_mapping(path):\n",
    "    listofnames = {}\n",
    "    datamess=process_csv(path)\n",
    "    for i in range(len(datamess)): \n",
    "            listofnames[datamess[i][0]] = datamess[i][1]\n",
    "    return listofnames"
   ]
  },
  {
   "cell_type": "code",
   "execution_count": 5,
   "metadata": {
    "execution": {
     "iopub.execute_input": "2021-04-15T03:45:48.886038Z",
     "iopub.status.busy": "2021-04-15T03:45:48.885196Z",
     "iopub.status.idle": "2021-04-15T03:45:48.887839Z",
     "shell.execute_reply": "2021-04-15T03:45:48.888371Z"
    }
   },
   "outputs": [],
   "source": [
    "def get_raw_movies(path):\n",
    "    movies = []\n",
    "    bcsv = process_csv(path)\n",
    "    header = bcsv[0]\n",
    "    bcsv_data = bcsv[1:]\n",
    "    for i in range(len(bcsv_data)):\n",
    "        moviedict = {}\n",
    "        moviedict['title'] = bcsv_data[i][0]\n",
    "        moviedict['year'] = int(bcsv_data[i][1])\n",
    "        moviedict['genres'] = bcsv_data[i][2].split(', ')\n",
    "        moviedict['duration'] = int(bcsv_data[i][3])\n",
    "        moviedict['directors'] = bcsv_data[i][4].split(', ')\n",
    "        moviedict['actors'] = bcsv_data[i][5].split(', ')\n",
    "        moviedict['rating'] = float(bcsv_data[i][6])\n",
    "        movies.append(moviedict)\n",
    "    return movies"
   ]
  },
  {
   "cell_type": "code",
   "execution_count": 6,
   "metadata": {
    "execution": {
     "iopub.execute_input": "2021-04-15T03:45:48.895561Z",
     "iopub.status.busy": "2021-04-15T03:45:48.894755Z",
     "iopub.status.idle": "2021-04-15T03:45:48.897207Z",
     "shell.execute_reply": "2021-04-15T03:45:48.897842Z"
    }
   },
   "outputs": [],
   "source": [
    "def get_movies(movies_path, mapping_path):\n",
    "    tofill=get_raw_movies(movies_path)\n",
    "    codename=get_mapping(mapping_path)\n",
    "    for i in range(len(tofill)):\n",
    "        j=0\n",
    "        k=0\n",
    "        if tofill[i]['title'][0:2]=='tt':\n",
    "            tofill[i]['title']=codename[tofill[i]['title']]\n",
    "        for act in tofill[i]['directors']:\n",
    "            if act[0:2] =='nm':\n",
    "                tofill[i]['directors'][j]=codename[act]\n",
    "                j+=1\n",
    "        for act in tofill[i]['actors']:\n",
    "            if act[0:2] =='nm':\n",
    "                tofill[i]['actors'][k]=codename[act]\n",
    "                k+=1   \n",
    "    return tofill"
   ]
  },
  {
   "cell_type": "code",
   "execution_count": 7,
   "metadata": {
    "execution": {
     "iopub.execute_input": "2021-04-15T03:45:48.927616Z",
     "iopub.status.busy": "2021-04-15T03:45:48.926706Z",
     "iopub.status.idle": "2021-04-15T03:45:48.932206Z",
     "shell.execute_reply": "2021-04-15T03:45:48.932730Z"
    }
   },
   "outputs": [
    {
     "data": {
      "text/plain": [
       "5.6100560490347355"
      ]
     },
     "execution_count": 1,
     "metadata": {},
     "output_type": "execute_result"
    }
   ],
   "source": [
    "#q1\n",
    "amount = 0\n",
    "total = 0\n",
    "for rows in range(len(list(csv_data[0:]))):\n",
    "    if len(csv_data[rows][5]) < 45:\n",
    "        total += float(csv_data[rows][6])\n",
    "        amount+=1\n",
    "    else:\n",
    "        continue\n",
    "\n",
    "total/amount"
   ]
  },
  {
   "cell_type": "code",
   "execution_count": 8,
   "metadata": {
    "execution": {
     "iopub.execute_input": "2021-04-15T03:45:48.951977Z",
     "iopub.status.busy": "2021-04-15T03:45:48.950967Z",
     "iopub.status.idle": "2021-04-15T03:45:48.954340Z",
     "shell.execute_reply": "2021-04-15T03:45:48.954866Z"
    }
   },
   "outputs": [
    {
     "data": {
      "text/plain": [
       "5.64560928433269"
      ]
     },
     "execution_count": 1,
     "metadata": {},
     "output_type": "execute_result"
    }
   ],
   "source": [
    "#q2\n",
    "highamount = 0\n",
    "hightotal = 0\n",
    "for rows in range(len(list(csv_data[0:]))):\n",
    "    if len(csv_data[rows][5]) >= 53:\n",
    "        hightotal += float(csv_data[rows][6])\n",
    "        highamount+=1\n",
    "    else:\n",
    "        continue\n",
    "\n",
    "hightotal/highamount"
   ]
  },
  {
   "cell_type": "code",
   "execution_count": 9,
   "metadata": {
    "execution": {
     "iopub.execute_input": "2021-04-15T03:45:48.968280Z",
     "iopub.status.busy": "2021-04-15T03:45:48.967519Z",
     "iopub.status.idle": "2021-04-15T03:45:49.690934Z",
     "shell.execute_reply": "2021-04-15T03:45:49.691496Z"
    }
   },
   "outputs": [
    {
     "data": {
      "text/plain": [
       "5.511147540983598"
      ]
     },
     "execution_count": 1,
     "metadata": {},
     "output_type": "execute_result"
    }
   ],
   "source": [
    "#q3\n",
    "listofmovies = get_movies(\"movies.csv\", 'mapping.csv')\n",
    "\n",
    "nameamount = 0\n",
    "nametotal = 0\n",
    "for rows in range(len(list(csv_data[0:]))):\n",
    "    if listofmovies[rows]['title'][0] == 'A':\n",
    "        nametotal += float(csv_data[rows][6])\n",
    "        nameamount += 1\n",
    "    else:\n",
    "        continue\n",
    "\n",
    "nametotal/nameamount"
   ]
  },
  {
   "cell_type": "code",
   "execution_count": 10,
   "metadata": {
    "execution": {
     "iopub.execute_input": "2021-04-15T03:45:49.697359Z",
     "iopub.status.busy": "2021-04-15T03:45:49.696501Z",
     "iopub.status.idle": "2021-04-15T03:45:50.718530Z",
     "shell.execute_reply": "2021-04-15T03:45:50.719071Z"
    }
   },
   "outputs": [
    {
     "data": {
      "image/png": "[encoded data removed]",
      "text/plain": [
       "<Figure size 432x288 with 1 Axes>"
      ]
     },
     "metadata": {
      "needs_background": "light"
     },
     "output_type": "display_data"
    }
   ],
   "source": [
    "#q4\n",
    "listofmovies = get_movies(\"movies.csv\", 'mapping.csv')\n",
    "\n",
    "lldictionary = {}\n",
    "for i in range(len(listofmovies)):\n",
    "    if 'Emma Stone' in listofmovies[i]['actors']:\n",
    "        lldictionary[listofmovies[i]['title']] = listofmovies[i]['rating']\n",
    "    else:\n",
    "        continue\n",
    "        \n",
    "lldictionary\n",
    "plot_dict(lldictionary, 'ratings')    "
   ]
  },
  {
   "cell_type": "code",
   "execution_count": 11,
   "metadata": {
    "execution": {
     "iopub.execute_input": "2021-04-15T03:45:50.732561Z",
     "iopub.status.busy": "2021-04-15T03:45:50.731804Z",
     "iopub.status.idle": "2021-04-15T03:45:51.655519Z",
     "shell.execute_reply": "2021-04-15T03:45:51.656142Z"
    }
   },
   "outputs": [
    {
     "data": {
      "image/png": "[encoded data removed]",
      "text/plain": [
       "<Figure size 432x288 with 1 Axes>"
      ]
     },
     "metadata": {
      "needs_background": "light"
     },
     "output_type": "display_data"
    }
   ],
   "source": [
    "#q5\n",
    "listofmovies = get_movies(\"movies.csv\", 'mapping.csv')\n",
    "lldictionary = {}\n",
    "for i in range(len(listofmovies)):\n",
    "    if 'Quentin Tarantino' in listofmovies[i]['directors']:\n",
    "        lldictionary[listofmovies[i]['title']] = listofmovies[i]['rating']\n",
    "    else:\n",
    "        continue\n",
    "        \n",
    "lldictionary\n",
    "plot_dict(lldictionary, 'ratings')"
   ]
  },
  {
   "cell_type": "code",
   "execution_count": 12,
   "metadata": {
    "execution": {
     "iopub.execute_input": "2021-04-15T03:45:51.692275Z",
     "iopub.status.busy": "2021-04-15T03:45:51.671030Z",
     "iopub.status.idle": "2021-04-15T03:45:52.544322Z",
     "shell.execute_reply": "2021-04-15T03:45:52.544885Z"
    }
   },
   "outputs": [
    {
     "data": {
      "image/png": "[encoded data removed]",
      "text/plain": [
       "<Figure size 432x288 with 1 Axes>"
      ]
     },
     "metadata": {
      "needs_background": "light"
     },
     "output_type": "display_data"
    }
   ],
   "source": [
    "#q6\n",
    "listofmovies = get_movies(\"movies.csv\", 'mapping.csv')\n",
    "lldictionary = {}\n",
    "j=0\n",
    "e=0\n",
    "d=0\n",
    "for i in range(len(listofmovies)):\n",
    "    if 'John Wayne' in listofmovies[i]['actors']:\n",
    "        j += 1\n",
    "        lldictionary['John Wayne'] = j\n",
    "    if 'Edward Norton' in listofmovies[i]['actors']:\n",
    "        e += 1\n",
    "        lldictionary['Edward Norton'] = e\n",
    "    if 'Danny Glover' in listofmovies[i]['actors']:\n",
    "        d += 1\n",
    "        lldictionary['Danny Glover'] = d\n",
    "    else:\n",
    "        continue\n",
    "        \n",
    "lldictionary\n",
    "plot_dict(lldictionary, 'number')"
   ]
  },
  {
   "cell_type": "code",
   "execution_count": 13,
   "metadata": {
    "execution": {
     "iopub.execute_input": "2021-04-15T03:45:52.680479Z",
     "iopub.status.busy": "2021-04-15T03:45:52.679074Z",
     "iopub.status.idle": "2021-04-15T03:45:52.831947Z",
     "shell.execute_reply": "2021-04-15T03:45:52.832480Z"
    }
   },
   "outputs": [
    {
     "data": {
      "image/png": "[encoded data removed]",
      "text/plain": [
       "<Figure size 432x288 with 1 Axes>"
      ]
     },
     "metadata": {
      "needs_background": "light"
     },
     "output_type": "display_data"
    }
   ],
   "source": [
    "#q7\n",
    "from operator import itemgetter\n",
    "listoftitles= (list(map(itemgetter('title'), listofmovies)))\n",
    "listoftitles = [each_string.lower() for each_string in listoftitles]\n",
    "\n",
    "counts={}\n",
    "for line in range(len(listoftitles)):\n",
    "    letter1 = (listoftitles[line][0])\n",
    "    if 'a' <= letter1 <= 'z':\n",
    "        if letter1 not in counts:\n",
    "            counts[letter1] = 0\n",
    "        counts[letter1] += 1\n",
    "        \n",
    "alphabet = dict(sorted(counts.items()))\n",
    "plot_dict(alphabet, 'number')"
   ]
  },
  {
   "cell_type": "code",
   "execution_count": 14,
   "metadata": {
    "execution": {
     "iopub.execute_input": "2021-04-15T03:45:53.073562Z",
     "iopub.status.busy": "2021-04-15T03:45:53.000689Z",
     "iopub.status.idle": "2021-04-15T03:45:53.239570Z",
     "shell.execute_reply": "2021-04-15T03:45:53.240149Z"
    }
   },
   "outputs": [
    {
     "data": {
      "image/png": "[encoded data removed]",
      "text/plain": [
       "<Figure size 432x288 with 1 Axes>"
      ]
     },
     "metadata": {
      "needs_background": "light"
     },
     "output_type": "display_data"
    }
   ],
   "source": [
    "#q8\n",
    "genre_buckets = {}\n",
    "for movie in listofmovies:\n",
    "    for genre in movie['genres']:\n",
    "        first=genre  \n",
    "        if not first in genre_buckets:\n",
    "            genre_buckets[first] = 0\n",
    "        genre_buckets[first] += 1\n",
    "        \n",
    "genre_buckets\n",
    "            \n",
    "plot_dict(genre_buckets, 'number')           "
   ]
  },
  {
   "cell_type": "code",
   "execution_count": 15,
   "metadata": {
    "execution": {
     "iopub.execute_input": "2021-04-15T03:45:53.288170Z",
     "iopub.status.busy": "2021-04-15T03:45:53.287242Z",
     "iopub.status.idle": "2021-04-15T03:45:53.290686Z",
     "shell.execute_reply": "2021-04-15T03:45:53.291236Z"
    }
   },
   "outputs": [
    {
     "data": {
      "text/plain": [
       "{'d': 5.306042296072506,\n",
       " 'e': 5.527586206896553,\n",
       " 'x': 5.690909090909093,\n",
       " 'l': 5.681399176954736,\n",
       " 'w': 5.738674579624128,\n",
       " 's': 5.5558245614035195,\n",
       " 'n': 5.538386648122391,\n",
       " 'f': 5.550164473684206,\n",
       " 't': 5.768541456016157,\n",
       " 'o': 5.72813067150635,\n",
       " 'b': 5.534792734047502,\n",
       " 'v': 5.301162790697679,\n",
       " 'c': 5.533487297921478,\n",
       " 'k': 5.453761061946899,\n",
       " 'i': 5.661092150170649,\n",
       " 'q': 5.615254237288137,\n",
       " 'u': 5.635842293906811,\n",
       " 'y': 5.845142857142855,\n",
       " 'j': 5.7286561264822105,\n",
       " 'r': 5.562799263351744,\n",
       " 'g': 5.591002277904327,\n",
       " 'p': 5.537211367673185,\n",
       " 'm': 5.740911713791118,\n",
       " 'a': 5.511147540983598,\n",
       " 'h': 5.565530022238699,\n",
       " 'z': 5.050943396226414}"
      ]
     },
     "execution_count": 1,
     "metadata": {},
     "output_type": "execute_result"
    }
   ],
   "source": [
    "#q9\n",
    "from operator import itemgetter\n",
    "listoftitles= (list(map(itemgetter('title'), listofmovies)))\n",
    "\n",
    "listoftitles = [each_string.lower() for each_string in listoftitles]\n",
    "counts={}\n",
    "ratings={}\n",
    "for line in range(len(listoftitles)):\n",
    "    letter1 = (listoftitles[line][0])\n",
    "    if 'a' <= letter1 <= 'z':\n",
    "        if letter1 not in counts:\n",
    "            counts[letter1] = 0\n",
    "            ratings[letter1] = 0\n",
    "        counts[letter1] += 1\n",
    "        ratings[letter1] += listofmovies[line]['rating']\n",
    "alphabet = dict(sorted(counts.items()))\n",
    "ratings = dict(sorted(ratings.items()))\n",
    "\n",
    "{k: ratings[k]/alphabet[k] for k in alphabet.keys() & ratings}"
   ]
  },
  {
   "cell_type": "code",
   "execution_count": 16,
   "metadata": {
    "execution": {
     "iopub.execute_input": "2021-04-15T03:45:53.339385Z",
     "iopub.status.busy": "2021-04-15T03:45:53.337323Z",
     "iopub.status.idle": "2021-04-15T03:45:53.342961Z",
     "shell.execute_reply": "2021-04-15T03:45:53.343523Z"
    }
   },
   "outputs": [
    {
     "data": {
      "text/plain": [
       "{'Music': 6.07092511013216,\n",
       " 'History': 6.45741626794258,\n",
       " 'Biography': 6.608622398414282,\n",
       " 'Thriller': 5.1262921348314645,\n",
       " 'Western': 5.996176720475778,\n",
       " 'Drama': 5.982285191956112,\n",
       " 'Family': 5.684858044164039,\n",
       " 'Musical': 6.151965993623801,\n",
       " 'Documentary': 7.5,\n",
       " 'Crime': 5.847321780228442,\n",
       " 'Sci-Fi': 4.901396648044689,\n",
       " 'Adventure': 5.746479605092239,\n",
       " 'Mystery': 5.640863251311018,\n",
       " 'Animation': 6.1353550295857975,\n",
       " 'News': 6.4,\n",
       " 'War': 6.190500641848522,\n",
       " 'Comedy': 5.721581311769968,\n",
       " 'Fantasy': 5.464606376057261,\n",
       " 'Film-Noir': 6.638948995363209,\n",
       " 'Action': 5.338050258420967,\n",
       " 'Reality-TV': 2.1,\n",
       " 'Horror': 4.582376811594196,\n",
       " 'Romance': 6.0585086042065,\n",
       " 'Sport': 5.914867256637162}"
      ]
     },
     "execution_count": 1,
     "metadata": {},
     "output_type": "execute_result"
    }
   ],
   "source": [
    "#q10\n",
    "genre_numbers = {}\n",
    "genre_rate = {}\n",
    "for movie in listofmovies:\n",
    "    for genre in movie['genres']:\n",
    "        first=genre  \n",
    "        if not first in genre_numbers:\n",
    "            genre_numbers[first] = 0\n",
    "            genre_rate[first] = 0\n",
    "        genre_numbers[first] += 1\n",
    "        genre_rate[first] += movie['rating']\n",
    "        \n",
    "{k: genre_rate[k]/genre_numbers[k] for k in genre_numbers.keys() & genre_rate}"
   ]
  },
  {
   "cell_type": "code",
   "execution_count": 17,
   "metadata": {
    "execution": {
     "iopub.execute_input": "2021-04-15T03:45:53.358941Z",
     "iopub.status.busy": "2021-04-15T03:45:53.357952Z",
     "iopub.status.idle": "2021-04-15T03:45:53.361254Z",
     "shell.execute_reply": "2021-04-15T03:45:53.361805Z"
    }
   },
   "outputs": [
    {
     "data": {
      "text/plain": [
       "{'Action': 40,\n",
       " 'Adventure': 45,\n",
       " 'Drama': 155,\n",
       " 'Biography': 20,\n",
       " 'Crime': 50,\n",
       " 'Mystery': 24,\n",
       " 'Thriller': 32,\n",
       " 'Comedy': 50,\n",
       " 'Animation': 12,\n",
       " 'Family': 10,\n",
       " 'Sport': 6,\n",
       " 'History': 12,\n",
       " 'Musical': 9,\n",
       " 'Western': 8,\n",
       " 'Music': 8,\n",
       " 'Romance': 24,\n",
       " 'Sci-Fi': 19,\n",
       " 'Fantasy': 10,\n",
       " 'Film-Noir': 4,\n",
       " 'War': 14,\n",
       " 'Horror': 6}"
      ]
     },
     "execution_count": 1,
     "metadata": {},
     "output_type": "execute_result"
    }
   ],
   "source": [
    "#q11\n",
    "genre_buckets4 = {}\n",
    "\n",
    "for movie in range(len(listofmovies)):\n",
    "    if listofmovies[movie]['rating'] > 8:\n",
    "        for genre in listofmovies[movie]['genres']:\n",
    "            first=genre \n",
    "            if not first in genre_buckets4:\n",
    "                genre_buckets4[first] = 0\n",
    "            genre_buckets4[first] += 1      \n",
    "\n",
    "genre_buckets4            "
   ]
  },
  {
   "cell_type": "code",
   "execution_count": 18,
   "metadata": {
    "execution": {
     "iopub.execute_input": "2021-04-15T03:45:53.444755Z",
     "iopub.status.busy": "2021-04-15T03:45:53.443898Z",
     "iopub.status.idle": "2021-04-15T03:45:53.537402Z",
     "shell.execute_reply": "2021-04-15T03:45:53.537934Z"
    }
   },
   "outputs": [
    {
     "data": {
      "image/png": "[encoded data removed]",
      "text/plain": [
       "<Figure size 432x288 with 1 Axes>"
      ]
     },
     "metadata": {
      "needs_background": "light"
     },
     "output_type": "display_data"
    }
   ],
   "source": [
    "#q12\n",
    "genre_buckets5 = {}\n",
    "\n",
    "for i in range(len(listofmovies)):\n",
    "    if 2020>=listofmovies[i]['year'] and listofmovies[i]['year']>= 2010:\n",
    "            year=listofmovies[i]['year']\n",
    "            if not year in genre_buckets5:\n",
    "                genre_buckets5[year] = 0\n",
    "            genre_buckets5[year] += 1  \n",
    "\n",
    "plot_dict(genre_buckets5, 'number')               "
   ]
  },
  {
   "cell_type": "code",
   "execution_count": 19,
   "metadata": {
    "execution": {
     "iopub.execute_input": "2021-04-15T03:45:53.544835Z",
     "iopub.status.busy": "2021-04-15T03:45:53.543775Z",
     "iopub.status.idle": "2021-04-15T03:45:53.547280Z",
     "shell.execute_reply": "2021-04-15T03:45:53.547839Z"
    }
   },
   "outputs": [
    {
     "data": {
      "text/plain": [
       "[2016]"
      ]
     },
     "execution_count": 1,
     "metadata": {},
     "output_type": "execute_result"
    }
   ],
   "source": [
    "#q13\n",
    "highestyr = []\n",
    "bestnum = 0\n",
    "bestyr = None\n",
    "for year in genre_buckets5: \n",
    "    if genre_buckets5[year]>bestnum:\n",
    "        bestnum = genre_buckets5[year]\n",
    "        bestyr = year\n",
    "highestyr.append(bestyr)\n",
    "\n",
    "for year in genre_buckets5: \n",
    "    if year!=bestyr:\n",
    "        if genre_buckets5[year]==bestnum:\n",
    "            highestyr.append(year)   \n",
    "\n",
    "highestyr"
   ]
  },
  {
   "cell_type": "code",
   "execution_count": 20,
   "metadata": {
    "execution": {
     "iopub.execute_input": "2021-04-15T03:45:53.639915Z",
     "iopub.status.busy": "2021-04-15T03:45:53.595222Z",
     "iopub.status.idle": "2021-04-15T03:45:53.887927Z",
     "shell.execute_reply": "2021-04-15T03:45:53.888706Z"
    }
   },
   "outputs": [
    {
     "data": {
      "text/plain": [
       "['News', 'Documentary', 'Reality-TV']"
      ]
     },
     "execution_count": 1,
     "metadata": {},
     "output_type": "execute_result"
    }
   ],
   "source": [
    "#q14\n",
    "genreunique = []\n",
    "for movie in listofmovies:\n",
    "    for genre in movie['genres']:\n",
    "        first=genre  \n",
    "        if not first in genreunique:\n",
    "            genreunique.append(first) \n",
    "\n",
    "def genre_sort(genre_name):\n",
    "    genre_numbers=0\n",
    "    for movie in listofmovies:\n",
    "        for genre in movie['genres']:\n",
    "            if genre==genre_name:\n",
    "                genre_numbers += 1\n",
    "    return genre_numbers\n",
    "\n",
    "sorted(genreunique, key = genre_sort)[:3]"
   ]
  },
  {
   "cell_type": "code",
   "execution_count": 21,
   "metadata": {
    "execution": {
     "iopub.execute_input": "2021-04-15T03:45:53.979307Z",
     "iopub.status.busy": "2021-04-15T03:45:53.935927Z",
     "iopub.status.idle": "2021-04-15T03:45:54.197822Z",
     "shell.execute_reply": "2021-04-15T03:45:54.198439Z"
    }
   },
   "outputs": [
    {
     "data": {
      "text/plain": [
       "['Drama', 'Comedy', 'Romance']"
      ]
     },
     "execution_count": 1,
     "metadata": {},
     "output_type": "execute_result"
    }
   ],
   "source": [
    "#q15\n",
    "sorted(genreunique, key = genre_sort)[-3:][::-1]"
   ]
  },
  {
   "cell_type": "code",
   "execution_count": 22,
   "metadata": {
    "execution": {
     "iopub.execute_input": "2021-04-15T03:45:54.285056Z",
     "iopub.status.busy": "2021-04-15T03:45:54.243626Z",
     "iopub.status.idle": "2021-04-15T03:45:54.288640Z",
     "shell.execute_reply": "2021-04-15T03:45:54.289167Z"
    }
   },
   "outputs": [
    {
     "data": {
      "text/plain": [
       "'John Wayne'"
      ]
     },
     "execution_count": 1,
     "metadata": {},
     "output_type": "execute_result"
    }
   ],
   "source": [
    "#q16\n",
    "actors={}\n",
    "for movie in listofmovies:\n",
    "    for person in movie['actors']:\n",
    "        if not person in actors:\n",
    "            actors[person]=0\n",
    "        actors[person]+=1\n",
    "\n",
    "sortdict_actors=dict(sorted(actors.items(),key = lambda x:x[1]))\n",
    "list(sortdict_actors)[-1]"
   ]
  },
  {
   "cell_type": "code",
   "execution_count": 23,
   "metadata": {
    "execution": {
     "iopub.execute_input": "2021-04-15T03:45:54.296630Z",
     "iopub.status.busy": "2021-04-15T03:45:54.295684Z",
     "iopub.status.idle": "2021-04-15T03:45:54.299046Z",
     "shell.execute_reply": "2021-04-15T03:45:54.299594Z"
    }
   },
   "outputs": [
    {
     "data": {
      "text/plain": [
       "['John Wayne',\n",
       " 'Eric Roberts',\n",
       " 'Barbara Stanwyck',\n",
       " 'William Boyd',\n",
       " 'Randolph Scott',\n",
       " 'Robert De Niro',\n",
       " 'Nicolas Cage',\n",
       " 'Glenn Ford',\n",
       " 'Robert Mitchum',\n",
       " 'Michael Madsen']"
      ]
     },
     "execution_count": 1,
     "metadata": {},
     "output_type": "execute_result"
    }
   ],
   "source": [
    "#q17\n",
    "list(sortdict_actors)[-10:][::-1]"
   ]
  },
  {
   "cell_type": "code",
   "execution_count": 24,
   "metadata": {
    "execution": {
     "iopub.execute_input": "2021-04-15T03:45:54.317525Z",
     "iopub.status.busy": "2021-04-15T03:45:54.316554Z",
     "iopub.status.idle": "2021-04-15T03:45:54.320220Z",
     "shell.execute_reply": "2021-04-15T03:45:54.320773Z"
    }
   },
   "outputs": [
    {
     "data": {
      "text/plain": [
       "25546"
      ]
     },
     "execution_count": 1,
     "metadata": {},
     "output_type": "execute_result"
    }
   ],
   "source": [
    "#q18\n",
    "onemovie=0\n",
    "for i in sortdict_actors:\n",
    "    if sortdict_actors[i]==1:\n",
    "        onemovie+=1\n",
    "        \n",
    "onemovie"
   ]
  },
  {
   "cell_type": "code",
   "execution_count": 25,
   "metadata": {
    "execution": {
     "iopub.execute_input": "2021-04-15T03:45:54.374104Z",
     "iopub.status.busy": "2021-04-15T03:45:54.373097Z",
     "iopub.status.idle": "2021-04-15T03:45:54.376749Z",
     "shell.execute_reply": "2021-04-15T03:45:54.377296Z"
    }
   },
   "outputs": [
    {
     "data": {
      "text/plain": [
       "['Hopeful Notes',\n",
       " 'The Moving on Phase',\n",
       " 'As I Am',\n",
       " 'The Shawshank Redemption',\n",
       " 'Love in Kilnerry']"
      ]
     },
     "execution_count": 1,
     "metadata": {},
     "output_type": "execute_result"
    }
   ],
   "source": [
    "#q19\n",
    "movie_rates={}\n",
    "for movie in listofmovies:\n",
    "    movie_rates[movie['title']]=movie['rating']\n",
    "    \n",
    "list(dict(sorted(movie_rates.items(),key = lambda x:x[1])))[-5:][::-1]"
   ]
  },
  {
   "cell_type": "code",
   "execution_count": 26,
   "metadata": {
    "execution": {
     "iopub.execute_input": "2021-04-15T03:45:54.413445Z",
     "iopub.status.busy": "2021-04-15T03:45:54.412483Z",
     "iopub.status.idle": "2021-04-15T03:45:54.415742Z",
     "shell.execute_reply": "2021-04-15T03:45:54.416296Z"
    }
   },
   "outputs": [
    {
     "data": {
      "text/plain": [
       "['A Moment of Youth',\n",
       " 'Proud American',\n",
       " 'The Time Machine (I Found at a Yardsale)',\n",
       " 'Troy: The Resurrection of Aeneas',\n",
       " 'Browncoats: Independence War',\n",
       " 'C Me Dance',\n",
       " 'Cries of the Unborn',\n",
       " 'Captain Battle: Legacy War',\n",
       " 'Greyhound Attack',\n",
       " 'The Maize 2: Forever Yours',\n",
       " 'The Round and Round',\n",
       " 'Fun in Balloon Land',\n",
       " 'Rollergator']"
      ]
     },
     "execution_count": 1,
     "metadata": {},
     "output_type": "execute_result"
    }
   ],
   "source": [
    "#q20\n",
    "list(dict(sorted(movie_rates.items(),key = lambda x:x[1])))[:13]"
   ]
  },
  {
   "cell_type": "code",
   "execution_count": null,
   "metadata": {},
   "outputs": [],
   "source": []
  }
 ],
 "metadata": {
  "kernelspec": {
   "display_name": "Python 3",
   "language": "python",
   "name": "python3"
  },
  "language_info": {
   "codemirror_mode": {
    "name": "ipython",
    "version": 3
   },
   "file_extension": ".py",
   "mimetype": "text/x-python",
   "name": "python",
   "nbconvert_exporter": "python",
   "pygments_lexer": "ipython3",
   "version": "3.8.5"
  }
 },
 "nbformat": 4,
 "nbformat_minor": 4
}
