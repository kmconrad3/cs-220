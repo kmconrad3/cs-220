{
 "cells": [
  {
   "cell_type": "code",
   "execution_count": 2,
   "id": "missing-pharmacology",
   "metadata": {},
   "outputs": [],
   "source": [
    "import os, json, csv"
   ]
  },
  {
   "cell_type": "code",
   "execution_count": 2,
   "id": "composed-edmonton",
   "metadata": {},
   "outputs": [
    {
     "data": {
      "text/plain": [
       "['Main.ipynb', 'fruit', '.ipynb_checkpoints']"
      ]
     },
     "execution_count": 2,
     "metadata": {},
     "output_type": "execute_result"
    }
   ],
   "source": [
    "#the period parameter referes to the current directory\n",
    "os.listdir(\".\")"
   ]
  },
  {
   "cell_type": "code",
   "execution_count": 3,
   "id": "historic-genome",
   "metadata": {},
   "outputs": [
    {
     "name": "stdout",
     "output_type": "stream",
     "text": [
      "tried to create fruit, but it already existed\n"
     ]
    }
   ],
   "source": [
    "#option 1 to avoid fail of mkdir that already exists\n",
    "try:\n",
    "    os.mkdir(\"fruit\")\n",
    "except FileExistsError:\n",
    "    print(\"tried to create fruit, but it already existed\")"
   ]
  },
  {
   "cell_type": "code",
   "execution_count": 4,
   "id": "aware-dairy",
   "metadata": {},
   "outputs": [
    {
     "name": "stdout",
     "output_type": "stream",
     "text": [
      "did not try to create fruit because it already existed\n"
     ]
    }
   ],
   "source": [
    "#option 2\n",
    "if not os.path.exists(\"fruit\"):\n",
    "    os.mkdir(\"fruit\")\n",
    "else:\n",
    "    print(\"did not try to create fruit because it already existed\")"
   ]
  },
  {
   "cell_type": "code",
   "execution_count": 5,
   "id": "fatal-unknown",
   "metadata": {},
   "outputs": [
    {
     "data": {
      "text/plain": [
       "'fruit/apple.txt'"
      ]
     },
     "execution_count": 5,
     "metadata": {},
     "output_type": "execute_result"
    }
   ],
   "source": [
    "#create a path\n",
    "path = os.path.join(\"fruit\", \"apple.txt\")\n",
    "path"
   ]
  },
  {
   "cell_type": "code",
   "execution_count": 6,
   "id": "loving-bowling",
   "metadata": {},
   "outputs": [],
   "source": [
    "#create a file in path\n",
    "f = open(path, \"w\", encoding=\"utf-8\")\n",
    "f.write(\"apples are red\\n\")\n",
    "f.close()"
   ]
  },
  {
   "cell_type": "code",
   "execution_count": 15,
   "id": "automatic-architect",
   "metadata": {},
   "outputs": [],
   "source": [
    "path = os.path.join(\"fruit\", \"banana.txt\")\n",
    "\n",
    "f = open(path, \"w\", encoding=\"utf-8\")\n",
    "f.write(\"bananas are yellow\\n\")\n",
    "f.close()"
   ]
  },
  {
   "cell_type": "code",
   "execution_count": 16,
   "id": "romantic-granny",
   "metadata": {},
   "outputs": [],
   "source": [
    "path = os.path.join(\"fruit\", \"orange.txt\")\n",
    "\n",
    "f = open(path, \"w\", encoding=\"utf-8\")\n",
    "f.write(\"oranges are orange\\n\")\n",
    "f.close()"
   ]
  },
  {
   "cell_type": "code",
   "execution_count": 17,
   "id": "responsible-retailer",
   "metadata": {},
   "outputs": [
    {
     "data": {
      "text/plain": [
       "['banana.txt', 'apple.txt', 'orange.txt']"
      ]
     },
     "execution_count": 17,
     "metadata": {},
     "output_type": "execute_result"
    }
   ],
   "source": [
    "#list whats in the path\n",
    "os.listdir(\"fruit\")"
   ]
  },
  {
   "cell_type": "code",
   "execution_count": 24,
   "id": "sexual-acquisition",
   "metadata": {},
   "outputs": [
    {
     "data": {
      "text/plain": [
       "'apples are red\\n'"
      ]
     },
     "execution_count": 24,
     "metadata": {},
     "output_type": "execute_result"
    }
   ],
   "source": [
    "def fruit_message(name):\n",
    "    try:\n",
    "        f = open(os.path.join(\"fruit\", name+\".txt\"), encoding=\"utf-8\")\n",
    "    except FileNotFoundError:\n",
    "        return \"bad fruit\"\n",
    "    msg = f.read()\n",
    "    f.close()\n",
    "    return msg\n",
    "\n",
    "fruit_message(\"apple\")"
   ]
  },
  {
   "cell_type": "code",
   "execution_count": 25,
   "id": "round-bookmark",
   "metadata": {},
   "outputs": [
    {
     "data": {
      "text/plain": [
       "'bad fruit'"
      ]
     },
     "execution_count": 25,
     "metadata": {},
     "output_type": "execute_result"
    }
   ],
   "source": [
    "fruit_message(\"mango\")"
   ]
  },
  {
   "cell_type": "code",
   "execution_count": 29,
   "id": "valid-distribution",
   "metadata": {},
   "outputs": [
    {
     "name": "stdout",
     "output_type": "stream",
     "text": [
      "Python structs: [{'name': 'apple', 'count': 50, 'tasty': True}, {'name': 'watermelon', 'count': 60, 'tasty': False}, {'name': 'kiwi', 'count': 55, 'tasty': True}]\n",
      "JSON string: [{\"name\": \"apple\", \"count\": 50, \"tasty\": true}, {\"name\": \"watermelon\", \"count\": 60, \"tasty\": false}, {\"name\": \"kiwi\", \"count\": 55, \"tasty\": true}]\n"
     ]
    }
   ],
   "source": [
    "#python structures\n",
    "fruits = [\n",
    "    {\"name\": \"apple\", \"count\": 50, \"tasty\": True},\n",
    "    {\"name\": \"watermelon\", \"count\": 60, \"tasty\": False},\n",
    "    {\"name\": \"kiwi\", \"count\": 55, \"tasty\": True},\n",
    "]\n",
    "print(\"Python structs:\", fruits)\n",
    "\n",
    "#JSON string\n",
    "json_str = json.dumps(fruits)\n",
    "print(\"JSON string:\", json_str)\n",
    "\n",
    "#save to file\n",
    "f = open(os.path.join(\"fruit\", \"summary.json\"), \"w\", encoding=\"utf-8\")\n",
    "f.write(json_str)\n",
    "f.close()"
   ]
  },
  {
   "cell_type": "code",
   "execution_count": 32,
   "id": "numerous-journalism",
   "metadata": {},
   "outputs": [
    {
     "name": "stdout",
     "output_type": "stream",
     "text": [
      "Python structs: [{'name': 'mango', 'count': 70, 'tasty': True}, {'name': 'peach', 'count': 40, 'tasty': True}, {'name': 'cherry', 'count': 55, 'tasty': True}]\n"
     ]
    }
   ],
   "source": [
    "#my python structures\n",
    "fruits = [\n",
    "    {\"name\": \"mango\", \"count\": 70, \"tasty\": True},\n",
    "    {\"name\": \"peach\", \"count\": 40, \"tasty\": True},\n",
    "    {\"name\": \"cherry\", \"count\": 55, \"tasty\": True},\n",
    "]\n",
    "print(\"Python structs:\", fruits)\n",
    "\n",
    "#save to file\n",
    "f = open(os.path.join(\"fruit\", \"fruit.json\"), \"w\", encoding=\"utf-8\")\n",
    "json.dump(fruits, f) #combines json_str=json.dumps(fruits) and f.write(json_str) calls from above\n",
    "f.close()"
   ]
  },
  {
   "cell_type": "code",
   "execution_count": 5,
   "id": "cutting-mills",
   "metadata": {},
   "outputs": [
    {
     "name": "stdout",
     "output_type": "stream",
     "text": [
      "[{'name': 'apple', 'count': 50, 'tasty': True}, {'name': 'watermelon', 'count': 60, 'tasty': False}, {'name': 'kiwi', 'count': 55, 'tasty': True}]\n"
     ]
    }
   ],
   "source": [
    "#reading data\n",
    "f = open(os.path.join(\"fruit\", \"summary.json\"), encoding=\"utf-8\")\n",
    "json_str = f.read()\n",
    "f.close()\n",
    "\n",
    "data = json.loads(json_str)\n",
    "print(data)\n",
    "\n",
    "#data=json.load(f) would be a shortcut for f.read and json.loads"
   ]
  },
  {
   "cell_type": "code",
   "execution_count": 34,
   "id": "generous-express",
   "metadata": {},
   "outputs": [],
   "source": [
    "#make CSV files\n",
    "f = open(os.path.join(\"fruit\", \"good.csv\"), \"w\", encoding=\"utf-8\")\n",
    "f.write(\"fruit,count\\n\")\n",
    "f.write(\"apple,10\\n\")\n",
    "f.write(\"banana,3\\n\")\n",
    "f.write(\"orange,0\\n\")\n",
    "f.close()\n",
    "\n",
    "f = open(os.path.join(\"fruit\", \"rotten.csv\"), \"w\", encoding=\"utf-8\")\n",
    "f.write(\"fruit,count\\n\")\n",
    "f.write(\"apple,10\\n\")\n",
    "f.write(\"banana,3\\n\")\n",
    "f.write(\"orange\\n\")\n",
    "f.close()"
   ]
  },
  {
   "cell_type": "code",
   "execution_count": 35,
   "id": "imperial-credits",
   "metadata": {},
   "outputs": [
    {
     "name": "stdout",
     "output_type": "stream",
     "text": [
      "{'fruit': 'apple', 'count': '10'}\n",
      "{'fruit': 'banana', 'count': '3'}\n",
      "{'fruit': 'orange', 'count': '0'}\n"
     ]
    }
   ],
   "source": [
    "f = open(os.path.join(\"fruit\", \"good.csv\"), encoding=\"utf-8\")\n",
    "reader = csv.DictReader(f)\n",
    "for row in reader:\n",
    "    print(row)\n",
    "f.close()"
   ]
  },
  {
   "cell_type": "code",
   "execution_count": 37,
   "id": "fossil-pizza",
   "metadata": {},
   "outputs": [
    {
     "name": "stdout",
     "output_type": "stream",
     "text": [
      "apple 10\n",
      "banana 3\n",
      "orange None\n"
     ]
    }
   ],
   "source": [
    "f = open(os.path.join(\"fruit\", \"rotten.csv\"), encoding=\"utf-8\")\n",
    "reader = csv.DictReader(f)\n",
    "for row in reader:\n",
    "    print(row[\"fruit\"], row[\"count\"])\n",
    "f.close()"
   ]
  },
  {
   "cell_type": "code",
   "execution_count": null,
   "id": "practical-intranet",
   "metadata": {},
   "outputs": [],
   "source": []
  }
 ],
 "metadata": {
  "kernelspec": {
   "display_name": "Python 3",
   "language": "python",
   "name": "python3"
  },
  "language_info": {
   "codemirror_mode": {
    "name": "ipython",
    "version": 3
   },
   "file_extension": ".py",
   "mimetype": "text/x-python",
   "name": "python",
   "nbconvert_exporter": "python",
   "pygments_lexer": "ipython3",
   "version": "3.8.5"
  }
 },
 "nbformat": 4,
 "nbformat_minor": 5
}
