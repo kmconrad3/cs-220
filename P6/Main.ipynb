{
 "cells": [
  {
   "cell_type": "code",
   "execution_count": 1,
   "metadata": {},
   "outputs": [],
   "source": [
    "# project: p6\n",
    "# submitter: Kmconrad3\n",
    "# partner: Akroubal\n",
    "# hours: 5"
   ]
  },
  {
   "cell_type": "code",
   "execution_count": 2,
   "metadata": {},
   "outputs": [],
   "source": [
    "import csv\n",
    "\n",
    "def process_csv(filename):\n",
    "    exampleFile = open(filename, encoding=\"utf-8\")\n",
    "    exampleReader = csv.reader(exampleFile)\n",
    "    exampleData = list(exampleReader)\n",
    "    exampleFile.close()\n",
    "    return exampleData\n",
    "\n",
    "#use process_csv to pull out the header and data rows\n",
    "csv_rows = process_csv(\"airbnb.csv\")\n",
    "csv_header = csv_rows[0]\n",
    "csv_data = csv_rows[1:]"
   ]
  },
  {
   "cell_type": "code",
   "execution_count": 3,
   "metadata": {},
   "outputs": [],
   "source": [
    "def cell(row_idx, col_name):\n",
    "    col_idx = csv_header.index(col_name)\n",
    "    val = csv_data[row_idx][col_idx]\n",
    "    if col_name == 'price':\n",
    "        return int(val)\n",
    "    if col_name == 'latitude':\n",
    "        return float(val)\n",
    "    if val == \"\":\n",
    "        return None\n",
    "    return val"
   ]
  },
  {
   "cell_type": "code",
   "execution_count": 4,
   "metadata": {},
   "outputs": [
    {
     "data": {
      "text/plain": [
       "['Entire home/apt', 'Shared room', 'Private room']"
      ]
     },
     "execution_count": 4,
     "metadata": {},
     "output_type": "execute_result"
    }
   ],
   "source": [
    "#q1\n",
    "keep = []\n",
    "i=0\n",
    "for row_idx in csv_data:\n",
    "    if cell(i,'room_type')==keep:\n",
    "        i+=1\n",
    "        continue\n",
    "    elif cell(i,'room_type'):\n",
    "        keep.append(cell(i,'room_type'))\n",
    "        i+=1\n",
    "\n",
    "list(set(keep))"
   ]
  },
  {
   "cell_type": "code",
   "execution_count": 5,
   "metadata": {},
   "outputs": [
    {
     "data": {
      "text/plain": [
       "152.721"
      ]
     },
     "execution_count": 5,
     "metadata": {},
     "output_type": "execute_result"
    }
   ],
   "source": [
    "#q2\n",
    "def avgprice():\n",
    "    i=0\n",
    "    totalprice=0\n",
    "    for price in csv_data:\n",
    "        totalprice =+ totalprice + cell(i,'price')\n",
    "        i+=1\n",
    "    return round((totalprice/i),3)\n",
    "\n",
    "avgprice()"
   ]
  },
  {
   "cell_type": "code",
   "execution_count": 6,
   "metadata": {},
   "outputs": [
    {
     "data": {
      "text/plain": [
       "70"
      ]
     },
     "execution_count": 6,
     "metadata": {},
     "output_type": "execute_result"
    }
   ],
   "source": [
    "#q3\n",
    "def howmanyinneigh(word):\n",
    "    i=0\n",
    "    rooms=0\n",
    "    for neighborhood in csv_data:\n",
    "        if cell(i,'neighborhood').lower()==word.lower():\n",
    "            rooms +=1 \n",
    "            i += 1\n",
    "        else:\n",
    "            i += 1\n",
    "            continue\n",
    "    return rooms\n",
    "\n",
    "howmanyinneigh('Kingsbridge')"
   ]
  },
  {
   "cell_type": "code",
   "execution_count": 29,
   "metadata": {},
   "outputs": [
    {
     "data": {
      "text/plain": [
       "['Superbowl - NYC Apartment',\n",
       " 'SUPERBOWLSUNDAY! 3BLOCK FROM TIMESQ',\n",
       " 'NYC SuperBowl Wk 5 Bdrs River View ',\n",
       " 'Superbowl in the West Village',\n",
       " '1BR Superbowl rental Hells Kitchen',\n",
       " 'SUPERBOWL!! 2 Bd, 2 Ba w Roof Deck!',\n",
       " 'Super Apt for Superbowl',\n",
       " 'MANHATTAN SUPERBOWL ACCOMODATION',\n",
       " 'Superbowl Studio Upper West Side',\n",
       " '1500 sq ft apt sleeps 8 - SuperBowl',\n",
       " 'Tribeca Loft for Superbowl Wknd',\n",
       " 'SuperBowl West Village Apartment',\n",
       " 'SuperBowl Penthouse Loft 3,000 sqft',\n",
       " 'Downtown NY Apt - SuperBowl Weekend',\n",
       " 'PERFECT SUPERBOWL STAY',\n",
       " 'UWS MANHATTAN APT FOR SUPERBOWL WE',\n",
       " 'SuperBowl Weekend Rental! 3 BR/1ba']"
      ]
     },
     "execution_count": 29,
     "metadata": {},
     "output_type": "execute_result"
    }
   ],
   "source": [
    "#q4\n",
    "def names(word,word2=False):\n",
    "    i=0\n",
    "    keep=[]\n",
    "    for names in csv_data:\n",
    "        strhold=str((cell(i,'name'))).lower()\n",
    "        if word2==False:\n",
    "            if strhold.find(word.lower())>-1:\n",
    "                keep.append(cell(i,'name'))\n",
    "                i+=1\n",
    "            else:\n",
    "                i+=1\n",
    "                continue\n",
    "        else:\n",
    "            if (strhold.find(word.lower())>-1) or (strhold.find(word2.lower())>-1):\n",
    "                keep.append(cell(i,'name'))\n",
    "                i+=1\n",
    "            else:\n",
    "                i+=1\n",
    "                continue\n",
    "    return list(set(keep))\n",
    "\n",
    "names('Superbowl')"
   ]
  },
  {
   "cell_type": "code",
   "execution_count": 8,
   "metadata": {},
   "outputs": [
    {
     "data": {
      "text/plain": [
       "['Private Bedroom in MANHATTAN (Free Wifi)',\n",
       " 'Explore NYC From Our Private Studio w/Free Wifi',\n",
       " 'Coney Island MCU Park Wi fi Cable Apt****',\n",
       " 'Newly renovated 2 bedroom with FREE WIFI',\n",
       " 'J- COZY ROOM FOR 1 FEMALE FREE WIFI & COFFEE',\n",
       " 'Cable and wfi, L/G included.',\n",
       " 'BIG BEDROOM CLOSE TO LA GUARDIA AIRPORT FREE WIFI',\n",
       " 'Sunny Hudson Yards/ Chelsea Studio, Free WiFi',\n",
       " 'Historic Turret Retreat (Smart TV/Cable/Wifi)',\n",
       " 'Luxury condo- private room + bath w cable TV/W/D',\n",
       " 'J- **LUXURY SHARED ROOM 2PPL FREE WIFI+CABLE+AC',\n",
       " 'Coney Island  Amphitheat  MCU 1 br  Wifi Cable **',\n",
       " 'One Bedroom Mini studio - Free WIFI',\n",
       " 'J- LUXURY SHARED ROOM, AC FREE WIFI+CABLE GARDEN',\n",
       " 'Great Chelsea Location, Couch/2nd bed, Free WiFi',\n",
       " 'Modern and Safe Place,Free Wifi',\n",
       " 'ROOM AC WI-FI PARKING CABLE FOR 2',\n",
       " 'Huge 1bdrm w pt Doorman, WiFi/Cable, Bottled Water',\n",
       " 'PRIVATE 1BR APT: Free WIFI & DIRECT TV',\n",
       " 'J- HOTEL STYLE SHARE ROOM FOR 2PPL FREE WIFI CABLE',\n",
       " 'Private Studio: Landmark Dt (Smart TV/Wifi/Cable)',\n",
       " '5min walk to L train - Free WiFi & Cleaning',\n",
       " '2Bed/ 2Bath Impeccable Stylish Brooklyn Home',\n",
       " '1 bedroom furnished with WIFI and cable. Murr Hill',\n",
       " 'J- *LUXURY SHARED ROOM AC FREE WIFI CABLE, GARDEN',\n",
       " 'Landmark 1 Bedroom has 2 beds, Free WiFi',\n",
       " 'J- HOTEL STYLE SHARE ROOM FOR 2PPL FREE CABLE WIFI',\n",
       " '*NO GUEST SERVICE FEE* Beekman Tower Studio with Queen Bed & Free Wifi',\n",
       " 'Pvt entrance lower level apt w/cable-wi-fi pvt bth',\n",
       " 'Tudor Studio (Wifi/Premium Cable) w Private Entry',\n",
       " 'Private 2 BR APT: Free WIFI & JACUZZI',\n",
       " 'Cozy, impeccable, sunlit West Village studio',\n",
       " 'Staten Island - Free Wifi, Parking Space, Near NYC',\n",
       " 'Cozy,budget friendly, cable inc, private entrance!',\n",
       " 'Impeccable Private one&half bedroom and full bath',\n",
       " '*NO GUEST SERVICE FEE* Beekman Tower One Bedroom Suite with Queen Bed & Free Wifi']"
      ]
     },
     "execution_count": 8,
     "metadata": {},
     "output_type": "execute_result"
    }
   ],
   "source": [
    "#q5\n",
    "names('free wifi','cable')"
   ]
  },
  {
   "cell_type": "code",
   "execution_count": 9,
   "metadata": {},
   "outputs": [
    {
     "data": {
      "text/plain": [
       "['Orlando', 'Ronaldo', 'Rolando']"
      ]
     },
     "execution_count": 9,
     "metadata": {},
     "output_type": "execute_result"
    }
   ],
   "source": [
    "#q6\n",
    "def anagram(word):\n",
    "    i=0\n",
    "    keep=[]\n",
    "    for host_names in csv_data:\n",
    "        strhold=str(cell(i,'host_name')).lower()\n",
    "        if sorted(list(word.lower()))==sorted(list(strhold)):\n",
    "            keep.append(cell(i,'host_name'))\n",
    "            i+=1\n",
    "        else:\n",
    "            i+=1\n",
    "            continue\n",
    "    return list(set(keep))\n",
    "\n",
    "anagram('loondar')"
   ]
  },
  {
   "cell_type": "code",
   "execution_count": 10,
   "metadata": {},
   "outputs": [
    {
     "data": {
      "text/plain": [
       "['20990053',\n",
       " '35834935',\n",
       " '30378211',\n",
       " '8668115',\n",
       " '4204302',\n",
       " '5431845',\n",
       " '1615764',\n",
       " '10053943',\n",
       " '27362309',\n",
       " '12888849',\n",
       " '11096888',\n",
       " '568684',\n",
       " '6169897',\n",
       " '8341919']"
      ]
     },
     "execution_count": 10,
     "metadata": {},
     "output_type": "execute_result"
    }
   ],
   "source": [
    "#q7\n",
    "keep=[]\n",
    "i=0\n",
    "for minnights in csv_data:\n",
    "    if (int(cell(i,'minimum_nights')))>365:\n",
    "        keep.append(cell(i,'room_id'))\n",
    "        i+=1\n",
    "    else:\n",
    "        i+=1\n",
    "        continue\n",
    "        \n",
    "list(set(keep))"
   ]
  },
  {
   "cell_type": "code",
   "execution_count": 11,
   "metadata": {},
   "outputs": [
    {
     "data": {
      "text/plain": [
       "['30283594',\n",
       " '107434423',\n",
       " '200380610',\n",
       " '12243051',\n",
       " '61391963',\n",
       " '22541573',\n",
       " '1475015',\n",
       " '219517861',\n",
       " '16098958',\n",
       " '137358866',\n",
       " '7503643']"
      ]
     },
     "execution_count": 11,
     "metadata": {},
     "output_type": "execute_result"
    }
   ],
   "source": [
    "#q8\n",
    "keep=[]\n",
    "i=0\n",
    "for minnights in csv_data:\n",
    "    if int(cell(i,'calculated_host_listings_count'))>50:\n",
    "        keep.append(cell(i,'host_id'))\n",
    "        i+=1\n",
    "    else:\n",
    "        i+=1\n",
    "        continue\n",
    "        \n",
    "list(set(keep))"
   ]
  },
  {
   "cell_type": "code",
   "execution_count": 12,
   "metadata": {},
   "outputs": [
    {
     "data": {
      "text/plain": [
       "2.372"
      ]
     },
     "execution_count": 12,
     "metadata": {},
     "output_type": "execute_result"
    }
   ],
   "source": [
    "#q9\n",
    "totalrooms=0\n",
    "i=0\n",
    "for percentshared in csv_data:\n",
    "    if cell(i,'room_type')=='Shared room':\n",
    "        totalrooms+=1\n",
    "        i+=1\n",
    "    else:\n",
    "        i+=1\n",
    "        continue\n",
    "        \n",
    "round(((totalrooms/i)*100),3)"
   ]
  },
  {
   "cell_type": "code",
   "execution_count": 13,
   "metadata": {},
   "outputs": [
    {
     "data": {
      "text/plain": [
       "['Spacious comfortable master bedroom with nice view',\n",
       " 'MARTIAL LOFT 3: REDEMPTION (upstairs, 2nd room)',\n",
       " 'Huge Brooklyn Brownstone Living, Close to it all.',\n",
       " 'Contemporary bedroom in brownstone with nice view',\n",
       " 'Best Coliving space ever! Shared room.',\n",
       " 'Coliving in Brooklyn! Modern design / Shared room',\n",
       " 'Cozy yet spacious private brownstone bedroom',\n",
       " 'Sunny, Quiet Room in Greenpoint',\n",
       " 'Modern apartment in the heart of Williamsburg']"
      ]
     },
     "execution_count": 13,
     "metadata": {},
     "output_type": "execute_result"
    }
   ],
   "source": [
    "#q10\n",
    "def cheapestroom(name):\n",
    "    keep=None\n",
    "    lol=[]\n",
    "    for prices in range(len(csv_data)):\n",
    "        if cell(prices,'neighborhood_group')!=name:\n",
    "            continue\n",
    "        if keep==None or cell(prices,'price')<keep:\n",
    "                keep=cell(prices,'price')\n",
    "                lol=[cell(prices,'name')]\n",
    "        if cell(prices,'price')==keep:\n",
    "                lol.append(cell(prices,'name'))\n",
    "    return list(set(lol))\n",
    "\n",
    "cheapestroom('Brooklyn')         "
   ]
  },
  {
   "cell_type": "code",
   "execution_count": 14,
   "metadata": {},
   "outputs": [
    {
     "data": {
      "text/plain": [
       "['the best you can find']"
      ]
     },
     "execution_count": 14,
     "metadata": {},
     "output_type": "execute_result"
    }
   ],
   "source": [
    "#q11\n",
    "cheapestroom('Manhattan')"
   ]
  },
  {
   "cell_type": "code",
   "execution_count": 15,
   "metadata": {},
   "outputs": [
    {
     "data": {
      "text/plain": [
       "1.022"
      ]
     },
     "execution_count": 15,
     "metadata": {},
     "output_type": "execute_result"
    }
   ],
   "source": [
    "#q12\n",
    "total=0\n",
    "i=0\n",
    "for perc in range(len(csv_data)):\n",
    "    if int(cell(perc,'availability_365'))>0:\n",
    "        total+=((int(cell(perc,'number_of_reviews')))/(int(cell(perc,'availability_365'))))\n",
    "        i+=1\n",
    "    if int(cell(perc,'availability_365'))==0:\n",
    "        continue\n",
    "\n",
    "round(total/i,3)"
   ]
  },
  {
   "cell_type": "code",
   "execution_count": 16,
   "metadata": {},
   "outputs": [
    {
     "data": {
      "text/plain": [
       "['22463977']"
      ]
     },
     "execution_count": 16,
     "metadata": {},
     "output_type": "execute_result"
    }
   ],
   "source": [
    "#q13\n",
    "def highestreview(lalow,lahi,lolow,lohi):\n",
    "    keep=[]\n",
    "    keeep=[] \n",
    "    done=[]\n",
    "    max=0\n",
    "    for review in range(len(csv_data)):\n",
    "        if (cell(review,'reviews_per_month')!=None):\n",
    "            if (float(cell(review,'latitude'))<=lahi):\n",
    "                if (float(cell(review,'longitude'))>=lolow):\n",
    "                    if (float(cell(review,'longitude'))<=lohi):\n",
    "                        if (float(cell(review,'latitude'))>=lalow):\n",
    "                            keep.append((cell(review,'room_id')))\n",
    "                            keeep.append(float(cell(review,'reviews_per_month')))\n",
    "    for review in keeep:\n",
    "        if review>max:\n",
    "            max=review\n",
    "    for review in range(len(keep)):\n",
    "        if keeep[review]==max:\n",
    "            done.append(keep[review])\n",
    "    return done\n",
    "\n",
    "highestreview(40.5,40.75,-74.00,-73.95)"
   ]
  },
  {
   "cell_type": "code",
   "execution_count": 17,
   "metadata": {},
   "outputs": [
    {
     "data": {
      "text/plain": [
       "['16276632']"
      ]
     },
     "execution_count": 17,
     "metadata": {},
     "output_type": "execute_result"
    }
   ],
   "source": [
    "#q14\n",
    "highestreview(40.75,41.00,-73.95,-73.85)"
   ]
  },
  {
   "cell_type": "code",
   "execution_count": 18,
   "metadata": {},
   "outputs": [
    {
     "data": {
      "text/plain": [
       "['32363', '59121', '479285', '679633', '766964']"
      ]
     },
     "execution_count": 18,
     "metadata": {},
     "output_type": "execute_result"
    }
   ],
   "source": [
    "#q15\n",
    "meow=[]\n",
    "for j in range(len(csv_data)):\n",
    "    if cell(j,'last_review')!=None:\n",
    "        x=int(cell(j,'last_review')[0:4])\n",
    "        if cell(j,'neighborhood_group')=='Queens':\n",
    "            if x<=2013:\n",
    "                meow.append(cell(j,'room_id'))\n",
    "\n",
    "meow"
   ]
  },
  {
   "cell_type": "code",
   "execution_count": 19,
   "metadata": {},
   "outputs": [
    {
     "data": {
      "text/plain": [
       "105.515"
      ]
     },
     "execution_count": 19,
     "metadata": {},
     "output_type": "execute_result"
    }
   ],
   "source": [
    "#q16\n",
    "i=0\n",
    "total=0\n",
    "for j in range(len(csv_data)):\n",
    "    if int(cell(j,'number_of_reviews'))>300:\n",
    "        i+=1\n",
    "        total+=int(cell(j,'price'))\n",
    "        \n",
    "round((total/i),3)     "
   ]
  },
  {
   "cell_type": "code",
   "execution_count": 20,
   "metadata": {},
   "outputs": [
    {
     "data": {
      "text/plain": [
       "6.41"
      ]
     },
     "execution_count": 20,
     "metadata": {},
     "output_type": "execute_result"
    }
   ],
   "source": [
    "#q17\n",
    "i=0\n",
    "total=0\n",
    "for j in range(len(csv_data)):\n",
    "    if int(cell(j,'price'))>1000:\n",
    "        i+=1\n",
    "        total+=int(cell(j,'number_of_reviews'))\n",
    "        \n",
    "round((total/i),3)"
   ]
  },
  {
   "cell_type": "code",
   "execution_count": 37,
   "metadata": {},
   "outputs": [
    {
     "data": {
      "text/plain": [
       "30.57"
      ]
     },
     "execution_count": 37,
     "metadata": {},
     "output_type": "execute_result"
    }
   ],
   "source": [
    "#q18\n",
    "def namestwo(word,word2=False):\n",
    "    i=0\n",
    "    keep=[]\n",
    "    for names in csv_data:\n",
    "        strhold=str((cell(i,'name'))).lower()\n",
    "        if word2==False:\n",
    "            if strhold.find(word.lower())>-1:\n",
    "                keep.append(cell(i,'name'))\n",
    "                i+=1\n",
    "            else:\n",
    "                i+=1\n",
    "                continue\n",
    "        else:\n",
    "            if (strhold.find(word.lower())>-1) and (strhold.find(word2.lower())>-1):\n",
    "                keep.append(cell(i,'name'))\n",
    "                i+=1\n",
    "            else:\n",
    "                i+=1\n",
    "                continue\n",
    "    return keep\n",
    "\n",
    "round(len(namestwo(\"sweet\",'home'))/len(namestwo('sweet'))*100,3)"
   ]
  },
  {
   "cell_type": "code",
   "execution_count": 38,
   "metadata": {},
   "outputs": [
    {
     "data": {
      "text/plain": [
       "48.921"
      ]
     },
     "execution_count": 38,
     "metadata": {},
     "output_type": "execute_result"
    }
   ],
   "source": [
    "#q19\n",
    "round(len(namestwo(\"pool\",'gym'))/len(namestwo(\"pool\"))*100,3)"
   ]
  },
  {
   "cell_type": "code",
   "execution_count": 49,
   "metadata": {},
   "outputs": [
    {
     "data": {
      "text/plain": [
       "180"
      ]
     },
     "execution_count": 49,
     "metadata": {},
     "output_type": "execute_result"
    }
   ],
   "source": [
    "#q20\n",
    "queen=None\n",
    "statenis=None\n",
    "for j in range(len(csv_data)):\n",
    "    if cell(j,'neighborhood_group')=='Queens':\n",
    "        if int(cell(j,'minimum_nights'))<=5:\n",
    "            if queen==None:\n",
    "                queen=cell(j,'price')\n",
    "            if cell(j,'price')<queen:\n",
    "                queen=cell(j,'price')\n",
    "                \n",
    "for k in range(len(csv_data)):\n",
    "    if cell(k,'neighborhood_group')=='Staten Island':\n",
    "        if int(cell(k,'minimum_nights'))<=10:\n",
    "            if statenis==None:\n",
    "                statenis=cell(k,'price')\n",
    "            if cell(k,'price')<statenis:\n",
    "                statenis=cell(k,'price')\n",
    "\n",
    "(statenis*10)+(queen*5)   "
   ]
  }
 ],
 "metadata": {
  "kernelspec": {
   "display_name": "Python 3",
   "language": "python",
   "name": "python3"
  },
  "language_info": {
   "codemirror_mode": {
    "name": "ipython",
    "version": 3
   },
   "file_extension": ".py",
   "mimetype": "text/x-python",
   "name": "python",
   "nbconvert_exporter": "python",
   "pygments_lexer": "ipython3",
   "version": "3.8.5"
  }
 },
 "nbformat": 4,
 "nbformat_minor": 4
}
