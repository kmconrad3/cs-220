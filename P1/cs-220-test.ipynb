{
 "cells": [
  {
   "cell_type": "code",
   "execution_count": 1,
   "metadata": {
    "execution": {
     "iopub.execute_input": "2021-01-26T19:56:28.326503Z",
     "iopub.status.busy": "2021-01-26T19:56:28.325580Z",
     "iopub.status.idle": "2021-01-26T19:56:28.329007Z",
     "shell.execute_reply": "2021-01-26T19:56:28.329738Z"
    }
   },
   "outputs": [
    {
     "data": {
      "text/plain": [
       "'Hello World!'"
      ]
     },
     "execution_count": 1,
     "metadata": {},
     "output_type": "execute_result"
    }
   ],
   "source": [
    "#q1\n",
    "name = \"World\"\n",
    "\"Hello \" + name + \"!\""
   ]
  },
  {
   "cell_type": "code",
   "execution_count": 2,
   "metadata": {
    "execution": {
     "iopub.execute_input": "2021-01-26T19:56:28.334519Z",
     "iopub.status.busy": "2021-01-26T19:56:28.333658Z",
     "iopub.status.idle": "2021-01-26T19:56:28.336644Z",
     "shell.execute_reply": "2021-01-26T19:56:28.337431Z"
    }
   },
   "outputs": [
    {
     "data": {
      "text/plain": [
       "28080"
      ]
     },
     "execution_count": 1,
     "metadata": {},
     "output_type": "execute_result"
    }
   ],
   "source": [
    "#q2\n",
    "432*65"
   ]
  },
  {
   "cell_type": "code",
   "execution_count": 3,
   "metadata": {
    "execution": {
     "iopub.execute_input": "2021-01-26T19:56:28.342033Z",
     "iopub.status.busy": "2021-01-26T19:56:28.341231Z",
     "iopub.status.idle": "2021-01-26T19:56:28.343410Z",
     "shell.execute_reply": "2021-01-26T19:56:28.344115Z"
    }
   },
   "outputs": [],
   "source": [
    "# project: p1\n",
    "# submitter: kmconrad3\n",
    "# partner: none\n",
    "# hours: 0.5"
   ]
  }
 ],
 "metadata": {
  "kernelspec": {
   "display_name": "Python 3",
   "language": "python",
   "name": "python3"
  },
  "language_info": {
   "codemirror_mode": {
    "name": "ipython",
    "version": 3
   },
   "file_extension": ".py",
   "mimetype": "text/x-python",
   "name": "python",
   "nbconvert_exporter": "python",
   "pygments_lexer": "ipython3",
   "version": "3.8.5"
  }
 },
 "nbformat": 4,
 "nbformat_minor": 4
}
