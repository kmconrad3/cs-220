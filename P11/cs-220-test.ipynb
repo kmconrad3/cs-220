{
 "cells": [
  {
   "cell_type": "code",
   "execution_count": 1,
   "metadata": {
    "execution": {
     "iopub.execute_input": "2021-04-14T04:16:47.992449Z",
     "iopub.status.busy": "2021-04-14T04:16:47.991051Z",
     "iopub.status.idle": "2021-04-14T04:16:47.994047Z",
     "shell.execute_reply": "2021-04-14T04:16:47.994570Z"
    }
   },
   "outputs": [],
   "source": [
    "# project: p11\n",
    "# submitter: Kmconrad3\n",
    "# partner: Akroubal\n",
    "# hours: 7"
   ]
  },
  {
   "cell_type": "code",
   "execution_count": 2,
   "metadata": {
    "execution": {
     "iopub.execute_input": "2021-04-14T04:16:47.999580Z",
     "iopub.status.busy": "2021-04-14T04:16:47.998643Z",
     "iopub.status.idle": "2021-04-14T04:16:48.330057Z",
     "shell.execute_reply": "2021-04-14T04:16:48.330609Z"
    }
   },
   "outputs": [],
   "source": [
    "import os, json, csv\n",
    "\n",
    "import pandas as pd\n",
    "\n",
    "from collections import namedtuple"
   ]
  },
  {
   "cell_type": "code",
   "execution_count": 3,
   "metadata": {
    "execution": {
     "iopub.execute_input": "2021-04-14T04:16:48.340440Z",
     "iopub.status.busy": "2021-04-14T04:16:48.339209Z",
     "iopub.status.idle": "2021-04-14T04:16:48.342167Z",
     "shell.execute_reply": "2021-04-14T04:16:48.342941Z"
    }
   },
   "outputs": [],
   "source": [
    "def format_likes(like):\n",
    "    if str(like).lower().find('k')>-1:\n",
    "        like=like[:-1]\n",
    "        return float(like)*1000\n",
    "    elif str(like).lower().find('m')>-1:\n",
    "        like=like[:-1]\n",
    "        return float(like)*1000000\n",
    "    else:\n",
    "        return like\n",
    "\n",
    "def scatter(x, y, xlabel=\"please label me!\", ylabel=\"please label me!\"):\n",
    "    df = pd.DataFrame({\"x\":x, \"y\":y})\n",
    "    ax = df.plot.scatter(x=\"x\", y=\"y\", color=\"black\", fontsize=16, xlim=0, ylim=0)\n",
    "    ax.set_xlabel(xlabel, fontsize=16)\n",
    "    ax.set_ylabel(ylabel, fontsize=16)\n",
    "    ax.get_xaxis().get_major_formatter().set_scientific(False)\n",
    "    ax.get_yaxis().get_major_formatter().set_scientific(False)"
   ]
  },
  {
   "cell_type": "code",
   "execution_count": 4,
   "metadata": {
    "execution": {
     "iopub.execute_input": "2021-04-14T04:16:48.350479Z",
     "iopub.status.busy": "2021-04-14T04:16:48.349539Z",
     "iopub.status.idle": "2021-04-14T04:16:48.352262Z",
     "shell.execute_reply": "2021-04-14T04:16:48.352804Z"
    }
   },
   "outputs": [],
   "source": [
    "def process_csv(filename):\n",
    "    exampleFile = open(filename, encoding=\"utf-8\")\n",
    "    exampleReader = csv.reader(exampleFile)\n",
    "    exampleData = list(exampleReader)\n",
    "    exampleFile.close()\n",
    "    return exampleData\n",
    "\n",
    "def presenttweets(filename):\n",
    "    Tweet = namedtuple(\"Tweet\",['tweet_id', 'username', 'num_liked', 'length'])\n",
    "    tweets = []\n",
    "    for item in range(len(process_csv(filename))):\n",
    "        if item == 0:\n",
    "            continue\n",
    "        try:\n",
    "            tweets.append(Tweet((process_csv(filename)[item][0]),(process_csv(filename)[item][2]), int(process_csv(filename)[item][3]), ((len(process_csv(filename)[item][4])))))\n",
    "        except:\n",
    "            continue\n",
    "    return tweets"
   ]
  },
  {
   "cell_type": "code",
   "execution_count": 5,
   "metadata": {
    "execution": {
     "iopub.execute_input": "2021-04-14T04:16:48.361474Z",
     "iopub.status.busy": "2021-04-14T04:16:48.360696Z",
     "iopub.status.idle": "2021-04-14T04:16:48.532344Z",
     "shell.execute_reply": "2021-04-14T04:16:48.532970Z"
    }
   },
   "outputs": [],
   "source": [
    "def process_json(filename):\n",
    "    exampleFile = open(filename, encoding='utf-8')\n",
    "    data=json.load(exampleFile)\n",
    "    exampleFile.close()\n",
    "    return dict(data)\n",
    "\n",
    "def presenttweetsjson(filename):\n",
    "    Tweet = namedtuple(\"Tweet\",['tweet_id', 'username', 'num_liked', 'length'])\n",
    "    tweetz = []\n",
    "    try:\n",
    "        json_dict=process_json(filename)\n",
    "    except:\n",
    "        return tweetz\n",
    "    for item in json_dict:\n",
    "        if json_dict[item]['num_liked']=='unkown' or json_dict[item]['num_liked']=='unknown':\n",
    "            json_dict[item]['num_liked']=0\n",
    "        json_dict[item]['num_liked']=format_likes(json_dict[item]['num_liked'])\n",
    "        try:\n",
    "            tweetz.append(Tweet(item,json_dict[item]['username'], int(json_dict[item]['num_liked']), len(json_dict[item]['tweet_text'])))\n",
    "        except:\n",
    "            continue\n",
    "    return tweetz\n",
    "\n",
    "fulllist = (presenttweets('full_data/1.csv') + presenttweets('full_data/2.csv') + presenttweets('full_data/3.csv') + presenttweets('full_data/4.csv') + presenttweets('full_data/5.csv') + presenttweetsjson('full_data/1.json') + presenttweetsjson('full_data/2.json') + presenttweetsjson('full_data/3.json') + presenttweetsjson('full_data/4.json') + presenttweetsjson('full_data/5.json'))"
   ]
  },
  {
   "cell_type": "code",
   "execution_count": 6,
   "metadata": {
    "execution": {
     "iopub.execute_input": "2021-04-14T04:16:48.544457Z",
     "iopub.status.busy": "2021-04-14T04:16:48.543397Z",
     "iopub.status.idle": "2021-04-14T04:16:48.547766Z",
     "shell.execute_reply": "2021-04-14T04:16:48.548298Z"
    }
   },
   "outputs": [
    {
     "data": {
      "text/plain": [
       "131"
      ]
     },
     "execution_count": 1,
     "metadata": {},
     "output_type": "execute_result"
    }
   ],
   "source": [
    "#q1\n",
    "uniquetweets = {}\n",
    "for i in range(len(fulllist)):\n",
    "    if fulllist[i][3] not in uniquetweets:\n",
    "        uniquetweets[fulllist[i][3]] = 0 \n",
    "    uniquetweets[fulllist[i][3]]+=1\n",
    "len(uniquetweets)"
   ]
  },
  {
   "cell_type": "code",
   "execution_count": 7,
   "metadata": {
    "execution": {
     "iopub.execute_input": "2021-04-14T04:16:48.554783Z",
     "iopub.status.busy": "2021-04-14T04:16:48.553903Z",
     "iopub.status.idle": "2021-04-14T04:16:48.557171Z",
     "shell.execute_reply": "2021-04-14T04:16:48.557935Z"
    }
   },
   "outputs": [
    {
     "data": {
      "text/plain": [
       "{'USERID_1',\n",
       " 'USERID_10',\n",
       " 'USERID_2',\n",
       " 'USERID_3',\n",
       " 'USERID_4',\n",
       " 'USERID_5',\n",
       " 'USERID_6',\n",
       " 'USERID_7',\n",
       " 'USERID_8',\n",
       " 'USERID_9'}"
      ]
     },
     "execution_count": 1,
     "metadata": {},
     "output_type": "execute_result"
    }
   ],
   "source": [
    "#q2\n",
    "usernames = {}\n",
    "for i in range(len(fulllist)):\n",
    "    if fulllist[i][1] not in usernames:\n",
    "        usernames[fulllist[i][1]] = 0 \n",
    "    usernames[fulllist[i][1]]+=1\n",
    "set(usernames)"
   ]
  },
  {
   "cell_type": "code",
   "execution_count": 8,
   "metadata": {
    "execution": {
     "iopub.execute_input": "2021-04-14T04:16:48.562982Z",
     "iopub.status.busy": "2021-04-14T04:16:48.562137Z",
     "iopub.status.idle": "2021-04-14T04:16:48.565244Z",
     "shell.execute_reply": "2021-04-14T04:16:48.565777Z"
    }
   },
   "outputs": [
    {
     "data": {
      "text/plain": [
       "{'USERID_9': 44,\n",
       " 'USERID_3': 39,\n",
       " 'USERID_4': 35,\n",
       " 'USERID_8': 31,\n",
       " 'USERID_2': 47,\n",
       " 'USERID_10': 45,\n",
       " 'USERID_1': 52,\n",
       " 'USERID_7': 55,\n",
       " 'USERID_6': 51,\n",
       " 'USERID_5': 46}"
      ]
     },
     "execution_count": 1,
     "metadata": {},
     "output_type": "execute_result"
    }
   ],
   "source": [
    "#q3\n",
    "usernames"
   ]
  },
  {
   "cell_type": "code",
   "execution_count": 9,
   "metadata": {
    "execution": {
     "iopub.execute_input": "2021-04-14T04:16:48.573345Z",
     "iopub.status.busy": "2021-04-14T04:16:48.572429Z",
     "iopub.status.idle": "2021-04-14T04:16:48.576131Z",
     "shell.execute_reply": "2021-04-14T04:16:48.576683Z"
    }
   },
   "outputs": [
    {
     "data": {
      "text/plain": [
       "{'USERID_9': 137,\n",
       " 'USERID_3': 138,\n",
       " 'USERID_4': 138,\n",
       " 'USERID_8': 145,\n",
       " 'USERID_2': 138,\n",
       " 'USERID_10': 136,\n",
       " 'USERID_1': 150,\n",
       " 'USERID_7': 144,\n",
       " 'USERID_6': 145,\n",
       " 'USERID_5': 146}"
      ]
     },
     "execution_count": 1,
     "metadata": {},
     "output_type": "execute_result"
    }
   ],
   "source": [
    "#q4\n",
    "usernames = {}\n",
    "longestlengthtweets = {}\n",
    "for i in range(len(fulllist)):\n",
    "    if fulllist[i][1] not in usernames:\n",
    "        usernames[fulllist[i][1]] = 0\n",
    "        longestlengthtweets[fulllist[i][1]] = fulllist[i][3]\n",
    "    if fulllist[i][1] in longestlengthtweets and fulllist[i][3] > longestlengthtweets[fulllist[i][1]]:\n",
    "        longestlengthtweets[fulllist[i][1]] = fulllist[i][3] \n",
    "    usernames[fulllist[i][1]]+=1\n",
    "longestlengthtweets"
   ]
  },
  {
   "cell_type": "code",
   "execution_count": 10,
   "metadata": {
    "execution": {
     "iopub.execute_input": "2021-04-14T04:16:48.584413Z",
     "iopub.status.busy": "2021-04-14T04:16:48.583371Z",
     "iopub.status.idle": "2021-04-14T04:16:48.586894Z",
     "shell.execute_reply": "2021-04-14T04:16:48.587426Z"
    }
   },
   "outputs": [
    {
     "data": {
      "text/plain": [
       "{'USERID_9': 9728,\n",
       " 'USERID_3': 9678,\n",
       " 'USERID_4': 9618,\n",
       " 'USERID_8': 915000,\n",
       " 'USERID_2': 869000000,\n",
       " 'USERID_10': 9936,\n",
       " 'USERID_1': 9393,\n",
       " 'USERID_7': 9851,\n",
       " 'USERID_6': 9149,\n",
       " 'USERID_5': 9608}"
      ]
     },
     "execution_count": 1,
     "metadata": {},
     "output_type": "execute_result"
    }
   ],
   "source": [
    "#q5\n",
    "usernames = {}\n",
    "largestlikes = {}\n",
    "for i in range(len(fulllist)):\n",
    "    if fulllist[i][1] not in usernames:\n",
    "        usernames[fulllist[i][1]] = 0\n",
    "        largestlikes[fulllist[i][1]] = fulllist[i][2]\n",
    "    if fulllist[i][1] in largestlikes and fulllist[i][2] > largestlikes[fulllist[i][1]]:\n",
    "        largestlikes[fulllist[i][1]] = fulllist[i][2] \n",
    "    usernames[fulllist[i][1]]+=1\n",
    "largestlikes"
   ]
  },
  {
   "cell_type": "code",
   "execution_count": 11,
   "metadata": {
    "execution": {
     "iopub.execute_input": "2021-04-14T04:16:48.593210Z",
     "iopub.status.busy": "2021-04-14T04:16:48.592363Z",
     "iopub.status.idle": "2021-04-14T04:16:49.008100Z",
     "shell.execute_reply": "2021-04-14T04:16:49.008647Z"
    }
   },
   "outputs": [
    {
     "data": {
      "image/png": "[encoded data removed]",
      "text/plain": [
       "<Figure size 432x288 with 1 Axes>"
      ]
     },
     "metadata": {
      "needs_background": "light"
     },
     "output_type": "display_data"
    }
   ],
   "source": [
    "#q6\n",
    "scatter(list(usernames.values()), list(longestlengthtweets.values()), xlabel = 'Number of tweets', ylabel = 'Longest length')"
   ]
  },
  {
   "cell_type": "code",
   "execution_count": 12,
   "metadata": {
    "execution": {
     "iopub.execute_input": "2021-04-14T04:16:49.062734Z",
     "iopub.status.busy": "2021-04-14T04:16:49.060757Z",
     "iopub.status.idle": "2021-04-14T04:16:49.147599Z",
     "shell.execute_reply": "2021-04-14T04:16:49.146875Z"
    }
   },
   "outputs": [
    {
     "data": {
      "image/png": "[encoded data removed]",
      "text/plain": [
       "<Figure size 432x288 with 1 Axes>"
      ]
     },
     "metadata": {
      "needs_background": "light"
     },
     "output_type": "display_data"
    }
   ],
   "source": [
    "#q7\n",
    "scatter(list(usernames.values()), list(largestlikes.values()), xlabel = 'Number of tweets', ylabel = 'Largest likes')"
   ]
  },
  {
   "cell_type": "code",
   "execution_count": 13,
   "metadata": {
    "execution": {
     "iopub.execute_input": "2021-04-14T04:16:49.206691Z",
     "iopub.status.busy": "2021-04-14T04:16:49.202098Z",
     "iopub.status.idle": "2021-04-14T04:16:49.294610Z",
     "shell.execute_reply": "2021-04-14T04:16:49.295184Z"
    }
   },
   "outputs": [
    {
     "data": {
      "image/png": "[encoded data removed]",
      "text/plain": [
       "<Figure size 432x288 with 1 Axes>"
      ]
     },
     "metadata": {
      "needs_background": "light"
     },
     "output_type": "display_data"
    }
   ],
   "source": [
    "#q8\n",
    "scatter(list(longestlengthtweets.values()), list(largestlikes.values()), xlabel = 'Longest length', ylabel = \"Largest likes\")"
   ]
  },
  {
   "cell_type": "code",
   "execution_count": 14,
   "metadata": {
    "execution": {
     "iopub.execute_input": "2021-04-14T04:16:49.302286Z",
     "iopub.status.busy": "2021-04-14T04:16:49.301346Z",
     "iopub.status.idle": "2021-04-14T04:16:49.304533Z",
     "shell.execute_reply": "2021-04-14T04:16:49.305176Z"
    }
   },
   "outputs": [
    {
     "data": {
      "text/plain": [
       "'USERID_2'"
      ]
     },
     "execution_count": 1,
     "metadata": {},
     "output_type": "execute_result"
    }
   ],
   "source": [
    "#q9\n",
    "totallikes = 0\n",
    "outlier = None\n",
    "for i in range(len(list(largestlikes.values()))):\n",
    "    totallikes += list(largestlikes.values())[i] \n",
    "avglikes = (totallikes)/len(list(largestlikes.values()))\n",
    "for i in range(len(list(largestlikes.values()))):\n",
    "    if list(largestlikes.values())[i] > avglikes:\n",
    "        outlier = (list(largestlikes.values())[i])\n",
    "\n",
    "(list(largestlikes.keys())[list(largestlikes.values()).index((outlier))])"
   ]
  },
  {
   "cell_type": "code",
   "execution_count": 15,
   "metadata": {
    "execution": {
     "iopub.execute_input": "2021-04-14T04:16:49.313360Z",
     "iopub.status.busy": "2021-04-14T04:16:49.312374Z",
     "iopub.status.idle": "2021-04-14T04:16:49.315872Z",
     "shell.execute_reply": "2021-04-14T04:16:49.316634Z"
    }
   },
   "outputs": [
    {
     "data": {
      "text/plain": [
       "[Tweet(tweet_id='1467894593', username='USERID_2', num_liked=869000000, length=136),\n",
       " Tweet(tweet_id='1467875163', username='USERID_2', num_liked=9891, length=69),\n",
       " Tweet(tweet_id='1467862806', username='USERID_2', num_liked=9465, length=68),\n",
       " Tweet(tweet_id='1467907751', username='USERID_2', num_liked=9048, length=110),\n",
       " Tweet(tweet_id='1467928764', username='USERID_2', num_liked=9026, length=41),\n",
       " Tweet(tweet_id='1467943007', username='USERID_2', num_liked=9000, length=130),\n",
       " Tweet(tweet_id='1467918682', username='USERID_2', num_liked=8884, length=102),\n",
       " Tweet(tweet_id='1467935121', username='USERID_2', num_liked=8740, length=37),\n",
       " Tweet(tweet_id='1467947913', username='USERID_2', num_liked=8578, length=36),\n",
       " Tweet(tweet_id='1467892667', username='USERID_2', num_liked=8270, length=20),\n",
       " Tweet(tweet_id='1467897316', username='USERID_2', num_liked=7890, length=64),\n",
       " Tweet(tweet_id='1467854917', username='USERID_2', num_liked=7741, length=30),\n",
       " Tweet(tweet_id='1467961106', username='USERID_2', num_liked=7552, length=65),\n",
       " Tweet(tweet_id='1467951252', username='USERID_2', num_liked=7515, length=48),\n",
       " Tweet(tweet_id='1467889988', username='USERID_2', num_liked=7394, length=51),\n",
       " Tweet(tweet_id='1467916959', username='USERID_2', num_liked=7081, length=69),\n",
       " Tweet(tweet_id='1467874916', username='USERID_2', num_liked=6935, length=23),\n",
       " Tweet(tweet_id='1467855981', username='USERID_2', num_liked=6455, length=92),\n",
       " Tweet(tweet_id='1467872247', username='USERID_2', num_liked=6316, length=137),\n",
       " Tweet(tweet_id='1467918850', username='USERID_2', num_liked=5383, length=103),\n",
       " Tweet(tweet_id='1467919055', username='USERID_2', num_liked=5370, length=68),\n",
       " Tweet(tweet_id='1467915670', username='USERID_2', num_liked=5287, length=138),\n",
       " Tweet(tweet_id='1467880442', username='USERID_2', num_liked=5125, length=96),\n",
       " Tweet(tweet_id='1467896253', username='USERID_2', num_liked=4906, length=91),\n",
       " Tweet(tweet_id='1467962897', username='USERID_2', num_liked=4898, length=98),\n",
       " Tweet(tweet_id='1467855812', username='USERID_2', num_liked=4806, length=28),\n",
       " Tweet(tweet_id='1467930220', username='USERID_2', num_liked=4770, length=94),\n",
       " Tweet(tweet_id='1467852031', username='USERID_2', num_liked=4565, length=63),\n",
       " Tweet(tweet_id='1467905378', username='USERID_2', num_liked=4420, length=111),\n",
       " Tweet(tweet_id='1467877833', username='USERID_2', num_liked=4270, length=89),\n",
       " Tweet(tweet_id='1467870866', username='USERID_2', num_liked=4166, length=82),\n",
       " Tweet(tweet_id='1467879984', username='USERID_2', num_liked=3694, length=69),\n",
       " Tweet(tweet_id='1467898511', username='USERID_2', num_liked=3477, length=99),\n",
       " Tweet(tweet_id='1467926632', username='USERID_2', num_liked=2602, length=98),\n",
       " Tweet(tweet_id='1467862213', username='USERID_2', num_liked=2455, length=138),\n",
       " Tweet(tweet_id='1467878633', username='USERID_2', num_liked=2351, length=33),\n",
       " Tweet(tweet_id='1467878971', username='USERID_2', num_liked=2238, length=27),\n",
       " Tweet(tweet_id='1467953090', username='USERID_2', num_liked=1896, length=64),\n",
       " Tweet(tweet_id='1467908798', username='USERID_2', num_liked=1659, length=51),\n",
       " Tweet(tweet_id='1467918015', username='USERID_2', num_liked=1508, length=97),\n",
       " Tweet(tweet_id='1467926444', username='USERID_2', num_liked=1394, length=61),\n",
       " Tweet(tweet_id='1467914499', username='USERID_2', num_liked=910, length=138),\n",
       " Tweet(tweet_id='1467968584', username='USERID_2', num_liked=777, length=132),\n",
       " Tweet(tweet_id='1467933102', username='USERID_2', num_liked=625, length=135),\n",
       " Tweet(tweet_id='1467953277', username='USERID_2', num_liked=494, length=31),\n",
       " Tweet(tweet_id='1467890222', username='USERID_2', num_liked=227, length=107),\n",
       " Tweet(tweet_id='1467871956', username='USERID_2', num_liked=110, length=68)]"
      ]
     },
     "execution_count": 1,
     "metadata": {},
     "output_type": "execute_result"
    }
   ],
   "source": [
    "#q10\n",
    "def presenttweets2(username):\n",
    "    Tweet = namedtuple(\"Tweet\",['tweet_id', 'username', 'num_liked', 'length'])\n",
    "    tweets = []\n",
    "    for item in range(len(fulllist)):\n",
    "        if (fulllist[item][1]) == username:\n",
    "            tweets.append(Tweet((fulllist[item][0]),(fulllist[item][1]), int(fulllist[item][2]), ((fulllist[item][3]))))\n",
    "    return tweets\n",
    "\n",
    "tweetsss = presenttweets2('USERID_2')\n",
    "sorted(tweetsss, key = lambda thing : thing[-2], reverse = True)"
   ]
  },
  {
   "cell_type": "code",
   "execution_count": 16,
   "metadata": {
    "execution": {
     "iopub.execute_input": "2021-04-14T04:16:49.323058Z",
     "iopub.status.busy": "2021-04-14T04:16:49.322088Z",
     "iopub.status.idle": "2021-04-14T04:16:49.326142Z",
     "shell.execute_reply": "2021-04-14T04:16:49.325556Z"
    }
   },
   "outputs": [
    {
     "data": {
      "text/plain": [
       "5003.57"
      ]
     },
     "execution_count": 1,
     "metadata": {},
     "output_type": "execute_result"
    }
   ],
   "source": [
    "#q11\n",
    "avg_tweet=0\n",
    "for tweet in sorted(tweetsss, key = lambda thing : thing[-2], reverse = True)[1:] :\n",
    "    avg_tweet+=tweet[2]\n",
    "    \n",
    "round(avg_tweet/len(sorted(tweetsss, key = lambda thing : thing[-2], reverse = True)[1:]),2)"
   ]
  },
  {
   "cell_type": "code",
   "execution_count": 17,
   "metadata": {
    "execution": {
     "iopub.execute_input": "2021-04-14T04:16:49.386487Z",
     "iopub.status.busy": "2021-04-14T04:16:49.385676Z",
     "iopub.status.idle": "2021-04-14T04:16:49.466774Z",
     "shell.execute_reply": "2021-04-14T04:16:49.467368Z"
    }
   },
   "outputs": [
    {
     "data": {
      "image/png": "[encoded data removed]",
      "text/plain": [
       "<Figure size 432x288 with 1 Axes>"
      ]
     },
     "metadata": {
      "needs_background": "light"
     },
     "output_type": "display_data"
    }
   ],
   "source": [
    "#q12\n",
    "def plot_special_likes(idxfront=0,idxback=None):\n",
    "    usernamez = {}\n",
    "    largestlikes={}\n",
    "    usernames={}\n",
    "    if idxback==None:\n",
    "        alterlist=sorted(fulllist, key = lambda thing : thing[-2], reverse = True)[idxfront:]\n",
    "    else:\n",
    "        alterlist=sorted(fulllist, key = lambda thing : thing[-2], reverse = True)[idxfront:idxback]\n",
    "        \n",
    "    for i in range(len(alterlist)):\n",
    "        if alterlist[i][1] not in usernamez:\n",
    "            usernamez[alterlist[i][1]] = 0 \n",
    "        usernamez[alterlist[i][1]]+=1\n",
    "    \n",
    "    for i in range(len(alterlist)):\n",
    "        if alterlist[i][1] not in usernames:\n",
    "            usernames[alterlist[i][1]] = 0\n",
    "            largestlikes[alterlist[i][1]] = alterlist[i][2]\n",
    "        if alterlist[i][1] in largestlikes and alterlist[i][2] > largestlikes[alterlist[i][1]]:\n",
    "            largestlikes[alterlist[i][1]] = alterlist[i][2] \n",
    "        usernames[alterlist[i][1]]+=1\n",
    "\n",
    "    scatter(list(usernamez.values()), list(largestlikes.values()), xlabel = 'Number of tweets', ylabel = 'Largest likes')\n",
    "\n",
    "plot_special_likes(idxfront=3)    "
   ]
  },
  {
   "cell_type": "code",
   "execution_count": 18,
   "metadata": {
    "execution": {
     "iopub.execute_input": "2021-04-14T04:16:49.522707Z",
     "iopub.status.busy": "2021-04-14T04:16:49.521912Z",
     "iopub.status.idle": "2021-04-14T04:16:49.605981Z",
     "shell.execute_reply": "2021-04-14T04:16:49.605418Z"
    }
   },
   "outputs": [
    {
     "data": {
      "image/png": "[encoded data removed]",
      "text/plain": [
       "<Figure size 432x288 with 1 Axes>"
      ]
     },
     "metadata": {
      "needs_background": "light"
     },
     "output_type": "display_data"
    }
   ],
   "source": [
    "#q13\n",
    "plot_special_likes(idxfront=20)    "
   ]
  },
  {
   "cell_type": "code",
   "execution_count": 19,
   "metadata": {
    "execution": {
     "iopub.execute_input": "2021-04-14T04:16:49.612643Z",
     "iopub.status.busy": "2021-04-14T04:16:49.611447Z",
     "iopub.status.idle": "2021-04-14T04:16:49.616917Z",
     "shell.execute_reply": "2021-04-14T04:16:49.616351Z"
    }
   },
   "outputs": [
    {
     "data": {
      "text/plain": [
       "['play/rb/ppt.ppt', 'play/rb/rb9/12.xls', 'play/rb/rb9/89.csv']"
      ]
     },
     "execution_count": 1,
     "metadata": {},
     "output_type": "execute_result"
    }
   ],
   "source": [
    "#q14\n",
    "\n",
    "def thefiles(directory):\n",
    "    listofpaths = []\n",
    "    for file in os.listdir(directory):\n",
    "        if os.path.isfile(os.path.join(directory, file))==True: \n",
    "            if file[0]!='.':\n",
    "                listofpaths.append(os.path.join(directory, file))\n",
    "        if os.path.isdir(os.path.join(directory, file))==True:\n",
    "            listofpaths=listofpaths+(thefiles(os.path.join(directory, file)))\n",
    "    return sorted(listofpaths)\n",
    "    \n",
    "thefiles('play/rb')"
   ]
  },
  {
   "cell_type": "code",
   "execution_count": 20,
   "metadata": {
    "execution": {
     "iopub.execute_input": "2021-04-14T04:16:49.621563Z",
     "iopub.status.busy": "2021-04-14T04:16:49.620610Z",
     "iopub.status.idle": "2021-04-14T04:16:49.625211Z",
     "shell.execute_reply": "2021-04-14T04:16:49.625759Z"
    }
   },
   "outputs": [
    {
     "data": {
      "text/plain": [
       "['play/ls/qwe/iuqwe.json', 'play/ls/qwe/usun.pdf']"
      ]
     },
     "execution_count": 1,
     "metadata": {},
     "output_type": "execute_result"
    }
   ],
   "source": [
    "#q15\n",
    "thefiles('play/ls/qwe')"
   ]
  },
  {
   "cell_type": "code",
   "execution_count": 21,
   "metadata": {
    "execution": {
     "iopub.execute_input": "2021-04-14T04:16:49.630560Z",
     "iopub.status.busy": "2021-04-14T04:16:49.629708Z",
     "iopub.status.idle": "2021-04-14T04:16:49.635180Z",
     "shell.execute_reply": "2021-04-14T04:16:49.635718Z"
    }
   },
   "outputs": [
    {
     "data": {
      "text/plain": [
       "['play/ls/lu.txt',\n",
       " 'play/ls/mf.py',\n",
       " 'play/ls/qwe/iuqwe.json',\n",
       " 'play/ls/qwe/usun.pdf',\n",
       " 'play/ou/a',\n",
       " 'play/ou/b',\n",
       " 'play/ou/quap/aoq/aqnsa',\n",
       " 'play/ou/quap/aoq/qsonj',\n",
       " 'play/ou/quap/qonxu.txt',\n",
       " 'play/ou/quap/uikwe',\n",
       " 'play/ou/v',\n",
       " 'play/rb/ppt.ppt',\n",
       " 'play/rb/rb9/12.xls',\n",
       " 'play/rb/rb9/89.csv']"
      ]
     },
     "execution_count": 1,
     "metadata": {},
     "output_type": "execute_result"
    }
   ],
   "source": [
    "#q16\n",
    "thefiles('play')"
   ]
  },
  {
   "cell_type": "code",
   "execution_count": 22,
   "metadata": {
    "execution": {
     "iopub.execute_input": "2021-04-14T04:16:49.640359Z",
     "iopub.status.busy": "2021-04-14T04:16:49.639438Z",
     "iopub.status.idle": "2021-04-14T04:16:49.644158Z",
     "shell.execute_reply": "2021-04-14T04:16:49.644697Z"
    }
   },
   "outputs": [
    {
     "data": {
      "text/plain": [
       "['recursive/others/USERID_10.json',\n",
       " 'recursive/others/USERID_5.json',\n",
       " 'recursive/others/USERID_6.json',\n",
       " 'recursive/others/USERID_7.json',\n",
       " 'recursive/others/USERID_8.json',\n",
       " 'recursive/others/USERID_9.json']"
      ]
     },
     "execution_count": 1,
     "metadata": {},
     "output_type": "execute_result"
    }
   ],
   "source": [
    "#q17\n",
    "thefiles('recursive/others')"
   ]
  },
  {
   "cell_type": "code",
   "execution_count": 23,
   "metadata": {
    "execution": {
     "iopub.execute_input": "2021-04-14T04:16:49.649200Z",
     "iopub.status.busy": "2021-04-14T04:16:49.648435Z",
     "iopub.status.idle": "2021-04-14T04:16:49.653720Z",
     "shell.execute_reply": "2021-04-14T04:16:49.654254Z"
    }
   },
   "outputs": [
    {
     "data": {
      "text/plain": [
       "['recursive/USERID_1/tweets.json',\n",
       " 'recursive/USERID_2/tweets.json',\n",
       " 'recursive/USERID_3/tweets.json',\n",
       " 'recursive/USERID_4/1.csv',\n",
       " 'recursive/USERID_4/1.json',\n",
       " 'recursive/USERID_4/2.csv',\n",
       " 'recursive/USERID_4/2.json',\n",
       " 'recursive/USERID_4/false/tweets.json',\n",
       " 'recursive/USERID_4/true/tweets.json',\n",
       " 'recursive/others/USERID_10.json',\n",
       " 'recursive/others/USERID_5.json',\n",
       " 'recursive/others/USERID_6.json',\n",
       " 'recursive/others/USERID_7.json',\n",
       " 'recursive/others/USERID_8.json',\n",
       " 'recursive/others/USERID_9.json']"
      ]
     },
     "execution_count": 1,
     "metadata": {},
     "output_type": "execute_result"
    }
   ],
   "source": [
    "#q18\n",
    "thefiles('recursive')"
   ]
  },
  {
   "cell_type": "code",
   "execution_count": 24,
   "metadata": {
    "execution": {
     "iopub.execute_input": "2021-04-14T04:16:49.661419Z",
     "iopub.status.busy": "2021-04-14T04:16:49.660109Z",
     "iopub.status.idle": "2021-04-14T04:16:49.670918Z",
     "shell.execute_reply": "2021-04-14T04:16:49.671744Z"
    }
   },
   "outputs": [
    {
     "data": {
      "text/plain": [
       "37"
      ]
     },
     "execution_count": 1,
     "metadata": {},
     "output_type": "execute_result"
    }
   ],
   "source": [
    "#q19\n",
    "def tweetfilecount(paths):\n",
    "    tweets=0\n",
    "    for file in paths:\n",
    "        if file.find('json')>-1:\n",
    "            tweets+=len(presenttweetsjson(file))\n",
    "        if file.find('csv')>-1:\n",
    "            tweets+=len(presenttweets(file))\n",
    "    return tweets\n",
    "\n",
    "tweetfilecount(thefiles('recursive/USERID_4'))"
   ]
  },
  {
   "cell_type": "code",
   "execution_count": 25,
   "metadata": {
    "execution": {
     "iopub.execute_input": "2021-04-14T04:16:49.677303Z",
     "iopub.status.busy": "2021-04-14T04:16:49.675853Z",
     "iopub.status.idle": "2021-04-14T04:16:49.736619Z",
     "shell.execute_reply": "2021-04-14T04:16:49.736013Z"
    }
   },
   "outputs": [
    {
     "data": {
      "text/plain": [
       "220"
      ]
     },
     "execution_count": 1,
     "metadata": {},
     "output_type": "execute_result"
    }
   ],
   "source": [
    "#q20\n",
    "tweetfilecount(thefiles('recursive'))"
   ]
  },
  {
   "cell_type": "code",
   "execution_count": null,
   "metadata": {},
   "outputs": [],
   "source": []
  }
 ],
 "metadata": {
  "kernelspec": {
   "display_name": "Python 3",
   "language": "python",
   "name": "python3"
  },
  "language_info": {
   "codemirror_mode": {
    "name": "ipython",
    "version": 3
   },
   "file_extension": ".py",
   "mimetype": "text/x-python",
   "name": "python",
   "nbconvert_exporter": "python",
   "pygments_lexer": "ipython3",
   "version": "3.8.5"
  }
 },
 "nbformat": 4,
 "nbformat_minor": 4
}
