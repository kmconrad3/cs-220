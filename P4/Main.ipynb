{
 "cells": [
  {
   "cell_type": "code",
   "execution_count": 1,
   "metadata": {},
   "outputs": [],
   "source": [
    "# project: p4\n",
    "# submitter: Kmconrad3\n",
    "# partner: none\n",
    "# hours: 2"
   ]
  },
  {
   "cell_type": "code",
   "execution_count": 2,
   "metadata": {},
   "outputs": [],
   "source": [
    "#defining general battle result function\n",
    "import project \n",
    "\n",
    "def get_stat_total(pkmn):\n",
    "    return (project.get_attack(pkmn) + project.get_sp_atk(pkmn) + project.get_hp(pkmn) + project.get_defense(pkmn) + project.get_sp_def(pkmn) + project.get_speed(pkmn))\n",
    "\n",
    "def simple_battle(pkmn1,pkmn2):\n",
    "    if abs(get_stat_total(pkmn1) - get_stat_total(pkmn2)) > 300:\n",
    "        if (get_stat_total(pkmn1)> get_stat_total(pkmn2)):\n",
    "            return pkmn2 + \" ran away\"\n",
    "        else:\n",
    "            return pkmn1 + \" ran away\"\n",
    "    elif get_stat_total(pkmn1)> get_stat_total(pkmn2):\n",
    "        return pkmn1\n",
    "    elif get_stat_total(pkmn1)< get_stat_total(pkmn2):\n",
    "        return pkmn2\n",
    "    else:\n",
    "        return \"Draw\""
   ]
  },
  {
   "cell_type": "code",
   "execution_count": 3,
   "metadata": {},
   "outputs": [
    {
     "data": {
      "text/plain": [
       "'Squirtle'"
      ]
     },
     "execution_count": 3,
     "metadata": {},
     "output_type": "execute_result"
    }
   ],
   "source": [
    "#q1\n",
    "simple_battle('Jigglypuff', 'Squirtle') "
   ]
  },
  {
   "cell_type": "code",
   "execution_count": 4,
   "metadata": {},
   "outputs": [
    {
     "data": {
      "text/plain": [
       "'Steelix'"
      ]
     },
     "execution_count": 4,
     "metadata": {},
     "output_type": "execute_result"
    }
   ],
   "source": [
    "#q2\n",
    "simple_battle('Steelix', 'Mankey') "
   ]
  },
  {
   "cell_type": "code",
   "execution_count": 5,
   "metadata": {},
   "outputs": [
    {
     "data": {
      "text/plain": [
       "'Draw'"
      ]
     },
     "execution_count": 5,
     "metadata": {},
     "output_type": "execute_result"
    }
   ],
   "source": [
    "#q3\n",
    "simple_battle('Krabby', 'Seel')"
   ]
  },
  {
   "cell_type": "code",
   "execution_count": 6,
   "metadata": {},
   "outputs": [
    {
     "data": {
      "text/plain": [
       "'Piplup ran away'"
      ]
     },
     "execution_count": 6,
     "metadata": {},
     "output_type": "execute_result"
    }
   ],
   "source": [
    "#q4\n",
    "simple_battle('Piplup', 'Arceus') "
   ]
  },
  {
   "cell_type": "code",
   "execution_count": 7,
   "metadata": {},
   "outputs": [
    {
     "data": {
      "text/plain": [
       "'Azurill ran away'"
      ]
     },
     "execution_count": 7,
     "metadata": {},
     "output_type": "execute_result"
    }
   ],
   "source": [
    "#q5\n",
    "simple_battle('Weavile', 'Azurill')"
   ]
  },
  {
   "cell_type": "code",
   "execution_count": 8,
   "metadata": {},
   "outputs": [],
   "source": [
    "#defining highest potential damage function\n",
    "def most_damage(attacker, defender):\n",
    "    physical_damage = 10 * project.get_attack(attacker)/project.get_defense(defender)\n",
    "    special_damage = 10 * project.get_sp_atk(attacker)/ project.get_sp_def(defender) \n",
    "    if physical_damage > special_damage: \n",
    "        return round(physical_damage,4)\n",
    "    else:\n",
    "        return round(special_damage,4)\n",
    "    \n",
    "#verified- most_damage('Scraggy', 'Tranquill') "
   ]
  },
  {
   "cell_type": "code",
   "execution_count": 9,
   "metadata": {},
   "outputs": [
    {
     "data": {
      "text/plain": [
       "25.0"
      ]
     },
     "execution_count": 9,
     "metadata": {},
     "output_type": "execute_result"
    }
   ],
   "source": [
    "#q6\n",
    "most_damage('Sudowoodo', 'Mareep') "
   ]
  },
  {
   "cell_type": "code",
   "execution_count": 10,
   "metadata": {},
   "outputs": [
    {
     "data": {
      "text/plain": [
       "42.5"
      ]
     },
     "execution_count": 10,
     "metadata": {},
     "output_type": "execute_result"
    }
   ],
   "source": [
    "#q7\n",
    "most_damage('Blastoise','Weedle')"
   ]
  },
  {
   "cell_type": "code",
   "execution_count": 11,
   "metadata": {},
   "outputs": [],
   "source": [
    "#defining how many turns can be taken function\n",
    "import math\n",
    "\n",
    "def num_hits(attacker, defender):\n",
    "    return math.ceil(project.get_hp(defender)/most_damage(attacker,defender))"
   ]
  },
  {
   "cell_type": "code",
   "execution_count": 12,
   "metadata": {},
   "outputs": [
    {
     "data": {
      "text/plain": [
       "2"
      ]
     },
     "execution_count": 12,
     "metadata": {},
     "output_type": "execute_result"
    }
   ],
   "source": [
    "#q8\n",
    "num_hits('Wartortle','Caterpie') "
   ]
  },
  {
   "cell_type": "code",
   "execution_count": 13,
   "metadata": {},
   "outputs": [
    {
     "data": {
      "text/plain": [
       "9"
      ]
     },
     "execution_count": 13,
     "metadata": {},
     "output_type": "execute_result"
    }
   ],
   "source": [
    "#q9\n",
    "num_hits('Pikachu','Aggron')"
   ]
  },
  {
   "cell_type": "code",
   "execution_count": 14,
   "metadata": {},
   "outputs": [
    {
     "data": {
      "text/plain": [
       "2"
      ]
     },
     "execution_count": 14,
     "metadata": {},
     "output_type": "execute_result"
    }
   ],
   "source": [
    "#q10\n",
    "num_hits('Aggron','Pikachu')"
   ]
  },
  {
   "cell_type": "code",
   "execution_count": 15,
   "metadata": {},
   "outputs": [],
   "source": [
    "#defining battle simulator function\n",
    "def battle(pkmn1, pkmn2):\n",
    "    if abs(num_hits(pkmn1,pkmn2) - num_hits(pkmn2,pkmn1)) > 10:\n",
    "        if num_hits(pkmn1,pkmn2)>num_hits(pkmn2,pkmn1):\n",
    "            return pkmn1 + \" ran away\"\n",
    "        else:\n",
    "            return pkmn2 + \" ran away\"\n",
    "    if num_hits(pkmn2,pkmn1)>num_hits(pkmn1,pkmn2):\n",
    "        return pkmn1\n",
    "    elif num_hits(pkmn2,pkmn1)<num_hits(pkmn1,pkmn2):\n",
    "        return pkmn2\n",
    "    else:\n",
    "        if project.get_speed(pkmn1)>project.get_speed(pkmn2):\n",
    "            return pkmn1\n",
    "        elif project.get_speed(pkmn1)<project.get_speed(pkmn2):\n",
    "            return pkmn2\n",
    "        else:\n",
    "            return \"Draw\""
   ]
  },
  {
   "cell_type": "code",
   "execution_count": 16,
   "metadata": {},
   "outputs": [
    {
     "data": {
      "text/plain": [
       "'Scraggy'"
      ]
     },
     "execution_count": 16,
     "metadata": {},
     "output_type": "execute_result"
    }
   ],
   "source": [
    "#q11\n",
    "battle('Krabby', 'Scraggy')"
   ]
  },
  {
   "cell_type": "code",
   "execution_count": 17,
   "metadata": {},
   "outputs": [
    {
     "data": {
      "text/plain": [
       "'Charizard'"
      ]
     },
     "execution_count": 17,
     "metadata": {},
     "output_type": "execute_result"
    }
   ],
   "source": [
    "#q12\n",
    "battle('Charizard','Krabby') "
   ]
  },
  {
   "cell_type": "code",
   "execution_count": 18,
   "metadata": {},
   "outputs": [
    {
     "data": {
      "text/plain": [
       "'Shellder'"
      ]
     },
     "execution_count": 18,
     "metadata": {},
     "output_type": "execute_result"
    }
   ],
   "source": [
    "#q13\n",
    "battle('Shuckle', 'Shellder')"
   ]
  },
  {
   "cell_type": "code",
   "execution_count": 19,
   "metadata": {},
   "outputs": [
    {
     "data": {
      "text/plain": [
       "'Charmander'"
      ]
     },
     "execution_count": 19,
     "metadata": {},
     "output_type": "execute_result"
    }
   ],
   "source": [
    "#q14\n",
    "battle('Charmander', 'Tympole')"
   ]
  },
  {
   "cell_type": "code",
   "execution_count": 20,
   "metadata": {},
   "outputs": [
    {
     "data": {
      "text/plain": [
       "'Draw'"
      ]
     },
     "execution_count": 20,
     "metadata": {},
     "output_type": "execute_result"
    }
   ],
   "source": [
    "#q15\n",
    "battle('Mudkip', 'Gulpin') "
   ]
  },
  {
   "cell_type": "code",
   "execution_count": 21,
   "metadata": {},
   "outputs": [
    {
     "data": {
      "text/plain": [
       "'Shuckle ran away'"
      ]
     },
     "execution_count": 21,
     "metadata": {},
     "output_type": "execute_result"
    }
   ],
   "source": [
    "#q16\n",
    "battle('Shuckle', 'Ursaring') "
   ]
  },
  {
   "cell_type": "code",
   "execution_count": 22,
   "metadata": {},
   "outputs": [
    {
     "data": {
      "text/plain": [
       "'Noibat ran away'"
      ]
     },
     "execution_count": 22,
     "metadata": {},
     "output_type": "execute_result"
    }
   ],
   "source": [
    "#q17\n",
    "battle('Metagross', 'Noibat') "
   ]
  },
  {
   "cell_type": "code",
   "execution_count": 23,
   "metadata": {},
   "outputs": [],
   "source": [
    "#defining battle function that takes region into account\n",
    "def final_battle(pkmn1,pkmn2):\n",
    "    if project.get_region(pkmn1)==project.get_region(pkmn2):\n",
    "        return battle(pkmn1,pkmn2)\n",
    "    else:\n",
    "        if (project.get_type1(pkmn1)=='Flying') or (project.get_type2(pkmn1)=='Flying'): \n",
    "            if (project.get_type1(pkmn2)=='Flying') or (project.get_type2(pkmn2)=='Flying'): \n",
    "                return battle(pkmn1,pkmn2)\n",
    "            else:\n",
    "                return \"Cannot battle\"\n",
    "        else:\n",
    "            return \"Cannot battle\""
   ]
  },
  {
   "cell_type": "code",
   "execution_count": 24,
   "metadata": {},
   "outputs": [
    {
     "data": {
      "text/plain": [
       "'Cannot battle'"
      ]
     },
     "execution_count": 24,
     "metadata": {},
     "output_type": "execute_result"
    }
   ],
   "source": [
    "#q18\n",
    "final_battle('Geodude', 'Snivy') "
   ]
  },
  {
   "cell_type": "code",
   "execution_count": 25,
   "metadata": {},
   "outputs": [
    {
     "data": {
      "text/plain": [
       "'Cannot battle'"
      ]
     },
     "execution_count": 25,
     "metadata": {},
     "output_type": "execute_result"
    }
   ],
   "source": [
    "#q19\n",
    "final_battle('Zapdos', 'Foongus')"
   ]
  },
  {
   "cell_type": "code",
   "execution_count": 26,
   "metadata": {},
   "outputs": [
    {
     "data": {
      "text/plain": [
       "'Starly'"
      ]
     },
     "execution_count": 26,
     "metadata": {},
     "output_type": "execute_result"
    }
   ],
   "source": [
    "#q20\n",
    "final_battle('Starly', 'Pidgey') "
   ]
  }
 ],
 "metadata": {
  "kernelspec": {
   "display_name": "Python 3",
   "language": "python",
   "name": "python3"
  },
  "language_info": {
   "codemirror_mode": {
    "name": "ipython",
    "version": 3
   },
   "file_extension": ".py",
   "mimetype": "text/x-python",
   "name": "python",
   "nbconvert_exporter": "python",
   "pygments_lexer": "ipython3",
   "version": "3.8.5"
  }
 },
 "nbformat": 4,
 "nbformat_minor": 4
}
