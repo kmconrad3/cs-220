{
 "cells": [
  {
   "cell_type": "code",
   "execution_count": 1,
   "metadata": {
    "execution": {
     "iopub.execute_input": "2021-02-23T02:47:54.792885Z",
     "iopub.status.busy": "2021-02-23T02:47:54.791872Z",
     "iopub.status.idle": "2021-02-23T02:47:54.794673Z",
     "shell.execute_reply": "2021-02-23T02:47:54.795399Z"
    }
   },
   "outputs": [],
   "source": [
    "# project: p4\n",
    "# submitter: Kmconrad3\n",
    "# partner: none\n",
    "# hours: 2"
   ]
  },
  {
   "cell_type": "code",
   "execution_count": 2,
   "metadata": {
    "execution": {
     "iopub.execute_input": "2021-02-23T02:47:54.802196Z",
     "iopub.status.busy": "2021-02-23T02:47:54.801347Z",
     "iopub.status.idle": "2021-02-23T02:47:54.813065Z",
     "shell.execute_reply": "2021-02-23T02:47:54.814061Z"
    }
   },
   "outputs": [],
   "source": [
    "#defining general battle result function\n",
    "import project \n",
    "\n",
    "def get_stat_total(pkmn):\n",
    "    return (project.get_attack(pkmn) + project.get_sp_atk(pkmn) + project.get_hp(pkmn) + project.get_defense(pkmn) + project.get_sp_def(pkmn) + project.get_speed(pkmn))\n",
    "\n",
    "def simple_battle(pkmn1,pkmn2):\n",
    "    if abs(get_stat_total(pkmn1) - get_stat_total(pkmn2)) > 300:\n",
    "        if (get_stat_total(pkmn1)> get_stat_total(pkmn2)):\n",
    "            return pkmn2 + \" ran away\"\n",
    "        else:\n",
    "            return pkmn1 + \" ran away\"\n",
    "    elif get_stat_total(pkmn1)> get_stat_total(pkmn2):\n",
    "        return pkmn1\n",
    "    elif get_stat_total(pkmn1)< get_stat_total(pkmn2):\n",
    "        return pkmn2\n",
    "    else:\n",
    "        return \"Draw\""
   ]
  },
  {
   "cell_type": "code",
   "execution_count": 3,
   "metadata": {
    "execution": {
     "iopub.execute_input": "2021-02-23T02:47:54.825242Z",
     "iopub.status.busy": "2021-02-23T02:47:54.824418Z",
     "iopub.status.idle": "2021-02-23T02:47:54.827500Z",
     "shell.execute_reply": "2021-02-23T02:47:54.828205Z"
    }
   },
   "outputs": [
    {
     "data": {
      "text/plain": [
       "'Squirtle'"
      ]
     },
     "execution_count": 1,
     "metadata": {},
     "output_type": "execute_result"
    }
   ],
   "source": [
    "#q1\n",
    "simple_battle('Jigglypuff', 'Squirtle') "
   ]
  },
  {
   "cell_type": "code",
   "execution_count": 4,
   "metadata": {
    "execution": {
     "iopub.execute_input": "2021-02-23T02:47:54.832971Z",
     "iopub.status.busy": "2021-02-23T02:47:54.832072Z",
     "iopub.status.idle": "2021-02-23T02:47:54.835618Z",
     "shell.execute_reply": "2021-02-23T02:47:54.836372Z"
    }
   },
   "outputs": [
    {
     "data": {
      "text/plain": [
       "'Steelix'"
      ]
     },
     "execution_count": 1,
     "metadata": {},
     "output_type": "execute_result"
    }
   ],
   "source": [
    "#q2\n",
    "simple_battle('Steelix', 'Mankey') "
   ]
  },
  {
   "cell_type": "code",
   "execution_count": 5,
   "metadata": {
    "execution": {
     "iopub.execute_input": "2021-02-23T02:47:54.841333Z",
     "iopub.status.busy": "2021-02-23T02:47:54.840489Z",
     "iopub.status.idle": "2021-02-23T02:47:54.843856Z",
     "shell.execute_reply": "2021-02-23T02:47:54.844584Z"
    }
   },
   "outputs": [
    {
     "data": {
      "text/plain": [
       "'Draw'"
      ]
     },
     "execution_count": 1,
     "metadata": {},
     "output_type": "execute_result"
    }
   ],
   "source": [
    "#q3\n",
    "simple_battle('Krabby', 'Seel')"
   ]
  },
  {
   "cell_type": "code",
   "execution_count": 6,
   "metadata": {
    "execution": {
     "iopub.execute_input": "2021-02-23T02:47:54.849550Z",
     "iopub.status.busy": "2021-02-23T02:47:54.848657Z",
     "iopub.status.idle": "2021-02-23T02:47:54.852046Z",
     "shell.execute_reply": "2021-02-23T02:47:54.852854Z"
    }
   },
   "outputs": [
    {
     "data": {
      "text/plain": [
       "'Piplup ran away'"
      ]
     },
     "execution_count": 1,
     "metadata": {},
     "output_type": "execute_result"
    }
   ],
   "source": [
    "#q4\n",
    "simple_battle('Piplup', 'Arceus') "
   ]
  },
  {
   "cell_type": "code",
   "execution_count": 7,
   "metadata": {
    "execution": {
     "iopub.execute_input": "2021-02-23T02:47:54.857950Z",
     "iopub.status.busy": "2021-02-23T02:47:54.857049Z",
     "iopub.status.idle": "2021-02-23T02:47:54.860126Z",
     "shell.execute_reply": "2021-02-23T02:47:54.860929Z"
    }
   },
   "outputs": [
    {
     "data": {
      "text/plain": [
       "'Azurill ran away'"
      ]
     },
     "execution_count": 1,
     "metadata": {},
     "output_type": "execute_result"
    }
   ],
   "source": [
    "#q5\n",
    "simple_battle('Weavile', 'Azurill')"
   ]
  },
  {
   "cell_type": "code",
   "execution_count": 8,
   "metadata": {
    "execution": {
     "iopub.execute_input": "2021-02-23T02:47:54.866755Z",
     "iopub.status.busy": "2021-02-23T02:47:54.865950Z",
     "iopub.status.idle": "2021-02-23T02:47:54.868609Z",
     "shell.execute_reply": "2021-02-23T02:47:54.869395Z"
    }
   },
   "outputs": [],
   "source": [
    "#defining highest potential damage function\n",
    "def most_damage(attacker, defender):\n",
    "    physical_damage = 10 * project.get_attack(attacker)/project.get_defense(defender)\n",
    "    special_damage = 10 * project.get_sp_atk(attacker)/ project.get_sp_def(defender) \n",
    "    if physical_damage > special_damage: \n",
    "        return round(physical_damage,4)\n",
    "    else:\n",
    "        return round(special_damage,4)\n",
    "    \n",
    "#verified- most_damage('Scraggy', 'Tranquill') "
   ]
  },
  {
   "cell_type": "code",
   "execution_count": 9,
   "metadata": {
    "execution": {
     "iopub.execute_input": "2021-02-23T02:47:54.874253Z",
     "iopub.status.busy": "2021-02-23T02:47:54.873471Z",
     "iopub.status.idle": "2021-02-23T02:47:54.876502Z",
     "shell.execute_reply": "2021-02-23T02:47:54.877317Z"
    }
   },
   "outputs": [
    {
     "data": {
      "text/plain": [
       "25.0"
      ]
     },
     "execution_count": 1,
     "metadata": {},
     "output_type": "execute_result"
    }
   ],
   "source": [
    "#q6\n",
    "most_damage('Sudowoodo', 'Mareep') "
   ]
  },
  {
   "cell_type": "code",
   "execution_count": 10,
   "metadata": {
    "execution": {
     "iopub.execute_input": "2021-02-23T02:47:54.882296Z",
     "iopub.status.busy": "2021-02-23T02:47:54.881491Z",
     "iopub.status.idle": "2021-02-23T02:47:54.884343Z",
     "shell.execute_reply": "2021-02-23T02:47:54.885241Z"
    }
   },
   "outputs": [
    {
     "data": {
      "text/plain": [
       "42.5"
      ]
     },
     "execution_count": 1,
     "metadata": {},
     "output_type": "execute_result"
    }
   ],
   "source": [
    "#q7\n",
    "most_damage('Blastoise','Weedle')"
   ]
  },
  {
   "cell_type": "code",
   "execution_count": 11,
   "metadata": {
    "execution": {
     "iopub.execute_input": "2021-02-23T02:47:54.890453Z",
     "iopub.status.busy": "2021-02-23T02:47:54.889581Z",
     "iopub.status.idle": "2021-02-23T02:47:54.891937Z",
     "shell.execute_reply": "2021-02-23T02:47:54.892883Z"
    }
   },
   "outputs": [],
   "source": [
    "#defining how many turns can be taken function\n",
    "import math\n",
    "\n",
    "def num_hits(attacker, defender):\n",
    "    return math.ceil(project.get_hp(defender)/most_damage(attacker,defender))"
   ]
  },
  {
   "cell_type": "code",
   "execution_count": 12,
   "metadata": {
    "execution": {
     "iopub.execute_input": "2021-02-23T02:47:54.897877Z",
     "iopub.status.busy": "2021-02-23T02:47:54.897067Z",
     "iopub.status.idle": "2021-02-23T02:47:54.899982Z",
     "shell.execute_reply": "2021-02-23T02:47:54.900721Z"
    }
   },
   "outputs": [
    {
     "data": {
      "text/plain": [
       "2"
      ]
     },
     "execution_count": 1,
     "metadata": {},
     "output_type": "execute_result"
    }
   ],
   "source": [
    "#q8\n",
    "num_hits('Wartortle','Caterpie') "
   ]
  },
  {
   "cell_type": "code",
   "execution_count": 13,
   "metadata": {
    "execution": {
     "iopub.execute_input": "2021-02-23T02:47:54.905937Z",
     "iopub.status.busy": "2021-02-23T02:47:54.905061Z",
     "iopub.status.idle": "2021-02-23T02:47:54.908080Z",
     "shell.execute_reply": "2021-02-23T02:47:54.908799Z"
    }
   },
   "outputs": [
    {
     "data": {
      "text/plain": [
       "9"
      ]
     },
     "execution_count": 1,
     "metadata": {},
     "output_type": "execute_result"
    }
   ],
   "source": [
    "#q9\n",
    "num_hits('Pikachu','Aggron')"
   ]
  },
  {
   "cell_type": "code",
   "execution_count": 14,
   "metadata": {
    "execution": {
     "iopub.execute_input": "2021-02-23T02:47:54.913784Z",
     "iopub.status.busy": "2021-02-23T02:47:54.912956Z",
     "iopub.status.idle": "2021-02-23T02:47:54.915752Z",
     "shell.execute_reply": "2021-02-23T02:47:54.916461Z"
    }
   },
   "outputs": [
    {
     "data": {
      "text/plain": [
       "2"
      ]
     },
     "execution_count": 1,
     "metadata": {},
     "output_type": "execute_result"
    }
   ],
   "source": [
    "#q10\n",
    "num_hits('Aggron','Pikachu')"
   ]
  },
  {
   "cell_type": "code",
   "execution_count": 15,
   "metadata": {
    "execution": {
     "iopub.execute_input": "2021-02-23T02:47:54.923791Z",
     "iopub.status.busy": "2021-02-23T02:47:54.922989Z",
     "iopub.status.idle": "2021-02-23T02:47:54.925430Z",
     "shell.execute_reply": "2021-02-23T02:47:54.926165Z"
    }
   },
   "outputs": [],
   "source": [
    "#defining battle simulator function\n",
    "def battle(pkmn1, pkmn2):\n",
    "    if abs(num_hits(pkmn1,pkmn2) - num_hits(pkmn2,pkmn1)) > 10:\n",
    "        if num_hits(pkmn1,pkmn2)>num_hits(pkmn2,pkmn1):\n",
    "            return pkmn1 + \" ran away\"\n",
    "        else:\n",
    "            return pkmn2 + \" ran away\"\n",
    "    if num_hits(pkmn2,pkmn1)>num_hits(pkmn1,pkmn2):\n",
    "        return pkmn1\n",
    "    elif num_hits(pkmn2,pkmn1)<num_hits(pkmn1,pkmn2):\n",
    "        return pkmn2\n",
    "    else:\n",
    "        if project.get_speed(pkmn1)>project.get_speed(pkmn2):\n",
    "            return pkmn1\n",
    "        elif project.get_speed(pkmn1)<project.get_speed(pkmn2):\n",
    "            return pkmn2\n",
    "        else:\n",
    "            return \"Draw\""
   ]
  },
  {
   "cell_type": "code",
   "execution_count": 16,
   "metadata": {
    "execution": {
     "iopub.execute_input": "2021-02-23T02:47:54.931035Z",
     "iopub.status.busy": "2021-02-23T02:47:54.930229Z",
     "iopub.status.idle": "2021-02-23T02:47:54.933332Z",
     "shell.execute_reply": "2021-02-23T02:47:54.934040Z"
    }
   },
   "outputs": [
    {
     "data": {
      "text/plain": [
       "'Scraggy'"
      ]
     },
     "execution_count": 1,
     "metadata": {},
     "output_type": "execute_result"
    }
   ],
   "source": [
    "#q11\n",
    "battle('Krabby', 'Scraggy')"
   ]
  },
  {
   "cell_type": "code",
   "execution_count": 17,
   "metadata": {
    "execution": {
     "iopub.execute_input": "2021-02-23T02:47:54.940385Z",
     "iopub.status.busy": "2021-02-23T02:47:54.939397Z",
     "iopub.status.idle": "2021-02-23T02:47:54.943862Z",
     "shell.execute_reply": "2021-02-23T02:47:54.943045Z"
    }
   },
   "outputs": [
    {
     "data": {
      "text/plain": [
       "'Charizard'"
      ]
     },
     "execution_count": 1,
     "metadata": {},
     "output_type": "execute_result"
    }
   ],
   "source": [
    "#q12\n",
    "battle('Charizard','Krabby') "
   ]
  },
  {
   "cell_type": "code",
   "execution_count": 18,
   "metadata": {
    "execution": {
     "iopub.execute_input": "2021-02-23T02:47:54.948847Z",
     "iopub.status.busy": "2021-02-23T02:47:54.948035Z",
     "iopub.status.idle": "2021-02-23T02:47:54.951056Z",
     "shell.execute_reply": "2021-02-23T02:47:54.951834Z"
    }
   },
   "outputs": [
    {
     "data": {
      "text/plain": [
       "'Shellder'"
      ]
     },
     "execution_count": 1,
     "metadata": {},
     "output_type": "execute_result"
    }
   ],
   "source": [
    "#q13\n",
    "battle('Shuckle', 'Shellder')"
   ]
  },
  {
   "cell_type": "code",
   "execution_count": 19,
   "metadata": {
    "execution": {
     "iopub.execute_input": "2021-02-23T02:47:54.956923Z",
     "iopub.status.busy": "2021-02-23T02:47:54.956056Z",
     "iopub.status.idle": "2021-02-23T02:47:54.959065Z",
     "shell.execute_reply": "2021-02-23T02:47:54.959777Z"
    }
   },
   "outputs": [
    {
     "data": {
      "text/plain": [
       "'Charmander'"
      ]
     },
     "execution_count": 1,
     "metadata": {},
     "output_type": "execute_result"
    }
   ],
   "source": [
    "#q14\n",
    "battle('Charmander', 'Tympole')"
   ]
  },
  {
   "cell_type": "code",
   "execution_count": 20,
   "metadata": {
    "execution": {
     "iopub.execute_input": "2021-02-23T02:47:54.964655Z",
     "iopub.status.busy": "2021-02-23T02:47:54.963831Z",
     "iopub.status.idle": "2021-02-23T02:47:54.966841Z",
     "shell.execute_reply": "2021-02-23T02:47:54.967810Z"
    }
   },
   "outputs": [
    {
     "data": {
      "text/plain": [
       "'Draw'"
      ]
     },
     "execution_count": 1,
     "metadata": {},
     "output_type": "execute_result"
    }
   ],
   "source": [
    "#q15\n",
    "battle('Mudkip', 'Gulpin') "
   ]
  },
  {
   "cell_type": "code",
   "execution_count": 21,
   "metadata": {
    "execution": {
     "iopub.execute_input": "2021-02-23T02:47:54.972974Z",
     "iopub.status.busy": "2021-02-23T02:47:54.972099Z",
     "iopub.status.idle": "2021-02-23T02:47:54.974941Z",
     "shell.execute_reply": "2021-02-23T02:47:54.975646Z"
    }
   },
   "outputs": [
    {
     "data": {
      "text/plain": [
       "'Shuckle ran away'"
      ]
     },
     "execution_count": 1,
     "metadata": {},
     "output_type": "execute_result"
    }
   ],
   "source": [
    "#q16\n",
    "battle('Shuckle', 'Ursaring') "
   ]
  },
  {
   "cell_type": "code",
   "execution_count": 22,
   "metadata": {
    "execution": {
     "iopub.execute_input": "2021-02-23T02:47:54.980783Z",
     "iopub.status.busy": "2021-02-23T02:47:54.979871Z",
     "iopub.status.idle": "2021-02-23T02:47:54.983079Z",
     "shell.execute_reply": "2021-02-23T02:47:54.983811Z"
    }
   },
   "outputs": [
    {
     "data": {
      "text/plain": [
       "'Noibat ran away'"
      ]
     },
     "execution_count": 1,
     "metadata": {},
     "output_type": "execute_result"
    }
   ],
   "source": [
    "#q17\n",
    "battle('Metagross', 'Noibat') "
   ]
  },
  {
   "cell_type": "code",
   "execution_count": 23,
   "metadata": {
    "execution": {
     "iopub.execute_input": "2021-02-23T02:47:54.990252Z",
     "iopub.status.busy": "2021-02-23T02:47:54.989490Z",
     "iopub.status.idle": "2021-02-23T02:47:54.991731Z",
     "shell.execute_reply": "2021-02-23T02:47:54.992455Z"
    }
   },
   "outputs": [],
   "source": [
    "#defining battle function that takes region into account\n",
    "def final_battle(pkmn1,pkmn2):\n",
    "    if project.get_region(pkmn1)==project.get_region(pkmn2):\n",
    "        return battle(pkmn1,pkmn2)\n",
    "    else:\n",
    "        if (project.get_type1(pkmn1)=='Flying') or (project.get_type2(pkmn1)=='Flying'): \n",
    "            if (project.get_type1(pkmn2)=='Flying') or (project.get_type2(pkmn2)=='Flying'): \n",
    "                return battle(pkmn1,pkmn2)\n",
    "            else:\n",
    "                return \"Cannot battle\"\n",
    "        else:\n",
    "            return \"Cannot battle\""
   ]
  },
  {
   "cell_type": "code",
   "execution_count": 24,
   "metadata": {
    "execution": {
     "iopub.execute_input": "2021-02-23T02:47:54.997372Z",
     "iopub.status.busy": "2021-02-23T02:47:54.996523Z",
     "iopub.status.idle": "2021-02-23T02:47:54.999430Z",
     "shell.execute_reply": "2021-02-23T02:47:55.000136Z"
    }
   },
   "outputs": [
    {
     "data": {
      "text/plain": [
       "'Cannot battle'"
      ]
     },
     "execution_count": 1,
     "metadata": {},
     "output_type": "execute_result"
    }
   ],
   "source": [
    "#q18\n",
    "final_battle('Geodude', 'Snivy') "
   ]
  },
  {
   "cell_type": "code",
   "execution_count": 25,
   "metadata": {
    "execution": {
     "iopub.execute_input": "2021-02-23T02:47:55.005486Z",
     "iopub.status.busy": "2021-02-23T02:47:55.004620Z",
     "iopub.status.idle": "2021-02-23T02:47:55.007527Z",
     "shell.execute_reply": "2021-02-23T02:47:55.008233Z"
    }
   },
   "outputs": [
    {
     "data": {
      "text/plain": [
       "'Cannot battle'"
      ]
     },
     "execution_count": 1,
     "metadata": {},
     "output_type": "execute_result"
    }
   ],
   "source": [
    "#q19\n",
    "final_battle('Zapdos', 'Foongus')"
   ]
  },
  {
   "cell_type": "code",
   "execution_count": 26,
   "metadata": {
    "execution": {
     "iopub.execute_input": "2021-02-23T02:47:55.013179Z",
     "iopub.status.busy": "2021-02-23T02:47:55.012343Z",
     "iopub.status.idle": "2021-02-23T02:47:55.015247Z",
     "shell.execute_reply": "2021-02-23T02:47:55.015964Z"
    }
   },
   "outputs": [
    {
     "data": {
      "text/plain": [
       "'Starly'"
      ]
     },
     "execution_count": 1,
     "metadata": {},
     "output_type": "execute_result"
    }
   ],
   "source": [
    "#q20\n",
    "final_battle('Starly', 'Pidgey') "
   ]
  }
 ],
 "metadata": {
  "kernelspec": {
   "display_name": "Python 3",
   "language": "python",
   "name": "python3"
  },
  "language_info": {
   "codemirror_mode": {
    "name": "ipython",
    "version": 3
   },
   "file_extension": ".py",
   "mimetype": "text/x-python",
   "name": "python",
   "nbconvert_exporter": "python",
   "pygments_lexer": "ipython3",
   "version": "3.8.5"
  }
 },
 "nbformat": 4,
 "nbformat_minor": 4
}
